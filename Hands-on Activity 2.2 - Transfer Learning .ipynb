{
 "cells": [
  {
   "cell_type": "markdown",
   "id": "annual-sandwich",
   "metadata": {},
   "source": [
    "# Activity 2.2 - Transfer Learning "
   ]
  },
  {
   "cell_type": "markdown",
   "id": "great-fireplace",
   "metadata": {},
   "source": [
    "#### Objective(s):\n",
    "\n",
    "This activity aims to introduce how to apply transfer learning "
   ]
  },
  {
   "cell_type": "markdown",
   "id": "subjective-elimination",
   "metadata": {},
   "source": [
    "#### Intended Learning Outcomes (ILOs):\n",
    "* Demonstrate how to build and train neural network \n",
    "* Demonstrate how to apply transfer learning in neural network\n"
   ]
  },
  {
   "cell_type": "markdown",
   "id": "simplified-azerbaijan",
   "metadata": {},
   "source": [
    "#### Resources:\n",
    "* Jupyter Notebook\n",
    "* CIFAR-10 dataset"
   ]
  },
  {
   "cell_type": "markdown",
   "id": "ordinary-crime",
   "metadata": {},
   "source": [
    "#### Procedures\n",
    "Load the necessary libraries"
   ]
  },
  {
   "cell_type": "code",
   "execution_count": null,
   "id": "comic-joining",
   "metadata": {},
   "outputs": [],
   "source": [
    "from __future__ import print_function\n",
    "\n",
    "import datetime\n",
    "import keras\n",
    "from keras.datasets import mnist\n",
    "from keras.models import Sequential\n",
    "from keras.layers import Dense, Dropout, Activation, Flatten\n",
    "from keras.layers import Conv2D, MaxPooling2D\n",
    "from keras import backend as K"
   ]
  },
  {
   "cell_type": "markdown",
   "id": "moral-chair",
   "metadata": {},
   "source": [
    "Set the parameters"
   ]
  },
  {
   "cell_type": "code",
   "execution_count": null,
   "id": "sticky-metallic",
   "metadata": {},
   "outputs": [],
   "source": [
    "now = datetime.datetime.now\n",
    "batch_size = 128\n",
    "num_classes = 5\n",
    "epochs = 5\n",
    "img_rows, img_cols = 28, 28\n",
    "filters = 32\n",
    "pool_size = 2\n",
    "kernel_size = 3"
   ]
  },
  {
   "cell_type": "markdown",
   "id": "resident-activity",
   "metadata": {},
   "source": [
    "Set how the input data is loaded"
   ]
  },
  {
   "cell_type": "code",
   "execution_count": null,
   "id": "measured-queens",
   "metadata": {},
   "outputs": [],
   "source": [
    "\n",
    "if K.image_data_format() == 'channels_first':\n",
    "    input_shape = (1, img_rows, img_cols)\n",
    "else:\n",
    "    input_shape = (img_rows, img_cols, 1)"
   ]
  },
  {
   "cell_type": "markdown",
   "id": "jewish-russell",
   "metadata": {},
   "source": [
    "* Write a function to include all the training steps. \n",
    "* Use the model, training set, test set and number of classes as function parameters\n"
   ]
  },
  {
   "cell_type": "code",
   "execution_count": null,
   "id": "julian-batch",
   "metadata": {},
   "outputs": [],
   "source": [
    "def train_model(model, train, test, num_classes):\n",
    "    x_train = train[0].reshape((train[0].shape[0],) + input_shape)\n",
    "    x_test = test[0].reshape((test[0].shape[0],) + input_shape)\n",
    "    x_train = x_train.astype('float32')\n",
    "    x_test = x_test.astype('float32')\n",
    "    x_train /= 255\n",
    "    x_test /= 255\n",
    "    print('x_train shape:', x_train.shape)\n",
    "    print(x_train.shape[0], 'train samples')\n",
    "    print(x_test.shape[0], 'test samples')\n",
    "\n",
    "    # convert class vectors to binary class matrices\n",
    "    y_train = keras.utils.to_categorical(train[1], num_classes)\n",
    "    y_test = keras.utils.to_categorical(test[1], num_classes)\n",
    "\n",
    "    model.compile(loss='categorical_crossentropy',\n",
    "                  optimizer='adadelta',\n",
    "                  metrics=['accuracy'])\n",
    "\n",
    "    t = now()\n",
    "    model.fit(x_train, y_train,\n",
    "              batch_size=batch_size,\n",
    "              epochs=epochs,\n",
    "              verbose=1,\n",
    "              validation_data=(x_test, y_test))\n",
    "    print('Training time: %s' % (now() - t))\n",
    "\n",
    "    score = model.evaluate(x_test, y_test, verbose=0)\n",
    "    print('Test score:', score[0])\n",
    "    print('Test accuracy:', score[1])"
   ]
  },
  {
   "cell_type": "markdown",
   "id": "monetary-final",
   "metadata": {},
   "source": [
    "Shuffle and split the data between train and test sets"
   ]
  },
  {
   "cell_type": "code",
   "execution_count": null,
   "id": "hollywood-amendment",
   "metadata": {},
   "outputs": [],
   "source": [
    "\n",
    "(x_train, y_train), (x_test, y_test) = mnist.load_data()\n",
    "\n"
   ]
  },
  {
   "cell_type": "markdown",
   "id": "committed-bench",
   "metadata": {},
   "source": [
    "Create two datasets \n",
    "* one with digits below 5\n",
    "* one with 5 and above"
   ]
  },
  {
   "cell_type": "code",
   "execution_count": null,
   "id": "lesser-bradley",
   "metadata": {},
   "outputs": [],
   "source": [
    "x_train_lt5 = x_train[y_train < 5]\n",
    "y_train_lt5 = y_train[y_train < 5]\n",
    "x_test_lt5 = x_test[y_test < 5]\n",
    "y_test_lt5 = y_test[y_test < 5]\n",
    "\n",
    "x_train_gte5 = x_train[y_train >= 5]\n",
    "y_train_gte5 = y_train[y_train >= 5] - 5\n",
    "x_test_gte5 = x_test[y_test >= 5]\n",
    "y_test_gte5 = y_test[y_test >= 5] - 5"
   ]
  },
  {
   "cell_type": "markdown",
   "id": "talented-scheme",
   "metadata": {},
   "source": [
    "* Define the feature layers that will used for transfer learning\n",
    "* Freeze these layers during fine-tuning process"
   ]
  },
  {
   "cell_type": "code",
   "execution_count": null,
   "id": "ranging-neutral",
   "metadata": {},
   "outputs": [],
   "source": [
    "\n",
    "\n",
    "feature_layers = [\n",
    "    Conv2D(filters, kernel_size,\n",
    "           padding='valid',\n",
    "           input_shape=input_shape),\n",
    "    Activation('relu'),\n",
    "    Conv2D(filters, kernel_size),\n",
    "    Activation('relu'),\n",
    "    MaxPooling2D(pool_size=pool_size),\n",
    "    Dropout(0.25),\n",
    "    Flatten(),\n",
    "]"
   ]
  },
  {
   "cell_type": "markdown",
   "id": "bulgarian-accuracy",
   "metadata": {},
   "source": [
    "Define the classification layers"
   ]
  },
  {
   "cell_type": "code",
   "execution_count": null,
   "id": "religious-timer",
   "metadata": {},
   "outputs": [],
   "source": [
    "\n",
    "\n",
    "classification_layers = [\n",
    "    Dense(128),\n",
    "    Activation('relu'),\n",
    "    Dropout(0.5),\n",
    "    Dense(num_classes),\n",
    "    Activation('softmax')\n",
    "]"
   ]
  },
  {
   "cell_type": "markdown",
   "id": "yellow-puzzle",
   "metadata": {},
   "source": [
    "Create a model by combining the feature layers and classification layers"
   ]
  },
  {
   "cell_type": "code",
   "execution_count": null,
   "id": "governmental-portable",
   "metadata": {},
   "outputs": [],
   "source": [
    "\n",
    "model = Sequential(feature_layers + classification_layers)"
   ]
  },
  {
   "cell_type": "markdown",
   "id": "noticed-dairy",
   "metadata": {},
   "source": [
    "Check the model summary"
   ]
  },
  {
   "cell_type": "code",
   "execution_count": null,
   "id": "correct-syria",
   "metadata": {},
   "outputs": [],
   "source": [
    "\n",
    "model.summary()"
   ]
  },
  {
   "cell_type": "markdown",
   "id": "productive-regular",
   "metadata": {},
   "source": [
    " Train the  model on the digits 5,6,7,8,9"
   ]
  },
  {
   "cell_type": "code",
   "execution_count": null,
   "id": "distinct-ticket",
   "metadata": {},
   "outputs": [],
   "source": [
    "train_model(model,\n",
    "            (x_train_gte5, y_train_gte5),\n",
    "            (x_test_gte5, y_test_gte5), num_classes)"
   ]
  },
  {
   "cell_type": "markdown",
   "id": "racial-emission",
   "metadata": {},
   "source": [
    "Freeze only the feature layers"
   ]
  },
  {
   "cell_type": "code",
   "execution_count": null,
   "id": "violent-territory",
   "metadata": {},
   "outputs": [],
   "source": [
    "\n",
    "for l in feature_layers:\n",
    "    l.trainable = False"
   ]
  },
  {
   "cell_type": "markdown",
   "id": "continuous-injection",
   "metadata": {},
   "source": [
    "Check again the summary and observe the parameters from the previous model"
   ]
  },
  {
   "cell_type": "code",
   "execution_count": null,
   "id": "sunset-manhattan",
   "metadata": {},
   "outputs": [],
   "source": [
    "model.summary()"
   ]
  },
  {
   "cell_type": "markdown",
   "id": "modern-carnival",
   "metadata": {},
   "source": [
    "Train again the model using the 0 to 4 digits"
   ]
  },
  {
   "cell_type": "code",
   "execution_count": null,
   "id": "comprehensive-nurse",
   "metadata": {},
   "outputs": [],
   "source": [
    "train_model(model,\n",
    "            (x_train_lt5, y_train_lt5),\n",
    "            (x_test_lt5, y_test_lt5), num_classes)"
   ]
  },
  {
   "cell_type": "markdown",
   "id": "numerical-integer",
   "metadata": {},
   "source": [
    "#### Supplementary Activity\n",
    "Now write code to reverse this training process. That is, you will train on the digits 0-4, and then finetune only the last layers on the digits 5-9."
   ]
  },
  {
   "cell_type": "code",
   "execution_count": null,
   "id": "registered-venice",
   "metadata": {},
   "outputs": [],
   "source": [
    "### type your code here"
   ]
  },
  {
   "cell_type": "markdown",
   "id": "cardiovascular-sapphire",
   "metadata": {},
   "source": [
    "#### Conclusion"
   ]
  },
  {
   "cell_type": "markdown",
   "id": "conditional-prerequisite",
   "metadata": {},
   "source": [
    "#type your answer here"
   ]
  },
  {
   "cell_type": "code",
   "execution_count": null,
   "id": "sacred-silence",
   "metadata": {},
   "outputs": [],
   "source": []
  }
 ],
 "metadata": {
  "kernelspec": {
   "display_name": "Python 3",
   "language": "python",
   "name": "python3"
  },
  "language_info": {
   "codemirror_mode": {
    "name": "ipython",
    "version": 3
   },
   "file_extension": ".py",
   "mimetype": "text/x-python",
   "name": "python",
   "nbconvert_exporter": "python",
   "pygments_lexer": "ipython3",
   "version": "3.7.10"
  }
 },
 "nbformat": 4,
 "nbformat_minor": 5
}
