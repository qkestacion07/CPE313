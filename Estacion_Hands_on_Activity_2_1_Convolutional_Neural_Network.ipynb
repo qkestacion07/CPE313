{
  "cells": [
    {
      "cell_type": "markdown",
      "id": "historic-trainer",
      "metadata": {
        "id": "historic-trainer"
      },
      "source": [
        "# Activity 2.1 : Convolutional Neural Network\n"
      ]
    },
    {
      "cell_type": "markdown",
      "id": "olive-manner",
      "metadata": {
        "id": "olive-manner"
      },
      "source": [
        "#### Objective(s):\n",
        "\n",
        "This activity aims to introduce how to build a convolutional neural network\n"
      ]
    },
    {
      "cell_type": "markdown",
      "id": "happy-transport",
      "metadata": {
        "id": "happy-transport"
      },
      "source": [
        "#### Intended Learning Outcomes (ILOs):\n",
        "\n",
        "- Demonstrate how to build and train convolutional neural network\n",
        "- Evaluate the accuracy and loss of the model using convolutional neural network\n"
      ]
    },
    {
      "cell_type": "markdown",
      "id": "leading-providence",
      "metadata": {
        "id": "leading-providence"
      },
      "source": [
        "#### Resources:\n",
        "\n",
        "- Jupyter Notebook\n",
        "- CIFAR-10 dataset\n"
      ]
    },
    {
      "cell_type": "markdown",
      "id": "literary-trail",
      "metadata": {
        "id": "literary-trail"
      },
      "source": [
        "#### Procedures\n",
        "\n",
        "Load the necessary libraries\n"
      ]
    },
    {
      "cell_type": "code",
      "execution_count": 1,
      "id": "stretch-active",
      "metadata": {
        "id": "stretch-active"
      },
      "outputs": [
        {
          "name": "stdout",
          "output_type": "stream",
          "text": [
            "WARNING:tensorflow:From c:\\Users\\USER\\AppData\\Local\\Programs\\Python\\Python311\\Lib\\site-packages\\keras\\src\\losses.py:2976: The name tf.losses.sparse_softmax_cross_entropy is deprecated. Please use tf.compat.v1.losses.sparse_softmax_cross_entropy instead.\n",
            "\n"
          ]
        }
      ],
      "source": [
        "from __future__ import print_function\n",
        "import keras\n",
        "from keras.datasets import cifar10\n",
        "from keras.preprocessing.image import ImageDataGenerator\n",
        "from keras.models import Sequential\n",
        "from keras.layers import Dense, Dropout, Activation, Flatten\n",
        "from keras.layers import Conv2D, MaxPooling2D\n",
        "\n",
        "import matplotlib.pyplot as plt\n",
        "%matplotlib inline"
      ]
    },
    {
      "cell_type": "markdown",
      "id": "collaborative-seating",
      "metadata": {
        "id": "collaborative-seating"
      },
      "source": [
        "- Shuffle the data\n",
        "- Split the data into train and test sets\n"
      ]
    },
    {
      "cell_type": "code",
      "execution_count": 2,
      "id": "76a0aee2",
      "metadata": {},
      "outputs": [],
      "source": [
        "def plot_loss_acc(values,model_name='Model'):\n",
        "    labels = ['loss','accuracy']\n",
        "    colors = ['#1f77b4', '#2ca02c']\n",
        "    plt.figure(figsize=(5,1.2))\n",
        "    plt.table(cellText=[[labels[0],\"{:.4f}\".format(values[0])], [labels[1], \"{:.2%}\".format(values[1])]],\n",
        "            colWidths=[0.8, 0.8],\n",
        "            cellLoc='center',\n",
        "            loc='center',\n",
        "            cellColours=[['lightgrey', colors[0]], ['lightgrey', colors[1]]])\n",
        "    plt.title(model_name+' Loss and Accuracy',y=0.7)\n",
        "    plt.axis('off')\n",
        "    plt.tight_layout() "
      ]
    },
    {
      "cell_type": "code",
      "execution_count": 3,
      "id": "modular-springer",
      "metadata": {
        "colab": {
          "base_uri": "https://localhost:8080/"
        },
        "id": "modular-springer",
        "outputId": "e944279b-0430-411c-cca7-e26cf78ad6c6"
      },
      "outputs": [
        {
          "name": "stdout",
          "output_type": "stream",
          "text": [
            "x_train shape: (50000, 32, 32, 3)\n",
            "50000 train samples\n",
            "10000 test samples\n"
          ]
        }
      ],
      "source": [
        "(x_train, y_train), (x_test, y_test) = cifar10.load_data()\n",
        "print('x_train shape:', x_train.shape)\n",
        "print(x_train.shape[0], 'train samples')\n",
        "print(x_test.shape[0], 'test samples')"
      ]
    },
    {
      "cell_type": "code",
      "execution_count": 3,
      "id": "2db42107",
      "metadata": {},
      "outputs": [
        {
          "name": "stdout",
          "output_type": "stream",
          "text": [
            "test saved successfully\n"
          ]
        }
      ],
      "source": [
        "import pandas as pd\n",
        "\"\"\"\n",
        "def get_label(label):\n",
        "    classes = ['airplane', 'automobile', 'bird', 'cat', 'deer', 'dog', 'frog', 'horse', 'ship', 'truck']\n",
        "    return classes[label]\n",
        "\"\"\"\n",
        "def to_csv(x,y,name):\n",
        "    x = x.reshape(x.shape[0],-1)\n",
        "    temp_df = pd.DataFrame(x)\n",
        "    temp_df['label'] = [label[0] for label in y]\n",
        "    temp_df.to_csv(f'{name}.csv', index=False)\n",
        "    print(name,'saved successfully')\n",
        "\n",
        "#to_csv(x_train, y_train, 'train')\n",
        "#to_csv(x_test, y_test, 'test')"
      ]
    },
    {
      "cell_type": "markdown",
      "id": "female-carolina",
      "metadata": {
        "id": "female-carolina"
      },
      "source": [
        "Check the image size\n"
      ]
    },
    {
      "cell_type": "code",
      "execution_count": null,
      "id": "alleged-stephen",
      "metadata": {
        "colab": {
          "base_uri": "https://localhost:8080/"
        },
        "id": "alleged-stephen",
        "outputId": "32b6a5f5-6cad-46b7-b8c3-c14ef2c353ed"
      },
      "outputs": [
        {
          "data": {
            "text/plain": [
              "(32, 32, 3)"
            ]
          },
          "execution_count": 3,
          "metadata": {},
          "output_type": "execute_result"
        }
      ],
      "source": [
        "\n",
        "x_train[444].shape"
      ]
    },
    {
      "cell_type": "markdown",
      "id": "conscious-twenty",
      "metadata": {
        "id": "conscious-twenty"
      },
      "source": [
        "Visualize one of the images\n"
      ]
    },
    {
      "cell_type": "code",
      "execution_count": null,
      "id": "positive-creation",
      "metadata": {
        "colab": {
          "base_uri": "https://localhost:8080/",
          "height": 448
        },
        "id": "positive-creation",
        "outputId": "01120cd7-ae19-4d60-ed3f-8b6a0737d36d"
      },
      "outputs": [
        {
          "name": "stdout",
          "output_type": "stream",
          "text": [
            "[9]\n"
          ]
        },
        {
          "data": {
            "image/png": "[encoded data removed]",
            "text/plain": [
              "<Figure size 640x480 with 1 Axes>"
            ]
          },
          "metadata": {},
          "output_type": "display_data"
        }
      ],
      "source": [
        "print(y_train[444])\n",
        "plt.imshow(x_train[444]);"
      ]
    },
    {
      "cell_type": "code",
      "execution_count": 4,
      "id": "animated-rotation",
      "metadata": {
        "id": "animated-rotation"
      },
      "outputs": [],
      "source": [
        "num_classes = 10\n",
        "\n",
        "y_train = keras.utils.to_categorical(y_train, num_classes)\n",
        "y_test = keras.utils.to_categorical(y_test, num_classes)"
      ]
    },
    {
      "cell_type": "markdown",
      "id": "severe-filing",
      "metadata": {
        "id": "severe-filing"
      },
      "source": [
        "Instead of classes described by an integer between 0-9 we have a vector with a 1 in the (Pythonic) 9th position\n"
      ]
    },
    {
      "cell_type": "code",
      "execution_count": null,
      "id": "genetic-centre",
      "metadata": {
        "colab": {
          "base_uri": "https://localhost:8080/"
        },
        "id": "genetic-centre",
        "outputId": "2ebfe79a-5bca-4518-c2be-6abaf47be555"
      },
      "outputs": [
        {
          "data": {
            "text/plain": [
              "array([0., 0., 0., 0., 0., 0., 0., 0., 0., 1.], dtype=float32)"
            ]
          },
          "execution_count": 6,
          "metadata": {},
          "output_type": "execute_result"
        }
      ],
      "source": [
        "y_train[444]"
      ]
    },
    {
      "cell_type": "markdown",
      "id": "detected-education",
      "metadata": {
        "id": "detected-education"
      },
      "source": [
        "Convert to float and scale the datasets\n"
      ]
    },
    {
      "cell_type": "code",
      "execution_count": 5,
      "id": "familiar-damages",
      "metadata": {
        "id": "familiar-damages"
      },
      "outputs": [],
      "source": [
        "x_train = x_train.astype('float32')\n",
        "x_test = x_test.astype('float32')\n",
        "x_train /= 255\n",
        "x_test /= 255"
      ]
    },
    {
      "cell_type": "markdown",
      "id": "bizarre-smith",
      "metadata": {
        "id": "bizarre-smith"
      },
      "source": [
        "Build a CNN using Keras Sequential\n"
      ]
    },
    {
      "cell_type": "code",
      "execution_count": 6,
      "id": "understanding-milan",
      "metadata": {
        "colab": {
          "base_uri": "https://localhost:8080/"
        },
        "id": "understanding-milan",
        "outputId": "d7e7a0a7-8f03-48b5-95c9-8982fe07b330"
      },
      "outputs": [
        {
          "name": "stdout",
          "output_type": "stream",
          "text": [
            "WARNING:tensorflow:From c:\\Users\\USER\\AppData\\Local\\Programs\\Python\\Python311\\Lib\\site-packages\\keras\\src\\backend.py:873: The name tf.get_default_graph is deprecated. Please use tf.compat.v1.get_default_graph instead.\n",
            "\n",
            "WARNING:tensorflow:From c:\\Users\\USER\\AppData\\Local\\Programs\\Python\\Python311\\Lib\\site-packages\\keras\\src\\layers\\pooling\\max_pooling2d.py:161: The name tf.nn.max_pool is deprecated. Please use tf.nn.max_pool2d instead.\n",
            "\n",
            "Model: \"sequential\"\n",
            "_________________________________________________________________\n",
            " Layer (type)                Output Shape              Param #   \n",
            "=================================================================\n",
            " conv2d (Conv2D)             (None, 16, 16, 32)        2432      \n",
            "                                                                 \n",
            " activation (Activation)     (None, 16, 16, 32)        0         \n",
            "                                                                 \n",
            " conv2d_1 (Conv2D)           (None, 6, 6, 32)          25632     \n",
            "                                                                 \n",
            " activation_1 (Activation)   (None, 6, 6, 32)          0         \n",
            "                                                                 \n",
            " max_pooling2d (MaxPooling2  (None, 3, 3, 32)          0         \n",
            " D)                                                              \n",
            "                                                                 \n",
            " dropout (Dropout)           (None, 3, 3, 32)          0         \n",
            "                                                                 \n",
            " flatten (Flatten)           (None, 288)               0         \n",
            "                                                                 \n",
            " dense (Dense)               (None, 512)               147968    \n",
            "                                                                 \n",
            " activation_2 (Activation)   (None, 512)               0         \n",
            "                                                                 \n",
            " dropout_1 (Dropout)         (None, 512)               0         \n",
            "                                                                 \n",
            " dense_1 (Dense)             (None, 10)                5130      \n",
            "                                                                 \n",
            " activation_3 (Activation)   (None, 10)                0         \n",
            "                                                                 \n",
            "=================================================================\n",
            "Total params: 181162 (707.66 KB)\n",
            "Trainable params: 181162 (707.66 KB)\n",
            "Non-trainable params: 0 (0.00 Byte)\n",
            "_________________________________________________________________\n"
          ]
        }
      ],
      "source": [
        "\n",
        "model_1 = Sequential()\n",
        "\n",
        "\n",
        "## 5x5 convolution with 2x2 stride and 32 filters\n",
        "model_1.add(Conv2D(32, (5, 5), strides = (2,2), padding='same',\n",
        "                 input_shape=x_train.shape[1:]))\n",
        "model_1.add(Activation('relu'))\n",
        "\n",
        "## Another 5x5 convolution with 2x2 stride and 32 filters\n",
        "model_1.add(Conv2D(32, (5, 5), strides = (2,2)))\n",
        "model_1.add(Activation('relu'))\n",
        "\n",
        "## 2x2 max pooling reduces to 3 x 3 x 32\n",
        "model_1.add(MaxPooling2D(pool_size=(2, 2)))\n",
        "model_1.add(Dropout(0.25))\n",
        "\n",
        "## Flatten turns 3x3x32 into 288x1\n",
        "model_1.add(Flatten())\n",
        "model_1.add(Dense(512))\n",
        "model_1.add(Activation('relu'))\n",
        "model_1.add(Dropout(0.5))\n",
        "model_1.add(Dense(num_classes))\n",
        "model_1.add(Activation('softmax'))\n",
        "\n",
        "model_1.summary()"
      ]
    },
    {
      "cell_type": "markdown",
      "id": "baking-portable",
      "metadata": {
        "id": "baking-portable"
      },
      "source": [
        "- Use batch size of 32\n",
        "- Initiate RMSprop optimizer\n",
        "- Train the model using RMSprop\n"
      ]
    },
    {
      "cell_type": "code",
      "execution_count": 7,
      "id": "removed-memorial",
      "metadata": {
        "colab": {
          "base_uri": "https://localhost:8080/"
        },
        "id": "removed-memorial",
        "outputId": "89bbf3e5-9849-4401-f34b-893c682a04a3"
      },
      "outputs": [
        {
          "name": "stderr",
          "output_type": "stream",
          "text": [
            "WARNING:absl:`lr` is deprecated in Keras optimizer, please use `learning_rate` or use the legacy optimizer, e.g.,tf.keras.optimizers.legacy.RMSprop.\n"
          ]
        },
        {
          "name": "stdout",
          "output_type": "stream",
          "text": [
            "Epoch 1/15\n",
            "WARNING:tensorflow:From c:\\Users\\USER\\AppData\\Local\\Programs\\Python\\Python311\\Lib\\site-packages\\keras\\src\\utils\\tf_utils.py:492: The name tf.ragged.RaggedTensorValue is deprecated. Please use tf.compat.v1.ragged.RaggedTensorValue instead.\n",
            "\n"
          ]
        },
        {
          "name": "stderr",
          "output_type": "stream",
          "text": [
            "WARNING:tensorflow:From c:\\Users\\USER\\AppData\\Local\\Programs\\Python\\Python311\\Lib\\site-packages\\keras\\src\\utils\\tf_utils.py:492: The name tf.ragged.RaggedTensorValue is deprecated. Please use tf.compat.v1.ragged.RaggedTensorValue instead.\n",
            "\n"
          ]
        },
        {
          "name": "stdout",
          "output_type": "stream",
          "text": [
            "WARNING:tensorflow:From c:\\Users\\USER\\AppData\\Local\\Programs\\Python\\Python311\\Lib\\site-packages\\keras\\src\\engine\\base_layer_utils.py:384: The name tf.executing_eagerly_outside_functions is deprecated. Please use tf.compat.v1.executing_eagerly_outside_functions instead.\n",
            "\n"
          ]
        },
        {
          "name": "stderr",
          "output_type": "stream",
          "text": [
            "WARNING:tensorflow:From c:\\Users\\USER\\AppData\\Local\\Programs\\Python\\Python311\\Lib\\site-packages\\keras\\src\\engine\\base_layer_utils.py:384: The name tf.executing_eagerly_outside_functions is deprecated. Please use tf.compat.v1.executing_eagerly_outside_functions instead.\n",
            "\n"
          ]
        },
        {
          "name": "stdout",
          "output_type": "stream",
          "text": [
            "1563/1563 [==============================] - 25s 14ms/step - loss: 1.7082 - accuracy: 0.3756 - val_loss: 1.6184 - val_accuracy: 0.4300\n",
            "Epoch 2/15\n",
            "1563/1563 [==============================] - 19s 12ms/step - loss: 1.4326 - accuracy: 0.4846 - val_loss: 1.2890 - val_accuracy: 0.5437\n",
            "Epoch 3/15\n",
            "1563/1563 [==============================] - 19s 12ms/step - loss: 1.3616 - accuracy: 0.5158 - val_loss: 1.4001 - val_accuracy: 0.4960\n",
            "Epoch 4/15\n",
            "1563/1563 [==============================] - 20s 13ms/step - loss: 1.3239 - accuracy: 0.5325 - val_loss: 1.2037 - val_accuracy: 0.5716\n",
            "Epoch 5/15\n",
            "1563/1563 [==============================] - 19s 12ms/step - loss: 1.2903 - accuracy: 0.5492 - val_loss: 1.2204 - val_accuracy: 0.5731\n",
            "Epoch 6/15\n",
            "1563/1563 [==============================] - 20s 13ms/step - loss: 1.2700 - accuracy: 0.5588 - val_loss: 1.1886 - val_accuracy: 0.5963\n",
            "Epoch 7/15\n",
            "1563/1563 [==============================] - 19s 12ms/step - loss: 1.2530 - accuracy: 0.5647 - val_loss: 1.2519 - val_accuracy: 0.5769\n",
            "Epoch 8/15\n",
            "1563/1563 [==============================] - 19s 12ms/step - loss: 1.2512 - accuracy: 0.5686 - val_loss: 1.1313 - val_accuracy: 0.6097\n",
            "Epoch 9/15\n",
            "1563/1563 [==============================] - 21s 13ms/step - loss: 1.2531 - accuracy: 0.5717 - val_loss: 1.2521 - val_accuracy: 0.5788\n",
            "Epoch 10/15\n",
            "1563/1563 [==============================] - 23s 15ms/step - loss: 1.2403 - accuracy: 0.5752 - val_loss: 1.2356 - val_accuracy: 0.5766\n",
            "Epoch 11/15\n",
            "1563/1563 [==============================] - 20s 13ms/step - loss: 1.2433 - accuracy: 0.5788 - val_loss: 1.1806 - val_accuracy: 0.5897\n",
            "Epoch 12/15\n",
            "1563/1563 [==============================] - 21s 14ms/step - loss: 1.2388 - accuracy: 0.5781 - val_loss: 1.2895 - val_accuracy: 0.5681\n",
            "Epoch 13/15\n",
            "1563/1563 [==============================] - 20s 13ms/step - loss: 1.2548 - accuracy: 0.5777 - val_loss: 1.4006 - val_accuracy: 0.5237\n",
            "Epoch 14/15\n",
            "1563/1563 [==============================] - 21s 13ms/step - loss: 1.2566 - accuracy: 0.5757 - val_loss: 1.2239 - val_accuracy: 0.5761\n",
            "Epoch 15/15\n",
            "1563/1563 [==============================] - 21s 13ms/step - loss: 1.2622 - accuracy: 0.5777 - val_loss: 1.2913 - val_accuracy: 0.5685\n"
          ]
        }
      ],
      "source": [
        "from time import time\n",
        "batch_size = 32\n",
        "\n",
        "opt = keras.optimizers.RMSprop(lr=0.0005)\n",
        "\n",
        "\n",
        "model_1.compile(loss='categorical_crossentropy',\n",
        "              optimizer=opt,\n",
        "              metrics=['accuracy'])\n",
        "start = time()\n",
        "model_1.fit(x_train, y_train,\n",
        "              batch_size=batch_size,\n",
        "              epochs=15,\n",
        "              validation_data=(x_test, y_test))\n",
        "model1_time = time() - start"
      ]
    },
    {
      "cell_type": "code",
      "execution_count": 8,
      "id": "e2c321db",
      "metadata": {},
      "outputs": [
        {
          "name": "stdout",
          "output_type": "stream",
          "text": [
            "1563/1563 [==============================] - 9s 6ms/step - loss: 1.1613 - accuracy: 0.6035\n"
          ]
        },
        {
          "data": {
            "image/png": "[encoded data removed]",
            "text/plain": [
              "<Figure size 500x120 with 1 Axes>"
            ]
          },
          "metadata": {},
          "output_type": "display_data"
        }
      ],
      "source": [
        "model1_train_eval = model_1.evaluate(x_train,y_train)\n",
        "plot_loss_acc(model1_train_eval,)"
      ]
    },
    {
      "cell_type": "code",
      "execution_count": null,
      "id": "b8c66a05",
      "metadata": {},
      "outputs": [],
      "source": [
        "model1_train_eval = model_1.evaluate(x_train,y_train)\n",
        "plot_loss_acc(model1_train_eval)"
      ]
    },
    {
      "cell_type": "markdown",
      "id": "b928de4a",
      "metadata": {},
      "source": [
        "The model took a little more than five minutes to train in fifteen epochs. With a learning rate of 0.005, the model got a loss of "
      ]
    },
    {
      "cell_type": "markdown",
      "id": "jewish-lambda",
      "metadata": {
        "id": "jewish-lambda"
      },
      "source": [
        "#### Supplementary Activity\n"
      ]
    },
    {
      "cell_type": "markdown",
      "id": "southeast-theater",
      "metadata": {
        "id": "southeast-theater"
      },
      "source": [
        "- Build a more complicated model with the following pattern:\n",
        "  Conv -> Conv -> MaxPool -> Conv -> Conv -> MaxPool -> (Flatten) -> Dense -> Final Classification\n",
        "\n",
        "- Use strides of 1 for all convolutional layers.\n",
        "\n",
        "- Write the number of parameters of your model and compare it to the previous model\n",
        "\n",
        "- Train it for 5 epochs. Commpare the training time, loss and accuracy numbers (on both the training and validation sets)?\n",
        "\n",
        "- Use different structures and run times, and see how accurate your model can be.\n"
      ]
    },
    {
      "cell_type": "code",
      "execution_count": 5,
      "id": "29x_KyE8TYj8",
      "metadata": {
        "colab": {
          "base_uri": "https://localhost:8080/",
          "height": 393
        },
        "id": "29x_KyE8TYj8",
        "outputId": "8a4f6371-e6ad-4f8f-9a8a-31dece5e924d"
      },
      "outputs": [
        {
          "name": "stdout",
          "output_type": "stream",
          "text": [
            "WARNING:tensorflow:From c:\\Users\\USER\\AppData\\Local\\Programs\\Python\\Python311\\Lib\\site-packages\\keras\\src\\backend.py:873: The name tf.get_default_graph is deprecated. Please use tf.compat.v1.get_default_graph instead.\n",
            "\n",
            "WARNING:tensorflow:From c:\\Users\\USER\\AppData\\Local\\Programs\\Python\\Python311\\Lib\\site-packages\\keras\\src\\layers\\pooling\\max_pooling2d.py:161: The name tf.nn.max_pool is deprecated. Please use tf.nn.max_pool2d instead.\n",
            "\n",
            "Model: \"sequential\"\n",
            "_________________________________________________________________\n",
            " Layer (type)                Output Shape              Param #   \n",
            "=================================================================\n",
            " conv2d (Conv2D)             (None, 32, 32, 32)        2432      \n",
            "                                                                 \n",
            " activation (Activation)     (None, 32, 32, 32)        0         \n",
            "                                                                 \n",
            " conv2d_1 (Conv2D)           (None, 28, 28, 32)        25632     \n",
            "                                                                 \n",
            " activation_1 (Activation)   (None, 28, 28, 32)        0         \n",
            "                                                                 \n",
            " max_pooling2d (MaxPooling2  (None, 14, 14, 32)        0         \n",
            " D)                                                              \n",
            "                                                                 \n",
            " dropout (Dropout)           (None, 14, 14, 32)        0         \n",
            "                                                                 \n",
            " conv2d_2 (Conv2D)           (None, 10, 10, 32)        25632     \n",
            "                                                                 \n",
            " activation_2 (Activation)   (None, 10, 10, 32)        0         \n",
            "                                                                 \n",
            " conv2d_3 (Conv2D)           (None, 6, 6, 32)          25632     \n",
            "                                                                 \n",
            " activation_3 (Activation)   (None, 6, 6, 32)          0         \n",
            "                                                                 \n",
            " max_pooling2d_1 (MaxPoolin  (None, 3, 3, 32)          0         \n",
            " g2D)                                                            \n",
            "                                                                 \n",
            " dropout_1 (Dropout)         (None, 3, 3, 32)          0         \n",
            "                                                                 \n",
            " flatten (Flatten)           (None, 288)               0         \n",
            "                                                                 \n",
            " dense (Dense)               (None, 512)               147968    \n",
            "                                                                 \n",
            " dense_1 (Dense)             (None, 10)                5130      \n",
            "                                                                 \n",
            " activation_4 (Activation)   (None, 10)                0         \n",
            "                                                                 \n",
            "=================================================================\n",
            "Total params: 232426 (907.91 KB)\n",
            "Trainable params: 232426 (907.91 KB)\n",
            "Non-trainable params: 0 (0.00 Byte)\n",
            "_________________________________________________________________\n"
          ]
        }
      ],
      "source": [
        "model_2 = Sequential()\n",
        "\n",
        "## 5x5 convolution with 2x2 stride and 32 filters\n",
        "#Conv\n",
        "model_2.add(Conv2D(32, (5, 5), strides = (1,1), padding='same',\n",
        "                 input_shape=x_train.shape[1:]))\n",
        "model_2.add(Activation('relu'))\n",
        "\n",
        "#Conv\n",
        "model_2.add(Conv2D(32, (5, 5), strides = (1,1)))\n",
        "model_2.add(Activation('relu'))\n",
        "\n",
        "#MaxPool\n",
        "model_2.add(MaxPooling2D(pool_size=(2, 2)))\n",
        "model_2.add(Dropout(0.25))\n",
        "\n",
        "#Conv\n",
        "model_2.add(Conv2D(32, (5, 5), strides = (1,1)))\n",
        "model_2.add(Activation('relu'))\n",
        "\n",
        "#Conv\n",
        "model_2.add(Conv2D(32, (5, 5), strides = (1,1)))\n",
        "model_2.add(Activation('relu'))\n",
        "\n",
        "#MaxPool\n",
        "model_2.add(MaxPooling2D(pool_size=(2, 2)))\n",
        "model_2.add(Dropout(0.25))\n",
        "\n",
        "## Flatten turns 3x3x32 into 288x1\n",
        "#Flatten\n",
        "model_2.add(Flatten())\n",
        "#Dense\n",
        "model_2.add(Dense(512))\n",
        "\n",
        "#Final Classification\n",
        "model_2.add(Dense(num_classes))\n",
        "model_2.add(Activation('softmax'))\n",
        "\n",
        "model_2.summary()"
      ]
    },
    {
      "cell_type": "markdown",
      "id": "90867921",
      "metadata": {},
      "source": [
        "![Alt text](Model1andModel2..png)\n"
      ]
    },
    {
      "cell_type": "markdown",
      "id": "6623018b",
      "metadata": {},
      "source": [
        "The second model have 232, 426 total paramters all of which are trainable. This model's first and second convolution layers are identical to the first one with 2, 432 and 25, 632 parameters. They also have identical number of paramters in dense and in the final classification dense with the first model at 147, 968 and 5130 parameters. The difference is that the second model have two more convolutional layer adding two 25, 632 paramters. Thus, the second model is up by 50, 000 parameters.\n"
      ]
    },
    {
      "cell_type": "code",
      "execution_count": 9,
      "id": "b3452ce1",
      "metadata": {},
      "outputs": [
        {
          "name": "stdout",
          "output_type": "stream",
          "text": [
            "Epoch 1/5\n",
            "1563/1563 [==============================] - 129s 82ms/step - loss: 0.9437 - accuracy: 0.6701 - val_loss: 0.9153 - val_accuracy: 0.6817\n",
            "Epoch 2/5\n",
            "1563/1563 [==============================] - 131s 84ms/step - loss: 0.9060 - accuracy: 0.6832 - val_loss: 0.8447 - val_accuracy: 0.7079\n",
            "Epoch 3/5\n",
            "1563/1563 [==============================] - 129s 83ms/step - loss: 0.8706 - accuracy: 0.6984 - val_loss: 0.8541 - val_accuracy: 0.7096\n",
            "Epoch 4/5\n",
            "1563/1563 [==============================] - 137s 88ms/step - loss: 0.8508 - accuracy: 0.7060 - val_loss: 0.8500 - val_accuracy: 0.7076\n",
            "Epoch 5/5\n",
            "1563/1563 [==============================] - 132s 85ms/step - loss: 0.8252 - accuracy: 0.7130 - val_loss: 0.8702 - val_accuracy: 0.7021\n"
          ]
        },
        {
          "data": {
            "text/plain": [
              "<keras.src.callbacks.History at 0x253c33a9590>"
            ]
          },
          "execution_count": 9,
          "metadata": {},
          "output_type": "execute_result"
        }
      ],
      "source": [
        "batch_size = 32\n",
        "epoch = 5\n",
        "opt = keras.optimizers.RMSprop(learning_rate=0.0005)\n",
        "\n",
        "\n",
        "model_2.compile(loss='categorical_crossentropy',\n",
        "              optimizer=opt,\n",
        "              metrics=['accuracy'])\n",
        "\n",
        "model_2.fit(x_train, y_train,\n",
        "              batch_size=batch_size,\n",
        "              epochs=epoch,\n",
        "              validation_data=(x_test, y_test))"
      ]
    },
    {
      "cell_type": "code",
      "execution_count": 36,
      "id": "c279a8b8",
      "metadata": {},
      "outputs": [
        {
          "name": "stdout",
          "output_type": "stream",
          "text": [
            "1563/1563 [==============================] - 40s 25ms/step - loss: 0.7257 - accuracy: 0.7459\n"
          ]
        },
        {
          "data": {
            "image/png": "[encoded data removed]",
            "text/plain": [
              "<Figure size 500x120 with 1 Axes>"
            ]
          },
          "metadata": {},
          "output_type": "display_data"
        }
      ],
      "source": [
        "model2_train_eval = model_2.evaluate(x_train,y_train)\n",
        "plot_loss_acc(model2_train_eval)"
      ]
    },
    {
      "cell_type": "code",
      "execution_count": 37,
      "id": "37023ce8",
      "metadata": {},
      "outputs": [
        {
          "name": "stdout",
          "output_type": "stream",
          "text": [
            "313/313 [==============================] - 6s 19ms/step - loss: 0.8702 - accuracy: 0.7021\n"
          ]
        },
        {
          "data": {
            "image/png": "[encoded data removed]",
            "text/plain": [
              "<Figure size 500x120 with 1 Axes>"
            ]
          },
          "metadata": {},
          "output_type": "display_data"
        }
      ],
      "source": [
        "model2_test_eval = model_2.evaluate(x_test,y_test)\n",
        "plot_loss_acc(model2_test_eval)"
      ]
    },
    {
      "cell_type": "markdown",
      "id": "9409ba3e",
      "metadata": {},
      "source": [
        "Trying to increase the accuracy\n"
      ]
    },
    {
      "cell_type": "code",
      "execution_count": null,
      "id": "bac1f169",
      "metadata": {},
      "outputs": [],
      "source": [
        "batch_size = 64\n",
        "epoch = 20\n",
        "opt = keras.optimizers.RMSprop(learning_rate=0.0001)\n",
        "\n",
        "model_2.compile(loss='categorical_crossentropy',\n",
        "              optimizer=opt,\n",
        "              metrics=['accuracy'])\n",
        "\n",
        "model_2.fit(x_train, y_train,\n",
        "              batch_size=batch_size,\n",
        "              epochs=epoch,\n",
        "              validation_data=(x_train, y_train))"
      ]
    },
    {
      "cell_type": "markdown",
      "id": "compact-still",
      "metadata": {
        "id": "compact-still"
      },
      "source": [
        "#### Conclusion\n"
      ]
    },
    {
      "cell_type": "markdown",
      "id": "e84a0ab5",
      "metadata": {},
      "source": []
    },
    {
      "cell_type": "markdown",
      "id": "desirable-jackson",
      "metadata": {
        "id": "desirable-jackson"
      },
      "source": [
        "#type your answer here\n"
      ]
    },
    {
      "cell_type": "code",
      "execution_count": null,
      "id": "expired-community",
      "metadata": {
        "id": "expired-community"
      },
      "outputs": [],
      "source": []
    }
  ],
  "metadata": {
    "colab": {
      "provenance": []
    },
    "kernelspec": {
      "display_name": "Python 3",
      "language": "python",
      "name": "python3"
    },
    "language_info": {
      "codemirror_mode": {
        "name": "ipython",
        "version": 3
      },
      "file_extension": ".py",
      "mimetype": "text/x-python",
      "name": "python",
      "nbconvert_exporter": "python",
      "pygments_lexer": "ipython3",
      "version": "3.11.4"
    }
  },
  "nbformat": 4,
  "nbformat_minor": 5
}
