{
 "cells": [
  {
   "cell_type": "markdown",
   "id": "annual-sandwich",
   "metadata": {},
   "source": [
    "# Activity 2.2 - Transfer Learning\n"
   ]
  },
  {
   "cell_type": "markdown",
   "id": "great-fireplace",
   "metadata": {},
   "source": [
    "#### Objective(s):\n",
    "\n",
    "This activity aims to introduce how to apply transfer learning\n"
   ]
  },
  {
   "cell_type": "markdown",
   "id": "subjective-elimination",
   "metadata": {},
   "source": [
    "#### Intended Learning Outcomes (ILOs):\n",
    "\n",
    "- Demonstrate how to build and train neural network\n",
    "- Demonstrate how to apply transfer learning in neural network\n"
   ]
  },
  {
   "cell_type": "markdown",
   "id": "simplified-azerbaijan",
   "metadata": {},
   "source": [
    "#### Resources:\n",
    "\n",
    "- Jupyter Notebook\n",
    "- CIFAR-10 dataset\n"
   ]
  },
  {
   "cell_type": "markdown",
   "id": "ordinary-crime",
   "metadata": {},
   "source": [
    "#### Procedures\n",
    "\n",
    "Load the necessary libraries\n"
   ]
  },
  {
   "cell_type": "code",
   "execution_count": 2,
   "id": "comic-joining",
   "metadata": {},
   "outputs": [
    {
     "name": "stdout",
     "output_type": "stream",
     "text": [
      "WARNING:tensorflow:From c:\\Users\\USER\\AppData\\Local\\Programs\\Python\\Python311\\Lib\\site-packages\\keras\\src\\losses.py:2976: The name tf.losses.sparse_softmax_cross_entropy is deprecated. Please use tf.compat.v1.losses.sparse_softmax_cross_entropy instead.\n",
      "\n"
     ]
    }
   ],
   "source": [
    "from __future__ import print_function\n",
    "\n",
    "import datetime\n",
    "import keras\n",
    "from keras.datasets import mnist\n",
    "from keras.models import Sequential\n",
    "from keras.layers import Dense, Dropout, Activation, Flatten\n",
    "from keras.layers import Conv2D, MaxPooling2D\n",
    "from keras import backend as K"
   ]
  },
  {
   "cell_type": "markdown",
   "id": "moral-chair",
   "metadata": {},
   "source": [
    "Set the parameters\n"
   ]
  },
  {
   "cell_type": "code",
   "execution_count": 3,
   "id": "sticky-metallic",
   "metadata": {},
   "outputs": [],
   "source": [
    "now = datetime.datetime.now\n",
    "batch_size = 128\n",
    "num_classes = 5\n",
    "epochs = 5\n",
    "img_rows, img_cols = 28, 28\n",
    "filters = 32\n",
    "pool_size = 2\n",
    "kernel_size = 3"
   ]
  },
  {
   "cell_type": "markdown",
   "id": "resident-activity",
   "metadata": {},
   "source": [
    "Set how the input data is loaded\n"
   ]
  },
  {
   "cell_type": "code",
   "execution_count": 4,
   "id": "measured-queens",
   "metadata": {},
   "outputs": [],
   "source": [
    "if K.image_data_format() == 'channels_first':\n",
    "    input_shape = (1, img_rows, img_cols)\n",
    "else:\n",
    "    input_shape = (img_rows, img_cols, 1)"
   ]
  },
  {
   "cell_type": "markdown",
   "id": "jewish-russell",
   "metadata": {},
   "source": [
    "- Write a function to include all the training steps.\n",
    "- Use the model, training set, test set and number of classes as function parameters\n"
   ]
  },
  {
   "cell_type": "code",
   "execution_count": 5,
   "id": "julian-batch",
   "metadata": {},
   "outputs": [],
   "source": [
    "def train_model(model, train, test, num_classes):\n",
    "    x_train = train[0].reshape((train[0].shape[0],) + input_shape)\n",
    "    x_test = test[0].reshape((test[0].shape[0],) + input_shape)\n",
    "    x_train = x_train.astype('float32')\n",
    "    x_test = x_test.astype('float32')\n",
    "    x_train /= 255\n",
    "    x_test /= 255\n",
    "    print('x_train shape:', x_train.shape)\n",
    "    print(x_train.shape[0], 'train samples')\n",
    "    print(x_test.shape[0], 'test samples')\n",
    "\n",
    "    # convert class vectors to binary class matrices\n",
    "    y_train = keras.utils.to_categorical(train[1], num_classes)\n",
    "    y_test = keras.utils.to_categorical(test[1], num_classes)\n",
    "\n",
    "    model.compile(loss='categorical_crossentropy',\n",
    "                  optimizer='adadelta',\n",
    "                  metrics=['accuracy'])\n",
    "\n",
    "    t = now()\n",
    "    history = model.fit(x_train, y_train,\n",
    "              batch_size=batch_size,\n",
    "              epochs=epochs,\n",
    "              verbose=1,\n",
    "              validation_data=(x_test, y_test))\n",
    "    training_time = now() - t\n",
    "    print('Training time: %s' % training_time)\n",
    "\n",
    "    score = model.evaluate(x_test, y_test, verbose=0)\n",
    "    print('Test score:', score[0])\n",
    "    print('Test accuracy:', score[1])\n",
    "    return history, score, training_time"
   ]
  },
  {
   "cell_type": "markdown",
   "id": "monetary-final",
   "metadata": {},
   "source": [
    "Shuffle and split the data between train and test sets\n"
   ]
  },
  {
   "cell_type": "code",
   "execution_count": 6,
   "id": "hollywood-amendment",
   "metadata": {},
   "outputs": [],
   "source": [
    "(x_train, y_train), (x_test, y_test) = mnist.load_data()"
   ]
  },
  {
   "cell_type": "markdown",
   "id": "committed-bench",
   "metadata": {},
   "source": [
    "Create two datasets\n",
    "\n",
    "- one with digits below 5\n",
    "- one with 5 and above\n"
   ]
  },
  {
   "cell_type": "code",
   "execution_count": 7,
   "id": "lesser-bradley",
   "metadata": {},
   "outputs": [],
   "source": [
    "x_train_lt5 = x_train[y_train < 5]\n",
    "y_train_lt5 = y_train[y_train < 5]\n",
    "x_test_lt5 = x_test[y_test < 5]\n",
    "y_test_lt5 = y_test[y_test < 5]\n",
    "\n",
    "x_train_gte5 = x_train[y_train >= 5]\n",
    "y_train_gte5 = y_train[y_train >= 5] - 5\n",
    "x_test_gte5 = x_test[y_test >= 5]\n",
    "y_test_gte5 = y_test[y_test >= 5] - 5"
   ]
  },
  {
   "cell_type": "markdown",
   "id": "talented-scheme",
   "metadata": {},
   "source": [
    "- Define the feature layers that will used for transfer learning\n",
    "- Freeze these layers during fine-tuning process\n"
   ]
  },
  {
   "cell_type": "code",
   "execution_count": 8,
   "id": "ranging-neutral",
   "metadata": {},
   "outputs": [
    {
     "name": "stdout",
     "output_type": "stream",
     "text": [
      "WARNING:tensorflow:From c:\\Users\\USER\\AppData\\Local\\Programs\\Python\\Python311\\Lib\\site-packages\\keras\\src\\backend.py:873: The name tf.get_default_graph is deprecated. Please use tf.compat.v1.get_default_graph instead.\n",
      "\n",
      "WARNING:tensorflow:From c:\\Users\\USER\\AppData\\Local\\Programs\\Python\\Python311\\Lib\\site-packages\\keras\\src\\layers\\pooling\\max_pooling2d.py:161: The name tf.nn.max_pool is deprecated. Please use tf.nn.max_pool2d instead.\n",
      "\n"
     ]
    }
   ],
   "source": [
    "feature_layers = [\n",
    "    Conv2D(filters, kernel_size,\n",
    "           padding='valid',\n",
    "           input_shape=input_shape),\n",
    "    Activation('relu'),\n",
    "    Conv2D(filters, kernel_size),\n",
    "    Activation('relu'),\n",
    "    MaxPooling2D(pool_size=pool_size),\n",
    "    Dropout(0.25),\n",
    "    Flatten(),\n",
    "]"
   ]
  },
  {
   "cell_type": "markdown",
   "id": "bulgarian-accuracy",
   "metadata": {},
   "source": [
    "Define the classification layers\n"
   ]
  },
  {
   "cell_type": "code",
   "execution_count": 9,
   "id": "religious-timer",
   "metadata": {},
   "outputs": [],
   "source": [
    "classification_layers = [\n",
    "    Dense(128),\n",
    "    Activation('relu'),\n",
    "    Dropout(0.5),\n",
    "    Dense(num_classes),\n",
    "    Activation('softmax')\n",
    "]"
   ]
  },
  {
   "cell_type": "markdown",
   "id": "yellow-puzzle",
   "metadata": {},
   "source": [
    "Create a model by combining the feature layers and classification layers\n"
   ]
  },
  {
   "cell_type": "code",
   "execution_count": 10,
   "id": "governmental-portable",
   "metadata": {},
   "outputs": [],
   "source": [
    "model = Sequential(feature_layers + classification_layers)"
   ]
  },
  {
   "cell_type": "markdown",
   "id": "noticed-dairy",
   "metadata": {},
   "source": [
    "Check the model summary\n"
   ]
  },
  {
   "cell_type": "code",
   "execution_count": 11,
   "id": "correct-syria",
   "metadata": {},
   "outputs": [
    {
     "name": "stdout",
     "output_type": "stream",
     "text": [
      "Model: \"sequential\"\n",
      "_________________________________________________________________\n",
      " Layer (type)                Output Shape              Param #   \n",
      "=================================================================\n",
      " conv2d (Conv2D)             (None, 26, 26, 32)        320       \n",
      "                                                                 \n",
      " activation (Activation)     (None, 26, 26, 32)        0         \n",
      "                                                                 \n",
      " conv2d_1 (Conv2D)           (None, 24, 24, 32)        9248      \n",
      "                                                                 \n",
      " activation_1 (Activation)   (None, 24, 24, 32)        0         \n",
      "                                                                 \n",
      " max_pooling2d (MaxPooling2  (None, 12, 12, 32)        0         \n",
      " D)                                                              \n",
      "                                                                 \n",
      " dropout (Dropout)           (None, 12, 12, 32)        0         \n",
      "                                                                 \n",
      " flatten (Flatten)           (None, 4608)              0         \n",
      "                                                                 \n",
      " dense (Dense)               (None, 128)               589952    \n",
      "                                                                 \n",
      " activation_2 (Activation)   (None, 128)               0         \n",
      "                                                                 \n",
      " dropout_1 (Dropout)         (None, 128)               0         \n",
      "                                                                 \n",
      " dense_1 (Dense)             (None, 5)                 645       \n",
      "                                                                 \n",
      " activation_3 (Activation)   (None, 5)                 0         \n",
      "                                                                 \n",
      "=================================================================\n",
      "Total params: 600165 (2.29 MB)\n",
      "Trainable params: 600165 (2.29 MB)\n",
      "Non-trainable params: 0 (0.00 Byte)\n",
      "_________________________________________________________________\n"
     ]
    }
   ],
   "source": [
    "model.summary()"
   ]
  },
  {
   "cell_type": "markdown",
   "id": "productive-regular",
   "metadata": {},
   "source": [
    "Train the model on the digits 5,6,7,8,9\n"
   ]
  },
  {
   "cell_type": "code",
   "execution_count": 12,
   "id": "distinct-ticket",
   "metadata": {},
   "outputs": [
    {
     "name": "stdout",
     "output_type": "stream",
     "text": [
      "x_train shape: (29404, 28, 28, 1)\n",
      "29404 train samples\n",
      "4861 test samples\n",
      "WARNING:tensorflow:From c:\\Users\\USER\\AppData\\Local\\Programs\\Python\\Python311\\Lib\\site-packages\\keras\\src\\optimizers\\__init__.py:309: The name tf.train.Optimizer is deprecated. Please use tf.compat.v1.train.Optimizer instead.\n",
      "\n"
     ]
    },
    {
     "name": "stdout",
     "output_type": "stream",
     "text": [
      "Epoch 1/5\n",
      "WARNING:tensorflow:From c:\\Users\\USER\\AppData\\Local\\Programs\\Python\\Python311\\Lib\\site-packages\\keras\\src\\utils\\tf_utils.py:492: The name tf.ragged.RaggedTensorValue is deprecated. Please use tf.compat.v1.ragged.RaggedTensorValue instead.\n",
      "\n",
      "WARNING:tensorflow:From c:\\Users\\USER\\AppData\\Local\\Programs\\Python\\Python311\\Lib\\site-packages\\keras\\src\\engine\\base_layer_utils.py:384: The name tf.executing_eagerly_outside_functions is deprecated. Please use tf.compat.v1.executing_eagerly_outside_functions instead.\n",
      "\n",
      "230/230 [==============================] - 24s 97ms/step - loss: 1.6023 - accuracy: 0.2377 - val_loss: 1.5833 - val_accuracy: 0.3174\n",
      "Epoch 2/5\n",
      "230/230 [==============================] - 23s 101ms/step - loss: 1.5781 - accuracy: 0.3014 - val_loss: 1.5557 - val_accuracy: 0.5246\n",
      "Epoch 3/5\n",
      "230/230 [==============================] - 23s 98ms/step - loss: 1.5524 - accuracy: 0.3763 - val_loss: 1.5262 - val_accuracy: 0.6795\n",
      "Epoch 4/5\n",
      "230/230 [==============================] - 23s 98ms/step - loss: 1.5225 - accuracy: 0.4588 - val_loss: 1.4928 - val_accuracy: 0.7531\n",
      "Epoch 5/5\n",
      "230/230 [==============================] - 23s 100ms/step - loss: 1.4899 - accuracy: 0.5181 - val_loss: 1.4541 - val_accuracy: 0.7858\n",
      "Training time: 0:01:55.304776\n",
      "Test score: 1.4540724754333496\n",
      "Test accuracy: 0.7858465313911438\n"
     ]
    }
   ],
   "source": [
    "hist, score, model_time = train_model(model,\n",
    "            (x_train_gte5, y_train_gte5),\n",
    "            (x_test_gte5, y_test_gte5), num_classes)"
   ]
  },
  {
   "cell_type": "markdown",
   "id": "racial-emission",
   "metadata": {},
   "source": [
    "Freeze only the feature layers\n"
   ]
  },
  {
   "cell_type": "code",
   "execution_count": 13,
   "id": "violent-territory",
   "metadata": {},
   "outputs": [],
   "source": [
    "for l in feature_layers:\n",
    "    l.trainable = False"
   ]
  },
  {
   "cell_type": "markdown",
   "id": "continuous-injection",
   "metadata": {},
   "source": [
    "Check again the summary and observe the parameters from the previous model\n"
   ]
  },
  {
   "cell_type": "code",
   "execution_count": 14,
   "id": "sunset-manhattan",
   "metadata": {},
   "outputs": [
    {
     "name": "stdout",
     "output_type": "stream",
     "text": [
      "Model: \"sequential\"\n",
      "_________________________________________________________________\n",
      " Layer (type)                Output Shape              Param #   \n",
      "=================================================================\n",
      " conv2d (Conv2D)             (None, 26, 26, 32)        320       \n",
      "                                                                 \n",
      " activation (Activation)     (None, 26, 26, 32)        0         \n",
      "                                                                 \n",
      " conv2d_1 (Conv2D)           (None, 24, 24, 32)        9248      \n",
      "                                                                 \n",
      " activation_1 (Activation)   (None, 24, 24, 32)        0         \n",
      "                                                                 \n",
      " max_pooling2d (MaxPooling2  (None, 12, 12, 32)        0         \n",
      " D)                                                              \n",
      "                                                                 \n",
      " dropout (Dropout)           (None, 12, 12, 32)        0         \n",
      "                                                                 \n",
      " flatten (Flatten)           (None, 4608)              0         \n",
      "                                                                 \n",
      " dense (Dense)               (None, 128)               589952    \n",
      "                                                                 \n",
      " activation_2 (Activation)   (None, 128)               0         \n",
      "                                                                 \n",
      " dropout_1 (Dropout)         (None, 128)               0         \n",
      "                                                                 \n",
      " dense_1 (Dense)             (None, 5)                 645       \n",
      "                                                                 \n",
      " activation_3 (Activation)   (None, 5)                 0         \n",
      "                                                                 \n",
      "=================================================================\n",
      "Total params: 600165 (2.29 MB)\n",
      "Trainable params: 590597 (2.25 MB)\n",
      "Non-trainable params: 9568 (37.38 KB)\n",
      "_________________________________________________________________\n"
     ]
    }
   ],
   "source": [
    "model.summary()"
   ]
  },
  {
   "cell_type": "markdown",
   "id": "modern-carnival",
   "metadata": {},
   "source": [
    "Train again the model using the 0 to 4 digits\n"
   ]
  },
  {
   "cell_type": "code",
   "execution_count": 15,
   "id": "comprehensive-nurse",
   "metadata": {},
   "outputs": [
    {
     "name": "stdout",
     "output_type": "stream",
     "text": [
      "x_train shape: (30596, 28, 28, 1)\n",
      "30596 train samples\n",
      "5139 test samples\n"
     ]
    },
    {
     "name": "stdout",
     "output_type": "stream",
     "text": [
      "Epoch 1/5\n",
      "240/240 [==============================] - 12s 46ms/step - loss: 1.5802 - accuracy: 0.2705 - val_loss: 1.5502 - val_accuracy: 0.3874\n",
      "Epoch 2/5\n",
      "240/240 [==============================] - 11s 44ms/step - loss: 1.5392 - accuracy: 0.3565 - val_loss: 1.5043 - val_accuracy: 0.5120\n",
      "Epoch 3/5\n",
      "240/240 [==============================] - 11s 45ms/step - loss: 1.4976 - accuracy: 0.4346 - val_loss: 1.4597 - val_accuracy: 0.6089\n",
      "Epoch 4/5\n",
      "240/240 [==============================] - 11s 45ms/step - loss: 1.4567 - accuracy: 0.5072 - val_loss: 1.4163 - val_accuracy: 0.7007\n",
      "Epoch 5/5\n",
      "240/240 [==============================] - 11s 46ms/step - loss: 1.4172 - accuracy: 0.5667 - val_loss: 1.3740 - val_accuracy: 0.7762\n",
      "Training time: 0:00:55.298228\n",
      "Test score: 1.3740018606185913\n",
      "Test accuracy: 0.7762210369110107\n"
     ]
    }
   ],
   "source": [
    "hist_1, score_1, model_time_1 = train_model(model,\n",
    "            (x_train_lt5, y_train_lt5),\n",
    "            (x_test_lt5, y_test_lt5), num_classes)"
   ]
  },
  {
   "cell_type": "code",
   "execution_count": 16,
   "id": "6b9313e9",
   "metadata": {},
   "outputs": [],
   "source": [
    "import matplotlib.pyplot as plt\n",
    "%matplotlib inline\n",
    "\n",
    "from sklearn.metrics import roc_curve, auc\n",
    "\n",
    "def plot_loss_accuracy(history,main_title='Metrics'):\n",
    "    fig = plt.figure(figsize=(12, 6))\n",
    "    fig.suptitle(main_title, fontsize=16)\n",
    "    ax = fig.add_subplot(1, 2, 1)\n",
    "    ax.plot(history.history[\"loss\"],'r-x', label=\"Train Loss\")\n",
    "    ax.plot(history.history[\"val_loss\"],'b-x', label=\"Validation Loss\")\n",
    "    ax.legend()\n",
    "    ax.set_title('Cross Entropy Loss')\n",
    "    ax.grid(True)\n",
    "\n",
    "\n",
    "    ax = fig.add_subplot(1, 2, 2)\n",
    "    ax.plot(history.history[\"accuracy\"],'r-x', label=\"Train Accuracy\")\n",
    "    ax.plot(history.history[\"val_accuracy\"],'b-x', label=\"Validation Accuracy\")\n",
    "    ax.legend()\n",
    "    ax.set_title('Accuracy')\n",
    "    ax.grid(True)\n",
    "\n",
    "def display_roc(roc_auc , fpr, tpr, class_num, model_name=''):\n",
    "    plt.figure(figsize=(10, 6))\n",
    "    for i in range(class_num):\n",
    "        plt.plot(fpr[i], tpr[i], lw=2, label='ROC curve (class {}) (AUC = {:.2f})'.format(i, roc_auc[i]))\n",
    "\n",
    "    plt.plot([0, 1], [0, 1], color='navy', lw=2, linestyle='--')                                                                                                                   \n",
    "    plt.xlim([0.0, 1.0])\n",
    "    plt.ylim([0.0, 1.05])\n",
    "    plt.xlabel('False Positive Rate')\n",
    "    plt.ylabel('True Positive Rate')\n",
    "    plt.title('ROC Curve of {}'.format(model_name))\n",
    "    plt.legend(loc=\"lower right\")\n",
    "    plt.show()\n",
    "\n",
    "def plot_multiclass_roc(model, x_test, y_test, class_num, model_name='', show=True):\n",
    "    fpr = dict()\n",
    "    tpr = dict()\n",
    "    roc_auc = dict()\n",
    "    y_test = keras.utils.to_categorical(y_test, class_num)\n",
    "\n",
    "\n",
    "    y_pred = model.predict(x_test).astype('float32')\n",
    "    print(y_test.shape)\n",
    "    print(y_pred.shape)\n",
    "    for i in range(class_num):\n",
    "        fpr[i], tpr[i], _ = roc_curve(y_test[:,i], y_pred[:,i])\n",
    "        roc_auc[i] = auc(fpr[i], tpr[i])\n",
    "    if show:    display_roc(roc_auc,fpr,tpr,class_num,model_name)\n",
    "    else: return roc_auc"
   ]
  },
  {
   "cell_type": "markdown",
   "id": "numerical-integer",
   "metadata": {},
   "source": [
    "#### Supplementary Activity\n",
    "\n",
    "Now write code to reverse this training process. That is, you will train on the digits 0-4, and then finetune only the last layers on the digits 5-9.\n"
   ]
  },
  {
   "cell_type": "code",
   "execution_count": 17,
   "id": "registered-venice",
   "metadata": {},
   "outputs": [
    {
     "name": "stdout",
     "output_type": "stream",
     "text": [
      "Model: \"HOA2_2_Model1\"\n",
      "_________________________________________________________________\n",
      " Layer (type)                Output Shape              Param #   \n",
      "=================================================================\n",
      " conv2d_2 (Conv2D)           (None, 26, 26, 32)        320       \n",
      "                                                                 \n",
      " activation_4 (Activation)   (None, 26, 26, 32)        0         \n",
      "                                                                 \n",
      " conv2d_3 (Conv2D)           (None, 24, 24, 32)        9248      \n",
      "                                                                 \n",
      " activation_5 (Activation)   (None, 24, 24, 32)        0         \n",
      "                                                                 \n",
      " max_pooling2d_1 (MaxPoolin  (None, 12, 12, 32)        0         \n",
      " g2D)                                                            \n",
      "                                                                 \n",
      " dropout_2 (Dropout)         (None, 12, 12, 32)        0         \n",
      "                                                                 \n",
      " flatten_1 (Flatten)         (None, 4608)              0         \n",
      "                                                                 \n",
      " dense_2 (Dense)             (None, 128)               589952    \n",
      "                                                                 \n",
      " activation_6 (Activation)   (None, 128)               0         \n",
      "                                                                 \n",
      " dropout_3 (Dropout)         (None, 128)               0         \n",
      "                                                                 \n",
      " dense_3 (Dense)             (None, 5)                 645       \n",
      "                                                                 \n",
      " activation_7 (Activation)   (None, 5)                 0         \n",
      "                                                                 \n",
      "=================================================================\n",
      "Total params: 600165 (2.29 MB)\n",
      "Trainable params: 600165 (2.29 MB)\n",
      "Non-trainable params: 0 (0.00 Byte)\n",
      "_________________________________________________________________\n"
     ]
    }
   ],
   "source": [
    "filters = 32\n",
    "feature_layers = [\n",
    "    Conv2D(filters, kernel_size,\n",
    "           padding='valid',\n",
    "           input_shape=input_shape),\n",
    "    Activation('relu'),\n",
    "    Conv2D(filters, kernel_size),\n",
    "    Activation('relu'),\n",
    "    MaxPooling2D(pool_size=pool_size),\n",
    "    Dropout(0.25),\n",
    "    Flatten(),\n",
    "]\n",
    "\n",
    "classification_layers = [\n",
    "    Dense(128),\n",
    "    Activation('relu'),\n",
    "    Dropout(0.5),\n",
    "    Dense(num_classes),\n",
    "    Activation('softmax')\n",
    "]\n",
    "\n",
    "conv_layer = [\n",
    "    Conv2D(filters, kernel_size,\n",
    "           padding='valid',\n",
    "           input_shape=input_shape),\n",
    "    Activation('relu'),\n",
    "    Conv2D(filters, kernel_size),\n",
    "    Activation('relu'),\n",
    "    MaxPooling2D(pool_size=pool_size),\n",
    "    Dropout(0.3),\n",
    "    Flatten(),\n",
    "]\n",
    "model_1 = Sequential(feature_layers + classification_layers, name='HOA2_2_Model1')\n",
    "model_1.summary()"
   ]
  },
  {
   "cell_type": "markdown",
   "id": "a2583801",
   "metadata": {},
   "source": [
    "I rerun the code from above to create the identical model and named it.\n"
   ]
  },
  {
   "cell_type": "code",
   "execution_count": 18,
   "id": "77bb2888",
   "metadata": {},
   "outputs": [
    {
     "name": "stdout",
     "output_type": "stream",
     "text": [
      "x_train shape: (30596, 28, 28, 1)\n",
      "30596 train samples\n",
      "5139 test samples\n",
      "Epoch 1/5\n",
      "240/240 [==============================] - 26s 103ms/step - loss: 1.5903 - accuracy: 0.2283 - val_loss: 1.5704 - val_accuracy: 0.2929\n",
      "Epoch 2/5\n",
      "240/240 [==============================] - 24s 99ms/step - loss: 1.5639 - accuracy: 0.2916 - val_loss: 1.5410 - val_accuracy: 0.4172\n",
      "Epoch 3/5\n",
      "240/240 [==============================] - 24s 101ms/step - loss: 1.5343 - accuracy: 0.3634 - val_loss: 1.5083 - val_accuracy: 0.5503\n",
      "Epoch 4/5\n",
      "240/240 [==============================] - 25s 106ms/step - loss: 1.5028 - accuracy: 0.4274 - val_loss: 1.4711 - val_accuracy: 0.6474\n",
      "Epoch 5/5\n",
      "240/240 [==============================] - 28s 117ms/step - loss: 1.4674 - accuracy: 0.4852 - val_loss: 1.4281 - val_accuracy: 0.7161\n",
      "Training time: 0:02:07.909754\n",
      "Test score: 1.4280613660812378\n",
      "Test accuracy: 0.7160926461219788\n"
     ]
    }
   ],
   "source": [
    "hist1_1, score1_1, model1_time_1 = train_model(model_1,\n",
    "            (x_train_lt5, y_train_lt5),\n",
    "            (x_test_lt5, y_test_lt5), num_classes)"
   ]
  },
  {
   "cell_type": "markdown",
   "id": "77d11cb2",
   "metadata": {},
   "source": [
    "The model from the procedure is firstly trained with numbers above and equal to five. It took over two minutes to finish training the model. It got a test score of 1.43 and accuracy of 72%.\n",
    "\n",
    "This time for Model_1, I only trained it using digits less than 5 by making the layers untrainable and only selecting the appropriate rows for training.\n"
   ]
  },
  {
   "cell_type": "code",
   "execution_count": 19,
   "id": "dfd4ec45",
   "metadata": {},
   "outputs": [
    {
     "name": "stdout",
     "output_type": "stream",
     "text": [
      "Model: \"HOA2_2_Model1\"\n",
      "_________________________________________________________________\n",
      " Layer (type)                Output Shape              Param #   \n",
      "=================================================================\n",
      " conv2d_2 (Conv2D)           (None, 26, 26, 32)        320       \n",
      "                                                                 \n",
      " activation_4 (Activation)   (None, 26, 26, 32)        0         \n",
      "                                                                 \n",
      " conv2d_3 (Conv2D)           (None, 24, 24, 32)        9248      \n",
      "                                                                 \n",
      " activation_5 (Activation)   (None, 24, 24, 32)        0         \n",
      "                                                                 \n",
      " max_pooling2d_1 (MaxPoolin  (None, 12, 12, 32)        0         \n",
      " g2D)                                                            \n",
      "                                                                 \n",
      " dropout_2 (Dropout)         (None, 12, 12, 32)        0         \n",
      "                                                                 \n",
      " flatten_1 (Flatten)         (None, 4608)              0         \n",
      "                                                                 \n",
      " dense_2 (Dense)             (None, 128)               589952    \n",
      "                                                                 \n",
      " activation_6 (Activation)   (None, 128)               0         \n",
      "                                                                 \n",
      " dropout_3 (Dropout)         (None, 128)               0         \n",
      "                                                                 \n",
      " dense_3 (Dense)             (None, 5)                 645       \n",
      "                                                                 \n",
      " activation_7 (Activation)   (None, 5)                 0         \n",
      "                                                                 \n",
      "=================================================================\n",
      "Total params: 600165 (2.29 MB)\n",
      "Trainable params: 590597 (2.25 MB)\n",
      "Non-trainable params: 9568 (37.38 KB)\n",
      "_________________________________________________________________\n"
     ]
    }
   ],
   "source": [
    "for layer in feature_layers:\n",
    "    layer.trainable = False\n",
    "model_1.summary()"
   ]
  },
  {
   "cell_type": "code",
   "execution_count": 20,
   "id": "5787a6fe",
   "metadata": {},
   "outputs": [
    {
     "name": "stdout",
     "output_type": "stream",
     "text": [
      "x_train shape: (29404, 28, 28, 1)\n",
      "29404 train samples\n",
      "4861 test samples\n"
     ]
    },
    {
     "name": "stdout",
     "output_type": "stream",
     "text": [
      "Epoch 1/5\n",
      "230/230 [==============================] - 12s 47ms/step - loss: 1.6137 - accuracy: 0.2281 - val_loss: 1.5944 - val_accuracy: 0.3088\n",
      "Epoch 2/5\n",
      "230/230 [==============================] - 10s 45ms/step - loss: 1.5871 - accuracy: 0.2712 - val_loss: 1.5667 - val_accuracy: 0.4016\n",
      "Epoch 3/5\n",
      "230/230 [==============================] - 10s 45ms/step - loss: 1.5617 - accuracy: 0.3210 - val_loss: 1.5395 - val_accuracy: 0.4876\n",
      "Epoch 4/5\n",
      "230/230 [==============================] - 10s 44ms/step - loss: 1.5362 - accuracy: 0.3821 - val_loss: 1.5126 - val_accuracy: 0.5849\n",
      "Epoch 5/5\n",
      "230/230 [==============================] - 11s 46ms/step - loss: 1.5125 - accuracy: 0.4385 - val_loss: 1.4857 - val_accuracy: 0.6519\n",
      "Training time: 0:00:53.311534\n",
      "Test score: 1.4857196807861328\n",
      "Test accuracy: 0.6519234776496887\n"
     ]
    }
   ],
   "source": [
    "hist1_2, score1_2, model1_time_2 = train_model(model_1,\n",
    "            (x_train_gte5, y_train_gte5),\n",
    "            (x_test_gte5, y_test_gte5), num_classes)"
   ]
  },
  {
   "cell_type": "markdown",
   "id": "330f8bb6",
   "metadata": {},
   "source": [
    "The model got a test score of 1.5 and 65% accuracy in five epochs. It also has a training time of 53 seconds.\n"
   ]
  },
  {
   "cell_type": "code",
   "execution_count": 34,
   "id": "5ba3ecc8",
   "metadata": {},
   "outputs": [
    {
     "data": {
      "image/png": "[encoded data removed]",
      "text/plain": [
       "<Figure size 1200x600 with 2 Axes>"
      ]
     },
     "metadata": {},
     "output_type": "display_data"
    }
   ],
   "source": [
    "fig = plt.figure(figsize=(12, 6))\n",
    "fig.suptitle('Transfer Learning of Digits 0-4 ', fontsize=16)\n",
    "ax = fig.add_subplot(1, 2, 1)\n",
    "ax.plot(hist1_1.history[\"accuracy\"],'r-x', label=\"Train Accuracy\")\n",
    "ax.plot(hist1_1.history[\"val_accuracy\"],'b-x', label=\"Validation Accuracy\")\n",
    "ax.legend()\n",
    "ax.set_title('Directly Training 0-4')\n",
    "ax.grid(True)\n",
    "\n",
    "\n",
    "ax = fig.add_subplot(1, 2, 2)\n",
    "ax.plot(hist_1.history[\"accuracy\"],'r-x', label=\"Train Accuracy\")\n",
    "ax.plot(hist_1.history[\"val_accuracy\"],'b-x', label=\"Validation Accuracy\")\n",
    "ax.legend()\n",
    "ax.set_title('Pretrained with 5-9')\n",
    "ax.grid(True)"
   ]
  },
  {
   "cell_type": "markdown",
   "id": "afb7f5cc",
   "metadata": {},
   "source": [
    "I compared the first training of the first model from the procedure that trains the model with digits 0-4 and the second training of the pretrained model from the supplementary. Both of them are trained with digits 0-4 but the latter is pretrained with digits 5-9. After 5 epochs, the pretrained model showed about 5% higher accuracy in both training and validation sets. Additionally, the pretrained model has a smoother line and does not show any sign of converging yet compared to directly training the model.\n"
   ]
  },
  {
   "cell_type": "code",
   "execution_count": 35,
   "id": "12a4eeb1",
   "metadata": {},
   "outputs": [
    {
     "data": {
      "image/png": "[encoded data removed]",
      "text/plain": [
       "<Figure size 1200x600 with 2 Axes>"
      ]
     },
     "metadata": {},
     "output_type": "display_data"
    }
   ],
   "source": [
    "fig = plt.figure(figsize=(12, 6))\n",
    "fig.suptitle('Transfer Learning of Digits 5-9 ', fontsize=16)\n",
    "ax = fig.add_subplot(1, 2, 1)\n",
    "ax.plot(hist.history[\"accuracy\"],'r-x', label=\"Train Accuracy\")\n",
    "ax.plot(hist.history[\"val_accuracy\"],'b-x', label=\"Validation Accuracy\")\n",
    "ax.legend()\n",
    "ax.set_title('Directly Training 5-9')\n",
    "ax.grid(True)\n",
    "\n",
    "\n",
    "ax = fig.add_subplot(1, 2, 2)\n",
    "ax.plot(hist1_2.history[\"accuracy\"],'r-x', label=\"Train Accuracy\")\n",
    "ax.plot(hist1_2.history[\"val_accuracy\"],'b-x', label=\"Validation Accuracy\")\n",
    "ax.legend()\n",
    "ax.set_title('Pretrained with 0-4')\n",
    "ax.grid(True)"
   ]
  },
  {
   "cell_type": "markdown",
   "id": "4ac77f26",
   "metadata": {},
   "source": [
    "I compared the first training of the second model from the supplementary and the second training of the pretrained model from the procedure. Both of them are trained with digits 5-9 but the latter is trained first with digits 0-4. After 5 epochs, the pretrained model has a lower accuracy in both training and validation sets compared to directly training them. However, its plot is more smooth and does not show any sign of converging yet. This means that it can be train more to increase its accuracy.\n"
   ]
  },
  {
   "cell_type": "code",
   "execution_count": 32,
   "id": "67c2167b",
   "metadata": {},
   "outputs": [
    {
     "data": {
      "text/plain": [
       "Text(0.5, 1.0, 'Models for (5-9)')"
      ]
     },
     "execution_count": 32,
     "metadata": {},
     "output_type": "execute_result"
    },
    {
     "data": {
      "image/png": "[encoded data removed]",
      "text/plain": [
       "<Figure size 1200x300 with 2 Axes>"
      ]
     },
     "metadata": {},
     "output_type": "display_data"
    }
   ],
   "source": [
    "labels = ['Direct','Pretrained']\n",
    "colors = ['#1f77b4','#2ca02c']\n",
    "\n",
    "fig = plt.figure(figsize=(12, 3))\n",
    "fig.suptitle('Training Times', fontsize=16)\n",
    "\n",
    "samples = [model1_time_1.seconds, model_time_1.seconds]\n",
    "ax = fig.add_subplot(1, 2, 1)\n",
    "ax.barh(labels, samples, color=colors)\n",
    "plt.xlabel('Time taken')\n",
    "ax.set_title('Models for (0-4)')\n",
    "\n",
    "samples = [model_time.seconds, model1_time_2.seconds]\n",
    "ax = fig.add_subplot(1, 2, 2)\n",
    "ax.barh(labels, samples, color=colors)\n",
    "plt.xlabel('Time taken')\n",
    "ax.set_title('Models for (5-9)')\n"
   ]
  },
  {
   "cell_type": "markdown",
   "id": "c2d4df53",
   "metadata": {},
   "source": [
    "The pretrained model in both cases have lower training time compared to directly training them. Directly training them doubles the amount of time in training. Transfer learning consumed less training.\n"
   ]
  },
  {
   "cell_type": "markdown",
   "id": "cardiovascular-sapphire",
   "metadata": {},
   "source": [
    "#### Conclusion\n"
   ]
  },
  {
   "cell_type": "markdown",
   "id": "008a6785",
   "metadata": {},
   "source": [
    "Transfer learning involves taking a pre-trained model and fine-tuning it with a smaller dataset for a related task. It aims to reduce training time and improve model's performance in a limited dataset.\n",
    "\n",
    "In the activity, it showed that transfer learning can increase the accuracy and lower the loss. Although it cannot always increase its performance as shown in the second case from the supplementary. Nonetheless, training time can be reduced significantly as the layers already learned the patterns and only the final layers are being modified by the back propagation. The pretrained model also showed a smoother metrics plot. Transfer learning can boost the performance of the model in limited time and data.\n"
   ]
  }
 ],
 "metadata": {
  "kernelspec": {
   "display_name": "Python 3 (ipykernel)",
   "language": "python",
   "name": "python3"
  },
  "language_info": {
   "codemirror_mode": {
    "name": "ipython",
    "version": 3
   },
   "file_extension": ".py",
   "mimetype": "text/x-python",
   "name": "python",
   "nbconvert_exporter": "python",
   "pygments_lexer": "ipython3",
   "version": "3.11.4"
  }
 },
 "nbformat": 4,
 "nbformat_minor": 5
}
