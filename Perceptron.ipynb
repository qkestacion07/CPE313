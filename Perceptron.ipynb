{
  "cells": [
    {
      "cell_type": "code",
      "execution_count": 61,
      "metadata": {
        "id": "LGwJzMXaKssi"
      },
      "outputs": [],
      "source": [
        "class Neuron:\n",
        "    def __init__(self, i, w):\n",
        "        if len(w)!=len(i):\n",
        "            print(\"inputs and weight does not match\")\n",
        "            return\n",
        "        self.inputs = i\n",
        "        self.weights = w\n",
        "        self.output = 0\n",
        "        self.previouses = None\n",
        "        self.linear_combiner()\n",
        "\n",
        "    def linear_combiner(self):\n",
        "        \"\"\"\n",
        "        inputs : list\n",
        "        gets input or set of inputs from the network\n",
        "        \"\"\"\n",
        "        for i in range(len(self.inputs)):\n",
        "            self.output += self.inputs[i]*self.weights[i]\n",
        "        return self.activation()\n",
        "\n",
        "    def activation(self):\n",
        "        \"\"\"\n",
        "        Uses ReLU - piecewise linear function that will output the input directly \n",
        "        if it is positive, otherwise, it will output zero        \n",
        "        \"\"\"\n",
        "        if self.output < 0:\n",
        "            self.output = 0\n",
        "        return self.output\n",
        "\n",
        "    def add_previous(self, neuron):\n",
        "        if self.previouses = None:\n",
        "            self.previouses = [neuron]\n",
        "        else:\n",
        "            self.previouses.append(neuron)\n",
        "        \n",
        "        self.inputs.append(neuron.inputs)\n",
        "        self.weights.append(neuron.weights)\n"
      ]
    },
    {
      "cell_type": "code",
      "execution_count": null,
      "metadata": {},
      "outputs": [],
      "source": [
        "class Input:"
      ]
    },
    {
      "cell_type": "code",
      "execution_count": 111,
      "metadata": {
        "colab": {
          "base_uri": "https://localhost:8080/"
        },
        "id": "wy_os6JvMVPT",
        "outputId": "65b5a80a-a593-48d2-949d-d3b9914bc2d5"
      },
      "outputs": [],
      "source": [
        "def neuron_table(inputs, weights):\n",
        "    \"\"\"\n",
        "    inputs : list - array of numbers from previous layer or the input\n",
        "    weights : list - array of numbers from the link of the inputs\n",
        "\n",
        "    Displays the tally of computation of each node\n",
        "    \"\"\"\n",
        "    print(\"Input\\tWeight\\tProduct\\tReLU\\tCurrent Sum\")\n",
        "    sum_of_prod = 0\n",
        "    for i in range(len(inputs)):\n",
        "        product = inputs[i]*weights[i]\n",
        "        sum_of_prod += product if product > 0 else 0\n",
        "        print(inputs[i],'\\t',weights[i],'\\t',product,end='\\t')\n",
        "        print(product if product > 0 else 0,\"\\t\",sum_of_prod)\n",
        "    print(\"SUM of products:\",sum_of_prod)"
      ]
    },
    {
      "cell_type": "code",
      "execution_count": 82,
      "metadata": {},
      "outputs": [],
      "source": [
        "inputs = [5,6,7,8,9]\n",
        "weights_1 = [1,3,5,7,9]"
      ]
    },
    {
      "cell_type": "code",
      "execution_count": 112,
      "metadata": {},
      "outputs": [
        {
          "name": "stdout",
          "output_type": "stream",
          "text": [
            "Input\tWeight\tProduct\tReLU\tCurrent Sum\n",
            "5 \t 1 \t 5\t5 \t 5\n",
            "6 \t 3 \t 18\t18 \t 23\n",
            "7 \t 5 \t 35\t35 \t 58\n",
            "8 \t 7 \t 56\t56 \t 114\n",
            "9 \t 9 \t 81\t81 \t 195\n",
            "SUM of products: 195\n",
            "\n",
            "Neuron 1: 195\n"
          ]
        }
      ],
      "source": [
        "n1 = Neuron(inputs,weights_1)\n",
        "\n",
        "neuron_table(inputs,weights_1)\n",
        "print('\\nNeuron 1:',n1.output)"
      ]
    },
    {
      "cell_type": "code",
      "execution_count": 113,
      "metadata": {
        "colab": {
          "base_uri": "https://localhost:8080/"
        },
        "id": "EmeUnKeMOi4N",
        "outputId": "6ac88064-9c7a-483b-e8e1-06a0c86f7196"
      },
      "outputs": [
        {
          "name": "stdout",
          "output_type": "stream",
          "text": [
            "Input\tWeight\tProduct\tReLU\tCurrent Sum\n",
            "5 \t 1 \t 5\t5 \t 5\n",
            "6 \t 3 \t 18\t18 \t 23\n",
            "7 \t 5 \t 35\t35 \t 58\n",
            "8 \t 7 \t 56\t56 \t 114\n",
            "9 \t 9 \t 81\t81 \t 195\n",
            "SUM of products: 195\n",
            "\n",
            "Neuron 2: 195\n"
          ]
        }
      ],
      "source": [
        "n2 = Neuron(inputs,weights_1)\n",
        "\n",
        "neuron_table(inputs,weights_1)\n",
        "print('\\nNeuron 2:',n2.output)"
      ]
    },
    {
      "cell_type": "code",
      "execution_count": 114,
      "metadata": {},
      "outputs": [
        {
          "name": "stdout",
          "output_type": "stream",
          "text": [
            "Input\tWeight\tProduct\tReLU\tCurrent Sum\n",
            "5 \t 1 \t 5\t5 \t 5\n",
            "6 \t 3 \t 18\t18 \t 23\n",
            "7 \t 5 \t 35\t35 \t 58\n",
            "8 \t 7 \t 56\t56 \t 114\n",
            "9 \t 9 \t 81\t81 \t 195\n",
            "SUM of products: 195\n",
            "\n",
            "Neuron 3: 195\n"
          ]
        }
      ],
      "source": [
        "n3 = Neuron(inputs,weights_1)\n",
        "\n",
        "neuron_table(inputs,weights_1)\n",
        "print('\\nNeuron 3:',n3.output)"
      ]
    },
    {
      "cell_type": "markdown",
      "metadata": {
        "id": "_2RNrKMtfZxM"
      },
      "source": [
        "ReLU works\n"
      ]
    },
    {
      "cell_type": "code",
      "execution_count": 201,
      "metadata": {},
      "outputs": [
        {
          "name": "stdout",
          "output_type": "stream",
          "text": [
            "[5, 3, 5, 5, 0]\n"
          ]
        }
      ],
      "source": [
        "from random import randint\n",
        "\n",
        "#Random weights for the output node\n",
        "output_weights = [randint(-1,5) for _ in range(5)]\n",
        "print(output_weights)"
      ]
    },
    {
      "cell_type": "code",
      "execution_count": 118,
      "metadata": {
        "colab": {
          "base_uri": "https://localhost:8080/"
        },
        "id": "nl_OYrKqOvpz",
        "outputId": "9b3bfb02-77c2-4da6-e240-50e2c11f1e43"
      },
      "outputs": [
        {
          "name": "stdout",
          "output_type": "stream",
          "text": [
            "Input\tWeight\tProduct\tReLU\tCurrent Sum\n",
            "195 \t 1 \t 195\t195 \t 195\n",
            "195 \t -1 \t -195\t0 \t 195\n",
            "195 \t 2 \t 390\t390 \t 585\n",
            "SUM of products: 585\n",
            "\n",
            "Output neuron: 390\n"
          ]
        }
      ],
      "source": [
        "output_n = Neuron([n1.output, n2.output, n3.output],output_weights)\n",
        "\n",
        "neuron_table([n1.output, n2.output, n3.output],output_weights)\n",
        "print('\\nOutput neuron:',output_n.output)"
      ]
    },
    {
      "cell_type": "code",
      "execution_count": 188,
      "metadata": {},
      "outputs": [],
      "source": [
        "class Input:\n",
        "    def __init__(self, i, w):\n",
        "        self.inputs = i\n",
        "        self.weights = w\n",
        "        self.output = 0\n",
        "        for i in range(len(self.inputs)):\n",
        "            self.output += self.inputs[i]*self.weights[i]\n",
        "            \n",
        "    def get_output(self):\n",
        "        return self.output"
      ]
    },
    {
      "cell_type": "code",
      "execution_count": 190,
      "metadata": {},
      "outputs": [],
      "source": [
        "class Neuron:\n",
        "    def __init__(self):\n",
        "        self.inputs = []\n",
        "        self.weights = []\n",
        "        self.output = 0\n",
        "        self.previouses = None\n",
        "        self.linear_combiner()\n",
        "\n",
        "    def linear_combiner(self):\n",
        "        \"\"\"\n",
        "        inputs : list\n",
        "        gets input or set of inputs from the network\n",
        "        \"\"\"\n",
        "        for i in range(len(self.inputs)):\n",
        "            self.output += self.inputs[i]*self.weights[i]\n",
        "        return self.activation()\n",
        "\n",
        "    def activation(self):\n",
        "        \"\"\"\n",
        "        Uses ReLU - piecewise linear function that will output the input directly \n",
        "        if it is positive, otherwise, it will output zero        \n",
        "        \"\"\"\n",
        "        if self.output < 0:\n",
        "            self.output = 0\n",
        "        return self.output\n",
        "\n",
        "    def add_previous(self, neuron, weights):\n",
        "        if self.previouses is None:\n",
        "            self.previouses = [neuron]\n",
        "        else:\n",
        "            self.previouses.append(neuron)\n",
        "        \n",
        "        self.inputs.extend(neuron.output)\n",
        "        self.weights.extend(weights)\n",
        "        self.linear_combiner()\n",
        "    \n",
        "    def add_input(self, input):\n",
        "        self.output = input.get_output()\n",
        "        self.linear_combiner()\n"
      ]
    },
    {
      "cell_type": "code",
      "execution_count": 203,
      "metadata": {},
      "outputs": [
        {
          "name": "stdout",
          "output_type": "stream",
          "text": [
            "195\n",
            "195\n",
            "195\n",
            "195\n",
            "195\n"
          ]
        },
        {
          "data": {
            "text/plain": [
              "[]"
            ]
          },
          "execution_count": 203,
          "metadata": {},
          "output_type": "execute_result"
        }
      ],
      "source": [
        "inputs = [5,6,7,8,9]\n",
        "weights_1 = [1,3,5,7,9]\n",
        "in1 = Input(inputs,weights_1)\n",
        "n1 = Neuron()\n",
        "n2 = Neuron()\n",
        "n3 = Neuron()\n",
        "n4 = Neuron()\n",
        "n5 = Neuron()\n",
        "\n",
        "output_neuron = Neuron()\n",
        "for n in [n1,n2,n3,n4,n5]:\n",
        "    n.add_input(in1)\n",
        "    print(n.output)\n",
        "\n",
        "layer = [n1,n2,n3,n4,n5]\n",
        "for i in range(5):\n",
        "    output_neuron.add_previous(layer[i], [output_weights[i]])\n",
        "\n",
        "output_neuron.inputs"
      ]
    }
  ],
  "metadata": {
    "colab": {
      "provenance": []
    },
    "kernelspec": {
      "display_name": "Python 3 (ipykernel)",
      "language": "python",
      "name": "python3"
    },
    "language_info": {
      "codemirror_mode": {
        "name": "ipython",
        "version": 3
      },
      "file_extension": ".py",
      "mimetype": "text/x-python",
      "name": "python",
      "nbconvert_exporter": "python",
      "pygments_lexer": "ipython3",
      "version": "3.10.13"
    }
  },
  "nbformat": 4,
  "nbformat_minor": 0
}
