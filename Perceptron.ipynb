{
  "nbformat": 4,
  "nbformat_minor": 0,
  "metadata": {
    "colab": {
      "provenance": []
    },
    "kernelspec": {
      "name": "python3",
      "display_name": "Python 3"
    },
    "language_info": {
      "name": "python"
    }
  },
  "cells": [
    {
      "cell_type": "code",
      "execution_count": 97,
      "metadata": {
        "id": "LGwJzMXaKssi"
      },
      "outputs": [],
      "source": [
        "class Neuron:\n",
        "    def __init__(self, i, w):\n",
        "        if len(w)!=len(i):\n",
        "            print(\"inputs and weight does not match\")\n",
        "            return\n",
        "        self.inputs = i\n",
        "        self.nextes = None\n",
        "        self.previouses = None\n",
        "        self.weights = w\n",
        "        self.output = 0\n",
        "        self.linear_combiner()\n",
        "\n",
        "    def linear_combiner(self):\n",
        "        \"\"\"\n",
        "        inputs : list\n",
        "        gets input or set of inputs from the network\n",
        "        \"\"\"\n",
        "        for num in self.inputs:\n",
        "            for weight in self.weights:\n",
        "                self.output += num*weight\n",
        "        return self.activation()\n",
        "\n",
        "    def activation(self):\n",
        "        for num in self.inputs:\n",
        "            if self.output < num:\n",
        "                self.output = num\n",
        "        if self.output < 0:\n",
        "            self.output = 0\n",
        "        return self.output\n"
      ]
    },
    {
      "cell_type": "code",
      "source": [
        "inputs = [1,3,2]\n",
        "weights = [2,3,4]"
      ],
      "metadata": {
        "id": "C8VwRRAZZTgN"
      },
      "execution_count": 106,
      "outputs": []
    },
    {
      "cell_type": "code",
      "source": [
        "n1 = Neuron(inputs,weights)\n",
        "print('Neuron\\'s weight',n1.output)"
      ],
      "metadata": {
        "colab": {
          "base_uri": "https://localhost:8080/"
        },
        "id": "wy_os6JvMVPT",
        "outputId": "65b5a80a-a593-48d2-949d-d3b9914bc2d5"
      },
      "execution_count": 107,
      "outputs": [
        {
          "output_type": "stream",
          "name": "stdout",
          "text": [
            "Neuron's weight 54\n"
          ]
        }
      ]
    },
    {
      "cell_type": "code",
      "source": [
        "inputs = [-1,-3,-2]\n",
        "weights = [2,3,4]\n",
        "n2 = Neuron(inputs,weights)\n",
        "print('Neuron\\'s weight',n2.output)"
      ],
      "metadata": {
        "colab": {
          "base_uri": "https://localhost:8080/"
        },
        "id": "EmeUnKeMOi4N",
        "outputId": "6ac88064-9c7a-483b-e8e1-06a0c86f7196"
      },
      "execution_count": 112,
      "outputs": [
        {
          "output_type": "stream",
          "name": "stdout",
          "text": [
            "Neuron's weight 0\n"
          ]
        }
      ]
    }
  ]
}