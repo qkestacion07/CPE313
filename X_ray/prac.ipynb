{
 "cells": [
  {
   "cell_type": "code",
   "execution_count": 47,
   "metadata": {},
   "outputs": [],
   "source": [
    "# Standard Library Imports\n",
    "from __future__ import print_function\n",
    "from time import time\n",
    "import os\n",
    "import gc\n",
    "\n",
    "# Third-Party Library Imports\n",
    "import numpy as np\n",
    "import pandas as pd\n",
    "import seaborn as sns\n",
    "import warnings\n",
    "import matplotlib.pyplot as plt\n",
    "from sklearn.model_selection import train_test_split\n",
    "from sklearn.metrics import auc, roc_curve, classification_report, confusion_matrix\n",
    "\n",
    "# Keras and TensorFlow Imports\n",
    "from keras.preprocessing.image import img_to_array, load_img\n",
    "from keras.models import Sequential, load_model\n",
    "from keras.layers import Dense, Dropout, Activation, Flatten, Input, Conv2D, MaxPooling2D, BatchNormalization\n",
    "from keras.regularizers import l1_l2\n",
    "from keras.optimizers import Adam\n",
    "from keras.callbacks import EarlyStopping, ModelCheckpoint, ReduceLROnPlateau\n",
    "from keras.preprocessing.image import ImageDataGenerator\n",
    "from keras import backend as K"
   ]
  },
  {
   "cell_type": "code",
   "execution_count": 2,
   "metadata": {},
   "outputs": [],
   "source": [
    "img_rows = 224\n",
    "img_cols = 224\n",
    "if K.image_data_format() == 'channels_first':\n",
    "    input_shape = (1, img_rows, img_cols)\n",
    "else:\n",
    "    input_shape = (img_rows, img_cols, 1)"
   ]
  },
  {
   "cell_type": "code",
   "execution_count": 3,
   "metadata": {},
   "outputs": [
    {
     "data": {
      "text/html": [
       "<div>\n",
       "<style scoped>\n",
       "    .dataframe tbody tr th:only-of-type {\n",
       "        vertical-align: middle;\n",
       "    }\n",
       "\n",
       "    .dataframe tbody tr th {\n",
       "        vertical-align: top;\n",
       "    }\n",
       "\n",
       "    .dataframe thead th {\n",
       "        text-align: right;\n",
       "    }\n",
       "</style>\n",
       "<table border=\"1\" class=\"dataframe\">\n",
       "  <thead>\n",
       "    <tr style=\"text-align: right;\">\n",
       "      <th></th>\n",
       "      <th>Image Index</th>\n",
       "      <th>Patient Age</th>\n",
       "      <th>Patient Gender</th>\n",
       "      <th>No_Finding</th>\n",
       "      <th>Atelectasis</th>\n",
       "      <th>Cardiomegaly</th>\n",
       "      <th>Consolidation</th>\n",
       "      <th>Edema</th>\n",
       "      <th>Effusion</th>\n",
       "      <th>Emphysema</th>\n",
       "      <th>Fibrosis</th>\n",
       "      <th>Infiltration</th>\n",
       "      <th>Mass</th>\n",
       "      <th>Nodule</th>\n",
       "      <th>Pleural_Thickening</th>\n",
       "      <th>Pneumonia</th>\n",
       "      <th>Pneumothorax</th>\n",
       "    </tr>\n",
       "  </thead>\n",
       "  <tbody>\n",
       "    <tr>\n",
       "      <th>0</th>\n",
       "      <td>00000001_000.png</td>\n",
       "      <td>58</td>\n",
       "      <td>1</td>\n",
       "      <td>0</td>\n",
       "      <td>0</td>\n",
       "      <td>1</td>\n",
       "      <td>0</td>\n",
       "      <td>0</td>\n",
       "      <td>0</td>\n",
       "      <td>0</td>\n",
       "      <td>0</td>\n",
       "      <td>0</td>\n",
       "      <td>0</td>\n",
       "      <td>0</td>\n",
       "      <td>0</td>\n",
       "      <td>0</td>\n",
       "      <td>0</td>\n",
       "    </tr>\n",
       "    <tr>\n",
       "      <th>1</th>\n",
       "      <td>00000001_001.png</td>\n",
       "      <td>58</td>\n",
       "      <td>1</td>\n",
       "      <td>0</td>\n",
       "      <td>0</td>\n",
       "      <td>1</td>\n",
       "      <td>0</td>\n",
       "      <td>0</td>\n",
       "      <td>0</td>\n",
       "      <td>1</td>\n",
       "      <td>0</td>\n",
       "      <td>0</td>\n",
       "      <td>0</td>\n",
       "      <td>0</td>\n",
       "      <td>0</td>\n",
       "      <td>0</td>\n",
       "      <td>0</td>\n",
       "    </tr>\n",
       "    <tr>\n",
       "      <th>2</th>\n",
       "      <td>00000001_002.png</td>\n",
       "      <td>58</td>\n",
       "      <td>1</td>\n",
       "      <td>0</td>\n",
       "      <td>0</td>\n",
       "      <td>1</td>\n",
       "      <td>0</td>\n",
       "      <td>0</td>\n",
       "      <td>1</td>\n",
       "      <td>0</td>\n",
       "      <td>0</td>\n",
       "      <td>0</td>\n",
       "      <td>0</td>\n",
       "      <td>0</td>\n",
       "      <td>0</td>\n",
       "      <td>0</td>\n",
       "      <td>0</td>\n",
       "    </tr>\n",
       "    <tr>\n",
       "      <th>3</th>\n",
       "      <td>00000002_000.png</td>\n",
       "      <td>81</td>\n",
       "      <td>1</td>\n",
       "      <td>1</td>\n",
       "      <td>0</td>\n",
       "      <td>0</td>\n",
       "      <td>0</td>\n",
       "      <td>0</td>\n",
       "      <td>0</td>\n",
       "      <td>0</td>\n",
       "      <td>0</td>\n",
       "      <td>0</td>\n",
       "      <td>0</td>\n",
       "      <td>0</td>\n",
       "      <td>0</td>\n",
       "      <td>0</td>\n",
       "      <td>0</td>\n",
       "    </tr>\n",
       "    <tr>\n",
       "      <th>4</th>\n",
       "      <td>00000003_000.png</td>\n",
       "      <td>81</td>\n",
       "      <td>0</td>\n",
       "      <td>0</td>\n",
       "      <td>0</td>\n",
       "      <td>0</td>\n",
       "      <td>0</td>\n",
       "      <td>0</td>\n",
       "      <td>0</td>\n",
       "      <td>0</td>\n",
       "      <td>0</td>\n",
       "      <td>0</td>\n",
       "      <td>0</td>\n",
       "      <td>0</td>\n",
       "      <td>0</td>\n",
       "      <td>0</td>\n",
       "      <td>0</td>\n",
       "    </tr>\n",
       "  </tbody>\n",
       "</table>\n",
       "</div>"
      ],
      "text/plain": [
       "        Image Index  Patient Age  Patient Gender  No_Finding  Atelectasis  \\\n",
       "0  00000001_000.png           58               1           0            0   \n",
       "1  00000001_001.png           58               1           0            0   \n",
       "2  00000001_002.png           58               1           0            0   \n",
       "3  00000002_000.png           81               1           1            0   \n",
       "4  00000003_000.png           81               0           0            0   \n",
       "\n",
       "   Cardiomegaly  Consolidation  Edema  Effusion  Emphysema  Fibrosis  \\\n",
       "0             1              0      0         0          0         0   \n",
       "1             1              0      0         0          1         0   \n",
       "2             1              0      0         1          0         0   \n",
       "3             0              0      0         0          0         0   \n",
       "4             0              0      0         0          0         0   \n",
       "\n",
       "   Infiltration  Mass  Nodule  Pleural_Thickening  Pneumonia  Pneumothorax  \n",
       "0             0     0       0                   0          0             0  \n",
       "1             0     0       0                   0          0             0  \n",
       "2             0     0       0                   0          0             0  \n",
       "3             0     0       0                   0          0             0  \n",
       "4             0     0       0                   0          0             0  "
      ]
     },
     "execution_count": 3,
     "metadata": {},
     "output_type": "execute_result"
    }
   ],
   "source": [
    "df = pd.read_csv('xrays1_6.csv')\n",
    "df.head()"
   ]
  },
  {
   "cell_type": "code",
   "execution_count": 4,
   "metadata": {},
   "outputs": [
    {
     "data": {
      "text/plain": [
       "No_Finding\n",
       "1    31160\n",
       "0    23836\n",
       "Name: count, dtype: int64"
      ]
     },
     "execution_count": 4,
     "metadata": {},
     "output_type": "execute_result"
    }
   ],
   "source": [
    "df['No_Finding'].value_counts()"
   ]
  },
  {
   "cell_type": "code",
   "execution_count": 5,
   "metadata": {},
   "outputs": [
    {
     "data": {
      "text/html": [
       "<div>\n",
       "<style scoped>\n",
       "    .dataframe tbody tr th:only-of-type {\n",
       "        vertical-align: middle;\n",
       "    }\n",
       "\n",
       "    .dataframe tbody tr th {\n",
       "        vertical-align: top;\n",
       "    }\n",
       "\n",
       "    .dataframe thead th {\n",
       "        text-align: right;\n",
       "    }\n",
       "</style>\n",
       "<table border=\"1\" class=\"dataframe\">\n",
       "  <thead>\n",
       "    <tr style=\"text-align: right;\">\n",
       "      <th></th>\n",
       "      <th>Image Index</th>\n",
       "      <th>Patient Age</th>\n",
       "      <th>Patient Gender</th>\n",
       "      <th>No_Finding</th>\n",
       "      <th>Atelectasis</th>\n",
       "      <th>Cardiomegaly</th>\n",
       "      <th>Consolidation</th>\n",
       "      <th>Edema</th>\n",
       "      <th>Effusion</th>\n",
       "      <th>Emphysema</th>\n",
       "      <th>Fibrosis</th>\n",
       "      <th>Infiltration</th>\n",
       "      <th>Mass</th>\n",
       "      <th>Nodule</th>\n",
       "      <th>Pleural_Thickening</th>\n",
       "      <th>Pneumonia</th>\n",
       "      <th>Pneumothorax</th>\n",
       "    </tr>\n",
       "  </thead>\n",
       "  <tbody>\n",
       "    <tr>\n",
       "      <th>0</th>\n",
       "      <td>00000001_000.png</td>\n",
       "      <td>58</td>\n",
       "      <td>1</td>\n",
       "      <td>0</td>\n",
       "      <td>0</td>\n",
       "      <td>1</td>\n",
       "      <td>0</td>\n",
       "      <td>0</td>\n",
       "      <td>0</td>\n",
       "      <td>0</td>\n",
       "      <td>0</td>\n",
       "      <td>0</td>\n",
       "      <td>0</td>\n",
       "      <td>0</td>\n",
       "      <td>0</td>\n",
       "      <td>0</td>\n",
       "      <td>0</td>\n",
       "    </tr>\n",
       "    <tr>\n",
       "      <th>1</th>\n",
       "      <td>00000001_001.png</td>\n",
       "      <td>58</td>\n",
       "      <td>1</td>\n",
       "      <td>0</td>\n",
       "      <td>0</td>\n",
       "      <td>1</td>\n",
       "      <td>0</td>\n",
       "      <td>0</td>\n",
       "      <td>0</td>\n",
       "      <td>1</td>\n",
       "      <td>0</td>\n",
       "      <td>0</td>\n",
       "      <td>0</td>\n",
       "      <td>0</td>\n",
       "      <td>0</td>\n",
       "      <td>0</td>\n",
       "      <td>0</td>\n",
       "    </tr>\n",
       "    <tr>\n",
       "      <th>2</th>\n",
       "      <td>00000001_002.png</td>\n",
       "      <td>58</td>\n",
       "      <td>1</td>\n",
       "      <td>0</td>\n",
       "      <td>0</td>\n",
       "      <td>1</td>\n",
       "      <td>0</td>\n",
       "      <td>0</td>\n",
       "      <td>1</td>\n",
       "      <td>0</td>\n",
       "      <td>0</td>\n",
       "      <td>0</td>\n",
       "      <td>0</td>\n",
       "      <td>0</td>\n",
       "      <td>0</td>\n",
       "      <td>0</td>\n",
       "      <td>0</td>\n",
       "    </tr>\n",
       "    <tr>\n",
       "      <th>3</th>\n",
       "      <td>00000002_000.png</td>\n",
       "      <td>81</td>\n",
       "      <td>1</td>\n",
       "      <td>1</td>\n",
       "      <td>0</td>\n",
       "      <td>0</td>\n",
       "      <td>0</td>\n",
       "      <td>0</td>\n",
       "      <td>0</td>\n",
       "      <td>0</td>\n",
       "      <td>0</td>\n",
       "      <td>0</td>\n",
       "      <td>0</td>\n",
       "      <td>0</td>\n",
       "      <td>0</td>\n",
       "      <td>0</td>\n",
       "      <td>0</td>\n",
       "    </tr>\n",
       "    <tr>\n",
       "      <th>4</th>\n",
       "      <td>00000003_000.png</td>\n",
       "      <td>81</td>\n",
       "      <td>0</td>\n",
       "      <td>0</td>\n",
       "      <td>0</td>\n",
       "      <td>0</td>\n",
       "      <td>0</td>\n",
       "      <td>0</td>\n",
       "      <td>0</td>\n",
       "      <td>0</td>\n",
       "      <td>0</td>\n",
       "      <td>0</td>\n",
       "      <td>0</td>\n",
       "      <td>0</td>\n",
       "      <td>0</td>\n",
       "      <td>0</td>\n",
       "      <td>0</td>\n",
       "    </tr>\n",
       "  </tbody>\n",
       "</table>\n",
       "</div>"
      ],
      "text/plain": [
       "        Image Index  Patient Age  Patient Gender  No_Finding  Atelectasis  \\\n",
       "0  00000001_000.png           58               1           0            0   \n",
       "1  00000001_001.png           58               1           0            0   \n",
       "2  00000001_002.png           58               1           0            0   \n",
       "3  00000002_000.png           81               1           1            0   \n",
       "4  00000003_000.png           81               0           0            0   \n",
       "\n",
       "   Cardiomegaly  Consolidation  Edema  Effusion  Emphysema  Fibrosis  \\\n",
       "0             1              0      0         0          0         0   \n",
       "1             1              0      0         0          1         0   \n",
       "2             1              0      0         1          0         0   \n",
       "3             0              0      0         0          0         0   \n",
       "4             0              0      0         0          0         0   \n",
       "\n",
       "   Infiltration  Mass  Nodule  Pleural_Thickening  Pneumonia  Pneumothorax  \n",
       "0             0     0       0                   0          0             0  \n",
       "1             0     0       0                   0          0             0  \n",
       "2             0     0       0                   0          0             0  \n",
       "3             0     0       0                   0          0             0  \n",
       "4             0     0       0                   0          0             0  "
      ]
     },
     "execution_count": 5,
     "metadata": {},
     "output_type": "execute_result"
    }
   ],
   "source": [
    "use_nofind = True\n",
    "'''if use_nofind:\n",
    "    no_find_idx = df.index[df['No_Finding']==1].to_list()\n",
    "    num = int(0.8 * len(no_find_idx))\n",
    "    np.random.seed(42)\n",
    "    no_find_drops = np.random.choice(no_find_idx, size=num, replace=False)\n",
    "    df.drop(index=no_find_idx,inplace=True)\n",
    "else:\n",
    "    df = df[df['No_Finding']!=1]\n",
    "    df.drop('No_Finding',axis=1,inplace=True)'''\n",
    "df.head()"
   ]
  },
  {
   "cell_type": "code",
   "execution_count": 6,
   "metadata": {},
   "outputs": [
    {
     "name": "stdout",
     "output_type": "stream",
     "text": [
      "Index(['Image Index', 'Patient Age', 'Patient Gender', 'No_Finding',\n",
      "       'Atelectasis', 'Cardiomegaly', 'Consolidation', 'Edema', 'Effusion',\n",
      "       'Emphysema', 'Fibrosis', 'Infiltration', 'Mass', 'Nodule',\n",
      "       'Pleural_Thickening', 'Pneumonia', 'Pneumothorax'],\n",
      "      dtype='object')\n",
      "(54996, 17)\n"
     ]
    }
   ],
   "source": [
    "print(df.columns)\n",
    "print(df.shape)"
   ]
  },
  {
   "cell_type": "code",
   "execution_count": 7,
   "metadata": {},
   "outputs": [],
   "source": [
    "labels = ['No_Finding', 'Atelectasis', 'Cardiomegaly', 'Consolidation', 'Edema',\n",
    "       'Effusion', 'Emphysema', 'Fibrosis', 'Infiltration', 'Mass', 'Nodule',\n",
    "       'Pleural_Thickening', 'Pneumonia', 'Pneumothorax']"
   ]
  },
  {
   "cell_type": "code",
   "execution_count": 8,
   "metadata": {},
   "outputs": [
    {
     "data": {
      "text/plain": [
       "\"if not os.path.exists(norm_img_path):\\n    X = []\\n    for image_filename in df['Image Index']:\\n        img_path = os.path.join(image_folder, image_filename)\\n        img = load_img(img_path, color_mode='grayscale')\\n        img = img_to_array(img)\\n        X.append(img / 255)\\n    X = np.array(X)\\n    np.save(norm_img_path,X)\\n\\n    del X\\n    gc.collect()\""
      ]
     },
     "execution_count": 8,
     "metadata": {},
     "output_type": "execute_result"
    }
   ],
   "source": [
    "image_folder = 'D:\\\\Downloads\\\\xrays\\\\images' # Folder containing the images\n",
    "image_size = (224, 224, 1)  # Assuming images are resized to (224, 224)\n",
    "norm_img_path = 'img_1_6.npy'\n",
    "y = df[labels].values\n",
    "\n",
    "'''if not os.path.exists(norm_img_path):\n",
    "    X = []\n",
    "    for image_filename in df['Image Index']:\n",
    "        img_path = os.path.join(image_folder, image_filename)\n",
    "        img = load_img(img_path, color_mode='grayscale')\n",
    "        img = img_to_array(img)\n",
    "        X.append(img / 255)\n",
    "    X = np.array(X)\n",
    "    np.save(norm_img_path,X)\n",
    "\n",
    "    del X\n",
    "    gc.collect()'''"
   ]
  },
  {
   "cell_type": "code",
   "execution_count": 9,
   "metadata": {},
   "outputs": [
    {
     "data": {
      "text/plain": [
       "array([[0, 0, 1, 0, 0, 0, 0, 0, 0, 0, 0, 0, 0, 0],\n",
       "       [0, 0, 1, 0, 0, 0, 1, 0, 0, 0, 0, 0, 0, 0],\n",
       "       [0, 0, 1, 0, 0, 1, 0, 0, 0, 0, 0, 0, 0, 0]], dtype=int64)"
      ]
     },
     "execution_count": 9,
     "metadata": {},
     "output_type": "execute_result"
    }
   ],
   "source": [
    "y[:3]"
   ]
  },
  {
   "cell_type": "code",
   "execution_count": 10,
   "metadata": {},
   "outputs": [],
   "source": [
    "datagen = ImageDataGenerator(\n",
    "    rotation_range=15,\n",
    "    width_shift_range=0.1,\n",
    "    height_shift_range=0.1,\n",
    "    zoom_range=0.1,\n",
    "    fill_mode='nearest'\n",
    ")"
   ]
  },
  {
   "cell_type": "code",
   "execution_count": 11,
   "metadata": {},
   "outputs": [
    {
     "data": {
      "text/plain": [
       "\"train_df, valid_df = train_test_split(df, \\n                                   test_size = 0.3, \\n                                   random_state = 42,\\n                                   stratify = df['No_Finding'])\\nprint('train', train_df.shape[0], 'validation', valid_df.shape[0])\""
      ]
     },
     "execution_count": 11,
     "metadata": {},
     "output_type": "execute_result"
    }
   ],
   "source": [
    "'''train_df, valid_df = train_test_split(df, \n",
    "                                   test_size = 0.3, \n",
    "                                   random_state = 42,\n",
    "                                   stratify = df['No_Finding'])\n",
    "print('train', train_df.shape[0], 'validation', valid_df.shape[0])'''"
   ]
  },
  {
   "cell_type": "code",
   "execution_count": 12,
   "metadata": {},
   "outputs": [
    {
     "data": {
      "text/plain": [
       "\"def flow_from_dataframe(img_data_gen, in_df, path_col, y_col, **dflow_args):\\n    base_dir = os.path.dirname(in_df[path_col].values[0])\\n    print('## Ignore next message from keras, values are replaced anyways')\\n    df_gen = img_data_gen.flow_from_directory(base_dir, \\n                                     class_mode = 'sparse',\\n                                    **dflow_args)\\n    df_gen.filenames = in_df[path_col].values\\n    df_gen.classes = np.stack(in_df[y_col].values)\\n    df_gen.samples = in_df.shape[0]\\n    df_gen.n = in_df.shape[0]\\n    df_gen._set_index_array()\\n    df_gen.directory = '' # since we have the full path\\n    print('Reinserting dataframe: {} images'.format(in_df.shape[0]))\\n    return df_gen\""
      ]
     },
     "execution_count": 12,
     "metadata": {},
     "output_type": "execute_result"
    }
   ],
   "source": [
    "'''def flow_from_dataframe(img_data_gen, in_df, path_col, y_col, **dflow_args):\n",
    "    base_dir = os.path.dirname(in_df[path_col].values[0])\n",
    "    print('## Ignore next message from keras, values are replaced anyways')\n",
    "    df_gen = img_data_gen.flow_from_directory(base_dir, \n",
    "                                     class_mode = 'sparse',\n",
    "                                    **dflow_args)\n",
    "    df_gen.filenames = in_df[path_col].values\n",
    "    df_gen.classes = np.stack(in_df[y_col].values)\n",
    "    df_gen.samples = in_df.shape[0]\n",
    "    df_gen.n = in_df.shape[0]\n",
    "    df_gen._set_index_array()\n",
    "    df_gen.directory = '' # since we have the full path\n",
    "    print('Reinserting dataframe: {} images'.format(in_df.shape[0]))\n",
    "    return df_gen'''"
   ]
  },
  {
   "cell_type": "code",
   "execution_count": 13,
   "metadata": {},
   "outputs": [
    {
     "data": {
      "text/plain": [
       "\"train_gen = flow_from_dataframe(datagen, train_df, \\n                             path_col = 'path',\\n                            y_col = 'disease_vec', \\n                            target_size = IMG_SIZE,\\n                             color_mode = 'grayscale',\\n                            batch_size = 32)\""
      ]
     },
     "execution_count": 13,
     "metadata": {},
     "output_type": "execute_result"
    }
   ],
   "source": [
    "'''train_gen = flow_from_dataframe(datagen, train_df, \n",
    "                             path_col = 'path',\n",
    "                            y_col = 'disease_vec', \n",
    "                            target_size = IMG_SIZE,\n",
    "                             color_mode = 'grayscale',\n",
    "                            batch_size = 32)'''"
   ]
  },
  {
   "cell_type": "code",
   "execution_count": 14,
   "metadata": {},
   "outputs": [],
   "source": [
    "def load_and_process_images(df, image_folder, dst, y):\n",
    "    batch_size = 32  # Adjust the batch size as needed\n",
    "\n",
    "    num_images = len(df)\n",
    "    num_batches = num_images // batch_size\n",
    "    if num_images % batch_size != 0:\n",
    "        num_batches += 1\n",
    "\n",
    "    # Create folders for x_train, y_train, x_val, and y_val batches\n",
    "    os.makedirs(os.path.join(dst, \"x_trains\"), exist_ok=True)\n",
    "    os.makedirs(os.path.join(dst, \"y_trains\"), exist_ok=True)\n",
    "    os.makedirs(os.path.join(dst, \"x_vals\"), exist_ok=True)\n",
    "    os.makedirs(os.path.join(dst, \"y_vals\"), exist_ok=True)\n",
    "\n",
    "\n",
    "    for batch_index in range(num_batches):\n",
    "        start_index = batch_index * batch_size\n",
    "        end_index = min((batch_index + 1) * batch_size, num_images)\n",
    "        \n",
    "        batch_X, batch_y = [], []\n",
    "        for image_filename, label in zip(df['Image Index'].iloc[start_index:end_index], y[start_index:end_index]):\n",
    "            img_path = os.path.join(image_folder, image_filename)\n",
    "            img = load_img(img_path, color_mode='grayscale')\n",
    "            img = img_to_array(img)\n",
    "            batch_X.append(img / 255)\n",
    "            batch_y.append(label)\n",
    "\n",
    "        if batch_index % (num_batches // 20) == 0 or batch_index == num_batches - 1:\n",
    "            print(f\"Batch: {batch_index + 1}/{num_batches}\")\n",
    "\n",
    "        x_train_batch, x_val_batch, y_train_batch, y_val_batch = train_test_split(\n",
    "            np.array(batch_X), np.array(batch_y),\n",
    "            test_size=0.3,\n",
    "            random_state=42\n",
    "        )\n",
    "\n",
    "        # Save each batch to separate files in respective folders\n",
    "        np.save(os.path.join(dst, \"x_trains\", f\"x_train_batch_{batch_index}.npy\"), x_train_batch)\n",
    "        np.save(os.path.join(dst, \"y_trains\", f\"y_train_batch_{batch_index}.npy\"), y_train_batch)\n",
    "        np.save(os.path.join(dst, \"x_vals\", f\"x_val_batch_{batch_index}.npy\"), x_val_batch)\n",
    "        np.save(os.path.join(dst, \"y_vals\", f\"y_val_batch_{batch_index}.npy\"), y_val_batch)"
   ]
  },
  {
   "cell_type": "code",
   "execution_count": 15,
   "metadata": {},
   "outputs": [
    {
     "name": "stdout",
     "output_type": "stream",
     "text": [
      "Batch: 1/1719\n",
      "Batch: 86/1719\n",
      "Batch: 171/1719\n",
      "Batch: 256/1719\n",
      "Batch: 341/1719\n",
      "Batch: 426/1719\n",
      "Batch: 511/1719\n",
      "Batch: 596/1719\n",
      "Batch: 681/1719\n",
      "Batch: 766/1719\n",
      "Batch: 851/1719\n",
      "Batch: 936/1719\n",
      "Batch: 1021/1719\n",
      "Batch: 1106/1719\n",
      "Batch: 1191/1719\n",
      "Batch: 1276/1719\n",
      "Batch: 1361/1719\n",
      "Batch: 1446/1719\n",
      "Batch: 1531/1719\n",
      "Batch: 1616/1719\n",
      "Batch: 1701/1719\n",
      "Batch: 1719/1719\n"
     ]
    }
   ],
   "source": [
    "folder = 'D:\\\\Downloads\\\\xrays'\n",
    "#load_and_process_images(df, image_folder, folder, y)"
   ]
  },
  {
   "cell_type": "code",
   "execution_count": 16,
   "metadata": {},
   "outputs": [
    {
     "data": {
      "text/plain": [
       "'if not os.path.exists(norm_img_path):\\n    x_train, x_val, y_train, y_val = load_and_process_images(\\n        df, \\n        image_folder,\\n        y)\\nelse:\\n    x_train, x_val, y_train, y_val = train_test_split(\\n        np.load(norm_img_path), \\n        y, \\n        test_size=0.3, \\n        random_state=42)'"
      ]
     },
     "execution_count": 16,
     "metadata": {},
     "output_type": "execute_result"
    }
   ],
   "source": [
    "'''if not os.path.exists(norm_img_path):\n",
    "    x_train, x_val, y_train, y_val = load_and_process_images(\n",
    "        df, \n",
    "        image_folder,\n",
    "        y)\n",
    "else:\n",
    "    x_train, x_val, y_train, y_val = train_test_split(\n",
    "        np.load(norm_img_path), \n",
    "        y, \n",
    "        test_size=0.3, \n",
    "        random_state=42)'''"
   ]
  },
  {
   "cell_type": "code",
   "execution_count": 17,
   "metadata": {},
   "outputs": [
    {
     "data": {
      "text/plain": [
       "'\\nx_val, x_test, y_val, y_test = train_test_split(\\n    x_val,\\n    y_val,\\n    test_size=0.5,\\n    stratify=y_val,\\n    random_state=42\\n)'"
      ]
     },
     "execution_count": 17,
     "metadata": {},
     "output_type": "execute_result"
    }
   ],
   "source": [
    "'''\n",
    "x_val, x_test, y_val, y_test = train_test_split(\n",
    "    x_val,\n",
    "    y_val,\n",
    "    test_size=0.5,\n",
    "    stratify=y_val,\n",
    "    random_state=42\n",
    ")'''"
   ]
  },
  {
   "cell_type": "code",
   "execution_count": 18,
   "metadata": {},
   "outputs": [
    {
     "data": {
      "text/plain": [
       "\"opt = Adam(learning_rate=0.0005)\\nepochs = 20\\nbatch_size = 16\\n\\nmodel.compile(\\n    optimizer=opt,\\n    loss='binary_crossentropy', \\n    metrics=['binary_accuracy'])\\n\\ntraining_time = time()\\nhistory = model.fit(\\n    datagen.flow(x_train, y_train, batch_size=batch_size), \\n    epochs=epochs, \\n    validation_data=(x_val, y_val), \\n    callbacks=[early_stopping, model_checkpoint, reduce_lr])\\ntraining_time = training_time - time()\\n\""
      ]
     },
     "execution_count": 18,
     "metadata": {},
     "output_type": "execute_result"
    }
   ],
   "source": [
    "'''opt = Adam(learning_rate=0.0005)\n",
    "epochs = 20\n",
    "batch_size = 16\n",
    "\n",
    "model.compile(\n",
    "    optimizer=opt,\n",
    "    loss='binary_crossentropy', \n",
    "    metrics=['binary_accuracy'])\n",
    "\n",
    "training_time = time()\n",
    "history = model.fit(\n",
    "    datagen.flow(x_train, y_train, batch_size=batch_size), \n",
    "    epochs=epochs, \n",
    "    validation_data=(x_val, y_val), \n",
    "    callbacks=[early_stopping, model_checkpoint, reduce_lr])\n",
    "training_time = training_time - time()\n",
    "'''"
   ]
  },
  {
   "cell_type": "code",
   "execution_count": 19,
   "metadata": {},
   "outputs": [],
   "source": [
    "class ImageDataLoader:\n",
    "    def __init__(self, image_folder, datagen, image_size=(224, 224, 3), batch_size=32):\n",
    "        self.image_folder = image_folder\n",
    "        self.image_size = image_size\n",
    "        self.batch_size = batch_size\n",
    "        self.datagen = datagen\n",
    "\n",
    "    def load_and_augment_images(self, df):\n",
    "        X = []\n",
    "        num_images = len(df)\n",
    "        for i in range(0, num_images, self.batch_size):\n",
    "            print(f'{i}/{num_images}')\n",
    "            batch_images = []\n",
    "            for image_filename in df['Image Index'].iloc[i:i+self.batch_size]:\n",
    "                img_path = self.image_folder + image_filename\n",
    "                img = load_img(img_path, target_size=image_size)\n",
    "                img = img_to_array(img)\n",
    "                batch_images.append(img / 255.0)\n",
    "            batch_images = np.array(batch_images)\n",
    "\n",
    "            augmented_images = []\n",
    "            for batch_img in batch_images:\n",
    "                augmented_img = self.datagen.random_transform(batch_img)\n",
    "                augmented_images.append(augmented_img)\n",
    "            augmented_images = np.array(augmented_images)\n",
    "\n",
    "            if len(X) == 0:\n",
    "                X = augmented_images\n",
    "            else:\n",
    "                X = np.vstack((X, augmented_images))\n",
    "        \n",
    "        return X"
   ]
  },
  {
   "cell_type": "code",
   "execution_count": 20,
   "metadata": {},
   "outputs": [
    {
     "data": {
      "text/plain": [
       "'opt = Adam(learning_rate=0.0005)\\nepochs = 20\\nbatch_size = 32\\n\\ndata_loader = ImageDataLoader(\\n    image_folder=image_folder, \\n    datagen=datagen, \\n    image_size=input_shape, \\n    batch_size=batch_size)\\nX = data_loader.load_and_augment_images(df)\\ny = df[labels].values\\nx_train, x_val, y_train, y_val = train_test_split(X, y, test_size=0.3, random_state=42)'"
      ]
     },
     "execution_count": 20,
     "metadata": {},
     "output_type": "execute_result"
    }
   ],
   "source": [
    "'''opt = Adam(learning_rate=0.0005)\n",
    "epochs = 20\n",
    "batch_size = 32\n",
    "\n",
    "data_loader = ImageDataLoader(\n",
    "    image_folder=image_folder, \n",
    "    datagen=datagen, \n",
    "    image_size=input_shape, \n",
    "    batch_size=batch_size)\n",
    "X = data_loader.load_and_augment_images(df)\n",
    "y = df[labels].values\n",
    "x_train, x_val, y_train, y_val = train_test_split(X, y, test_size=0.3, random_state=42)'''"
   ]
  },
  {
   "cell_type": "code",
   "execution_count": 21,
   "metadata": {},
   "outputs": [],
   "source": [
    "def plot_loss_accuracy(history,  metric_acc='accuracy'):\n",
    "    fig = plt.figure(figsize=(12, 6))\n",
    "    ax = fig.add_subplot(1, 2, 1)\n",
    "    ax.plot(history.history[\"loss\"],'r-x', label=\"Train Loss\")\n",
    "    ax.plot(history.history[\"val_loss\"],'b-x', label=\"Validation Loss\")\n",
    "    ax.legend()\n",
    "    ax.set_title('Cross Entropy Loss')\n",
    "    ax.grid(True)\n",
    "\n",
    "\n",
    "    ax = fig.add_subplot(1, 2, 2)\n",
    "    ax.plot(history.history[metric_acc],'r-x', label=\"Train Accuracy\")\n",
    "    ax.plot(history.history['val_'+metric_acc],'b-x', label=\"Validation Accuracy\")\n",
    "    ax.legend()\n",
    "    ax.set_title('Accuracy')\n",
    "    ax.grid(True)\n",
    "\n",
    "def display_roc(roc_auc , fpr, tpr, class_num, model_name=''):\n",
    "    plt.figure(figsize=(10, 6))\n",
    "    for i in range(class_num):\n",
    "        plt.plot(fpr[i], tpr[i], lw=2, label='ROC curve (class {}) (AUC = {:.2f})'.format(i, roc_auc[i]))\n",
    "\n",
    "    plt.plot([0, 1], [0, 1], color='navy', lw=2, linestyle='--')                                                                                                                   \n",
    "    plt.xlim([0.0, 1.0])\n",
    "    plt.ylim([0.0, 1.05])\n",
    "    plt.xlabel('False Positive Rate')\n",
    "    plt.ylabel('True Positive Rate')\n",
    "    plt.title('ROC Curve of {}'.format(model_name))\n",
    "    plt.legend(loc=\"lower right\")\n",
    "    plt.show()\n",
    "\n",
    "def plot_multiclass_roc(y, y_pred, class_num, model_name='', show=True):\n",
    "    fpr = dict()\n",
    "    tpr = dict()\n",
    "    roc_auc = dict()\n",
    "\n",
    "    print(y.shape)\n",
    "    print(y_pred.shape)\n",
    "    for i in range(class_num):\n",
    "        fpr[i], tpr[i], _ = roc_curve(y[:,i], y_pred[:,i])\n",
    "        roc_auc[i] = auc(fpr[i], tpr[i])\n",
    "    if show:    display_roc(roc_auc,fpr,tpr,class_num,model_name)\n",
    "    else: return roc_auc"
   ]
  },
  {
   "cell_type": "code",
   "execution_count": 50,
   "metadata": {},
   "outputs": [
    {
     "name": "stdout",
     "output_type": "stream",
     "text": [
      "Model: \"xray_model1_6\"\n",
      "_________________________________________________________________\n",
      " Layer (type)                Output Shape              Param #   \n",
      "=================================================================\n",
      " conv2d_6 (Conv2D)           (None, 224, 224, 32)      832       \n",
      "                                                                 \n",
      " batch_normalization_6 (Bat  (None, 224, 224, 32)      128       \n",
      " chNormalization)                                                \n",
      "                                                                 \n",
      " max_pooling2d_6 (MaxPoolin  (None, 112, 112, 32)      0         \n",
      " g2D)                                                            \n",
      "                                                                 \n",
      " dropout_8 (Dropout)         (None, 112, 112, 32)      0         \n",
      "                                                                 \n",
      " conv2d_7 (Conv2D)           (None, 112, 112, 64)      51264     \n",
      "                                                                 \n",
      " batch_normalization_7 (Bat  (None, 112, 112, 64)      256       \n",
      " chNormalization)                                                \n",
      "                                                                 \n",
      " max_pooling2d_7 (MaxPoolin  (None, 56, 56, 64)        0         \n",
      " g2D)                                                            \n",
      "                                                                 \n",
      " dropout_9 (Dropout)         (None, 56, 56, 64)        0         \n",
      "                                                                 \n",
      " conv2d_8 (Conv2D)           (None, 56, 56, 128)       204928    \n",
      "                                                                 \n",
      " batch_normalization_8 (Bat  (None, 56, 56, 128)       512       \n",
      " chNormalization)                                                \n",
      "                                                                 \n",
      " max_pooling2d_8 (MaxPoolin  (None, 28, 28, 128)       0         \n",
      " g2D)                                                            \n",
      "                                                                 \n",
      " dropout_10 (Dropout)        (None, 28, 28, 128)       0         \n",
      "                                                                 \n",
      " flatten_2 (Flatten)         (None, 100352)            0         \n",
      "                                                                 \n",
      " dropout_11 (Dropout)        (None, 100352)            0         \n",
      "                                                                 \n",
      " dense_2 (Dense)             (None, 1)                 100353    \n",
      "                                                                 \n",
      " activation_2 (Activation)   (None, 1)                 0         \n",
      "                                                                 \n",
      "=================================================================\n",
      "Total params: 358273 (1.37 MB)\n",
      "Trainable params: 357825 (1.36 MB)\n",
      "Non-trainable params: 448 (1.75 KB)\n",
      "_________________________________________________________________\n"
     ]
    }
   ],
   "source": [
    "l1_penalty = 0.0001\n",
    "l2_penalty = 0.0001\n",
    "model_name = 'xray_model1_6'\n",
    "model = Sequential(name=model_name)\n",
    "\n",
    "#Input\n",
    "model.add(Input(shape=input_shape))\n",
    "\n",
    "#Conv1\n",
    "model.add(Conv2D(32, (5, 5), strides=(1,1), activation='relu', padding='same', kernel_regularizer=l1_l2(l1=l1_penalty,l2=l2_penalty)))\n",
    "model.add(BatchNormalization())\n",
    "\n",
    "#MaxPool1\n",
    "model.add(MaxPooling2D(pool_size=(2,2), strides=(2,2)))\n",
    "model.add(Dropout(0.3))\n",
    "\n",
    "#Conv2\n",
    "model.add(Conv2D(64, (5, 5), strides=(1,1), activation='relu', padding='same', kernel_regularizer=l1_l2(l1=l1_penalty,l2=l2_penalty)))\n",
    "model.add(BatchNormalization())\n",
    "#MaxPool2\n",
    "model.add(MaxPooling2D(pool_size=(2,2), strides=(2,2)))\n",
    "model.add(Dropout(0.3))\n",
    "\n",
    "#Conv3\n",
    "model.add(Conv2D(128, (5, 5), strides=(1,1), activation='relu', padding='same', kernel_regularizer=l1_l2(l1=l1_penalty,l2=l2_penalty)))\n",
    "model.add(BatchNormalization())\n",
    "\n",
    "#MaxPool3\n",
    "model.add(MaxPooling2D(pool_size=(2,2)))\n",
    "model.add(Dropout(0.3))\n",
    "\n",
    "#Flatten\n",
    "model.add(Flatten())\n",
    "\n",
    "#Final Classification\n",
    "model.add(Dropout(0.5))\n",
    "model.add(Dense(1))\n",
    "model.add(Activation('sigmoid'))\n",
    "\n",
    "model.summary()"
   ]
  },
  {
   "cell_type": "code",
   "execution_count": 51,
   "metadata": {},
   "outputs": [],
   "source": [
    "opt = Adam(learning_rate=0.0001)\n",
    "epochs = 1\n",
    "batch_size = 32\n",
    "acc_metric = 'binary_accuracy'\n",
    "\n",
    "early_stopping = EarlyStopping(\n",
    "    monitor='val_loss', \n",
    "    patience=3, \n",
    "    verbose=1, \n",
    "    restore_best_weights=True)\n",
    "reduce_lr = ReduceLROnPlateau(\n",
    "    monitor='val_loss', \n",
    "    factor=0.5, \n",
    "    patience=1, \n",
    "    min_lr=0.000001)\n",
    "model_checkpoint = ModelCheckpoint(\n",
    "    filepath=model_name+'.keras', \n",
    "    monitor='val_'+acc_metric, \n",
    "    save_best_only=True, \n",
    "    verbose=1)\n",
    "\n"
   ]
  },
  {
   "cell_type": "code",
   "execution_count": 52,
   "metadata": {},
   "outputs": [],
   "source": [
    "def load_npy_files(src, name, samples):\n",
    "    print(src)\n",
    "    data = []\n",
    "    for idx in samples:\n",
    "        data.append(np.load(os.path.join(src, name+f'{idx}.npy')))\n",
    "    return np.concatenate(data,axis=0)"
   ]
  },
  {
   "cell_type": "code",
   "execution_count": 53,
   "metadata": {},
   "outputs": [],
   "source": [
    "if not os.path.exists(os.path.join(folder, \"x_train.npy\")):\n",
    "    np.random.seed(42)\n",
    "    n = len(os.listdir(os.path.join(folder, \"x_trains\")))\n",
    "    sample_n = 500\n",
    "    file_indices = np.arange(n)\n",
    "    sample_indices = np.random.choice(file_indices,size=sample_n,replace=False)\n",
    "    sample_indices = np.sort(sample_indices)\n",
    "    x_train = load_npy_files(os.path.join(folder, \"x_trains\"),'x_train_batch_',sample_indices)\n",
    "    y_train = load_npy_files(os.path.join(folder, \"y_trains\"),'y_train_batch_',sample_indices)\n",
    "    x_val = load_npy_files(os.path.join(folder, \"x_vals\"),'x_val_batch_',sample_indices)\n",
    "    y_val = load_npy_files(os.path.join(folder, \"y_vals\"),'y_val_batch_',sample_indices)\n",
    "\n",
    "    np.save(os.path.join(folder, \"x_train.npy\"),x_train)\n",
    "    np.save(os.path.join(folder, \"y_train.npy\"),y_train)\n",
    "    np.save(os.path.join(folder, \"x_val.npy\"),x_val)\n",
    "    np.save(os.path.join(folder, \"y_val.npy\"),y_val)\n",
    "else:\n",
    "    x_train = np.load(os.path.join(folder, \"x_train.npy\"))\n",
    "    y_train = np.load(os.path.join(folder, \"y_train.npy\"))\n",
    "    x_val = np.load(os.path.join(folder, \"x_val.npy\"))\n",
    "    y_val = np.load(os.path.join(folder, \"y_val.npy\"))"
   ]
  },
  {
   "cell_type": "code",
   "execution_count": 54,
   "metadata": {},
   "outputs": [
    {
     "name": "stdout",
     "output_type": "stream",
     "text": [
      "1719\n"
     ]
    }
   ],
   "source": [
    "n = len(os.listdir(os.path.join(folder, \"x_trains\")))\n",
    "print(n)\n",
    "sample_n = 500\n",
    "file_indices = np.arange(n)"
   ]
  },
  {
   "cell_type": "code",
   "execution_count": 55,
   "metadata": {},
   "outputs": [
    {
     "name": "stdout",
     "output_type": "stream",
     "text": [
      "(11000, 224, 224, 1)\n",
      "(11000, 14)\n",
      "(5000, 224, 224, 1)\n",
      "(5000, 14)\n"
     ]
    }
   ],
   "source": [
    "print('X Train shape:',x_train.shape)\n",
    "print'y Train shape:',(y_train.shape)\n",
    "print('X Validation shape:',x_val.shape)\n",
    "print('y Validation shape:',y_val.shape)"
   ]
  },
  {
   "cell_type": "code",
   "execution_count": 56,
   "metadata": {},
   "outputs": [
    {
     "name": "stdout",
     "output_type": "stream",
     "text": [
      "150/344 [============>.................] - ETA: 16:40 - loss: 1.9705 - binary_accuracy: 0.5429"
     ]
    },
    {
     "ename": "KeyboardInterrupt",
     "evalue": "",
     "output_type": "error",
     "traceback": [
      "\u001b[1;31m---------------------------------------------------------------------------\u001b[0m",
      "\u001b[1;31mKeyboardInterrupt\u001b[0m                         Traceback (most recent call last)",
      "Cell \u001b[1;32mIn[56], line 12\u001b[0m\n\u001b[0;32m      7\u001b[0m     flow \u001b[39m=\u001b[39m datagen\u001b[39m.\u001b[39mflow(\n\u001b[0;32m      8\u001b[0m         x\u001b[39m=\u001b[39mx_train, \n\u001b[0;32m      9\u001b[0m         y\u001b[39m=\u001b[39my_train[:,[\u001b[39m0\u001b[39m]], \n\u001b[0;32m     10\u001b[0m         batch_size\u001b[39m=\u001b[39mbatch_size)\n\u001b[0;32m     11\u001b[0m     training_time \u001b[39m=\u001b[39m time()\n\u001b[1;32m---> 12\u001b[0m     history \u001b[39m=\u001b[39m model\u001b[39m.\u001b[39;49mfit(\n\u001b[0;32m     13\u001b[0m         flow, \n\u001b[0;32m     14\u001b[0m         batch_size\u001b[39m=\u001b[39;49mbatch_size, \n\u001b[0;32m     15\u001b[0m         epochs\u001b[39m=\u001b[39;49mepochs, \n\u001b[0;32m     16\u001b[0m         validation_data\u001b[39m=\u001b[39;49m(x_val, y_val[:,[\u001b[39m0\u001b[39;49m]]),\n\u001b[0;32m     17\u001b[0m         callbacks\u001b[39m=\u001b[39;49m[early_stopping, model_checkpoint, reduce_lr])\n\u001b[0;32m     18\u001b[0m     training_time \u001b[39m=\u001b[39m time() \u001b[39m-\u001b[39m training_time\n\u001b[0;32m     19\u001b[0m \u001b[39mexcept\u001b[39;00m \u001b[39mMemoryError\u001b[39;00m:\n",
      "File \u001b[1;32mc:\\Users\\USER\\AppData\\Local\\Programs\\Python\\Python311\\Lib\\site-packages\\keras\\src\\utils\\traceback_utils.py:65\u001b[0m, in \u001b[0;36mfilter_traceback.<locals>.error_handler\u001b[1;34m(*args, **kwargs)\u001b[0m\n\u001b[0;32m     63\u001b[0m filtered_tb \u001b[39m=\u001b[39m \u001b[39mNone\u001b[39;00m\n\u001b[0;32m     64\u001b[0m \u001b[39mtry\u001b[39;00m:\n\u001b[1;32m---> 65\u001b[0m     \u001b[39mreturn\u001b[39;00m fn(\u001b[39m*\u001b[39;49margs, \u001b[39m*\u001b[39;49m\u001b[39m*\u001b[39;49mkwargs)\n\u001b[0;32m     66\u001b[0m \u001b[39mexcept\u001b[39;00m \u001b[39mException\u001b[39;00m \u001b[39mas\u001b[39;00m e:\n\u001b[0;32m     67\u001b[0m     filtered_tb \u001b[39m=\u001b[39m _process_traceback_frames(e\u001b[39m.\u001b[39m__traceback__)\n",
      "File \u001b[1;32mc:\\Users\\USER\\AppData\\Local\\Programs\\Python\\Python311\\Lib\\site-packages\\keras\\src\\engine\\training.py:1807\u001b[0m, in \u001b[0;36mModel.fit\u001b[1;34m(self, x, y, batch_size, epochs, verbose, callbacks, validation_split, validation_data, shuffle, class_weight, sample_weight, initial_epoch, steps_per_epoch, validation_steps, validation_batch_size, validation_freq, max_queue_size, workers, use_multiprocessing)\u001b[0m\n\u001b[0;32m   1799\u001b[0m \u001b[39mwith\u001b[39;00m tf\u001b[39m.\u001b[39mprofiler\u001b[39m.\u001b[39mexperimental\u001b[39m.\u001b[39mTrace(\n\u001b[0;32m   1800\u001b[0m     \u001b[39m\"\u001b[39m\u001b[39mtrain\u001b[39m\u001b[39m\"\u001b[39m,\n\u001b[0;32m   1801\u001b[0m     epoch_num\u001b[39m=\u001b[39mepoch,\n\u001b[1;32m   (...)\u001b[0m\n\u001b[0;32m   1804\u001b[0m     _r\u001b[39m=\u001b[39m\u001b[39m1\u001b[39m,\n\u001b[0;32m   1805\u001b[0m ):\n\u001b[0;32m   1806\u001b[0m     callbacks\u001b[39m.\u001b[39mon_train_batch_begin(step)\n\u001b[1;32m-> 1807\u001b[0m     tmp_logs \u001b[39m=\u001b[39m \u001b[39mself\u001b[39;49m\u001b[39m.\u001b[39;49mtrain_function(iterator)\n\u001b[0;32m   1808\u001b[0m     \u001b[39mif\u001b[39;00m data_handler\u001b[39m.\u001b[39mshould_sync:\n\u001b[0;32m   1809\u001b[0m         context\u001b[39m.\u001b[39masync_wait()\n",
      "File \u001b[1;32mc:\\Users\\USER\\AppData\\Local\\Programs\\Python\\Python311\\Lib\\site-packages\\tensorflow\\python\\util\\traceback_utils.py:150\u001b[0m, in \u001b[0;36mfilter_traceback.<locals>.error_handler\u001b[1;34m(*args, **kwargs)\u001b[0m\n\u001b[0;32m    148\u001b[0m filtered_tb \u001b[39m=\u001b[39m \u001b[39mNone\u001b[39;00m\n\u001b[0;32m    149\u001b[0m \u001b[39mtry\u001b[39;00m:\n\u001b[1;32m--> 150\u001b[0m   \u001b[39mreturn\u001b[39;00m fn(\u001b[39m*\u001b[39;49margs, \u001b[39m*\u001b[39;49m\u001b[39m*\u001b[39;49mkwargs)\n\u001b[0;32m    151\u001b[0m \u001b[39mexcept\u001b[39;00m \u001b[39mException\u001b[39;00m \u001b[39mas\u001b[39;00m e:\n\u001b[0;32m    152\u001b[0m   filtered_tb \u001b[39m=\u001b[39m _process_traceback_frames(e\u001b[39m.\u001b[39m__traceback__)\n",
      "File \u001b[1;32mc:\\Users\\USER\\AppData\\Local\\Programs\\Python\\Python311\\Lib\\site-packages\\tensorflow\\python\\eager\\polymorphic_function\\polymorphic_function.py:832\u001b[0m, in \u001b[0;36mFunction.__call__\u001b[1;34m(self, *args, **kwds)\u001b[0m\n\u001b[0;32m    829\u001b[0m compiler \u001b[39m=\u001b[39m \u001b[39m\"\u001b[39m\u001b[39mxla\u001b[39m\u001b[39m\"\u001b[39m \u001b[39mif\u001b[39;00m \u001b[39mself\u001b[39m\u001b[39m.\u001b[39m_jit_compile \u001b[39melse\u001b[39;00m \u001b[39m\"\u001b[39m\u001b[39mnonXla\u001b[39m\u001b[39m\"\u001b[39m\n\u001b[0;32m    831\u001b[0m \u001b[39mwith\u001b[39;00m OptionalXlaContext(\u001b[39mself\u001b[39m\u001b[39m.\u001b[39m_jit_compile):\n\u001b[1;32m--> 832\u001b[0m   result \u001b[39m=\u001b[39m \u001b[39mself\u001b[39;49m\u001b[39m.\u001b[39;49m_call(\u001b[39m*\u001b[39;49margs, \u001b[39m*\u001b[39;49m\u001b[39m*\u001b[39;49mkwds)\n\u001b[0;32m    834\u001b[0m new_tracing_count \u001b[39m=\u001b[39m \u001b[39mself\u001b[39m\u001b[39m.\u001b[39mexperimental_get_tracing_count()\n\u001b[0;32m    835\u001b[0m without_tracing \u001b[39m=\u001b[39m (tracing_count \u001b[39m==\u001b[39m new_tracing_count)\n",
      "File \u001b[1;32mc:\\Users\\USER\\AppData\\Local\\Programs\\Python\\Python311\\Lib\\site-packages\\tensorflow\\python\\eager\\polymorphic_function\\polymorphic_function.py:868\u001b[0m, in \u001b[0;36mFunction._call\u001b[1;34m(self, *args, **kwds)\u001b[0m\n\u001b[0;32m    865\u001b[0m   \u001b[39mself\u001b[39m\u001b[39m.\u001b[39m_lock\u001b[39m.\u001b[39mrelease()\n\u001b[0;32m    866\u001b[0m   \u001b[39m# In this case we have created variables on the first call, so we run the\u001b[39;00m\n\u001b[0;32m    867\u001b[0m   \u001b[39m# defunned version which is guaranteed to never create variables.\u001b[39;00m\n\u001b[1;32m--> 868\u001b[0m   \u001b[39mreturn\u001b[39;00m tracing_compilation\u001b[39m.\u001b[39;49mcall_function(\n\u001b[0;32m    869\u001b[0m       args, kwds, \u001b[39mself\u001b[39;49m\u001b[39m.\u001b[39;49m_no_variable_creation_config\n\u001b[0;32m    870\u001b[0m   )\n\u001b[0;32m    871\u001b[0m \u001b[39melif\u001b[39;00m \u001b[39mself\u001b[39m\u001b[39m.\u001b[39m_variable_creation_config \u001b[39mis\u001b[39;00m \u001b[39mnot\u001b[39;00m \u001b[39mNone\u001b[39;00m:\n\u001b[0;32m    872\u001b[0m   \u001b[39m# Release the lock early so that multiple threads can perform the call\u001b[39;00m\n\u001b[0;32m    873\u001b[0m   \u001b[39m# in parallel.\u001b[39;00m\n\u001b[0;32m    874\u001b[0m   \u001b[39mself\u001b[39m\u001b[39m.\u001b[39m_lock\u001b[39m.\u001b[39mrelease()\n",
      "File \u001b[1;32mc:\\Users\\USER\\AppData\\Local\\Programs\\Python\\Python311\\Lib\\site-packages\\tensorflow\\python\\eager\\polymorphic_function\\tracing_compilation.py:139\u001b[0m, in \u001b[0;36mcall_function\u001b[1;34m(args, kwargs, tracing_options)\u001b[0m\n\u001b[0;32m    137\u001b[0m bound_args \u001b[39m=\u001b[39m function\u001b[39m.\u001b[39mfunction_type\u001b[39m.\u001b[39mbind(\u001b[39m*\u001b[39margs, \u001b[39m*\u001b[39m\u001b[39m*\u001b[39mkwargs)\n\u001b[0;32m    138\u001b[0m flat_inputs \u001b[39m=\u001b[39m function\u001b[39m.\u001b[39mfunction_type\u001b[39m.\u001b[39munpack_inputs(bound_args)\n\u001b[1;32m--> 139\u001b[0m \u001b[39mreturn\u001b[39;00m function\u001b[39m.\u001b[39;49m_call_flat(  \u001b[39m# pylint: disable=protected-access\u001b[39;49;00m\n\u001b[0;32m    140\u001b[0m     flat_inputs, captured_inputs\u001b[39m=\u001b[39;49mfunction\u001b[39m.\u001b[39;49mcaptured_inputs\n\u001b[0;32m    141\u001b[0m )\n",
      "File \u001b[1;32mc:\\Users\\USER\\AppData\\Local\\Programs\\Python\\Python311\\Lib\\site-packages\\tensorflow\\python\\eager\\polymorphic_function\\concrete_function.py:1323\u001b[0m, in \u001b[0;36mConcreteFunction._call_flat\u001b[1;34m(self, tensor_inputs, captured_inputs)\u001b[0m\n\u001b[0;32m   1319\u001b[0m possible_gradient_type \u001b[39m=\u001b[39m gradients_util\u001b[39m.\u001b[39mPossibleTapeGradientTypes(args)\n\u001b[0;32m   1320\u001b[0m \u001b[39mif\u001b[39;00m (possible_gradient_type \u001b[39m==\u001b[39m gradients_util\u001b[39m.\u001b[39mPOSSIBLE_GRADIENT_TYPES_NONE\n\u001b[0;32m   1321\u001b[0m     \u001b[39mand\u001b[39;00m executing_eagerly):\n\u001b[0;32m   1322\u001b[0m   \u001b[39m# No tape is watching; skip to running the function.\u001b[39;00m\n\u001b[1;32m-> 1323\u001b[0m   \u001b[39mreturn\u001b[39;00m \u001b[39mself\u001b[39;49m\u001b[39m.\u001b[39;49m_inference_function\u001b[39m.\u001b[39;49mcall_preflattened(args)\n\u001b[0;32m   1324\u001b[0m forward_backward \u001b[39m=\u001b[39m \u001b[39mself\u001b[39m\u001b[39m.\u001b[39m_select_forward_and_backward_functions(\n\u001b[0;32m   1325\u001b[0m     args,\n\u001b[0;32m   1326\u001b[0m     possible_gradient_type,\n\u001b[0;32m   1327\u001b[0m     executing_eagerly)\n\u001b[0;32m   1328\u001b[0m forward_function, args_with_tangents \u001b[39m=\u001b[39m forward_backward\u001b[39m.\u001b[39mforward()\n",
      "File \u001b[1;32mc:\\Users\\USER\\AppData\\Local\\Programs\\Python\\Python311\\Lib\\site-packages\\tensorflow\\python\\eager\\polymorphic_function\\atomic_function.py:216\u001b[0m, in \u001b[0;36mAtomicFunction.call_preflattened\u001b[1;34m(self, args)\u001b[0m\n\u001b[0;32m    214\u001b[0m \u001b[39mdef\u001b[39;00m \u001b[39mcall_preflattened\u001b[39m(\u001b[39mself\u001b[39m, args: Sequence[core\u001b[39m.\u001b[39mTensor]) \u001b[39m-\u001b[39m\u001b[39m>\u001b[39m Any:\n\u001b[0;32m    215\u001b[0m   \u001b[39m\"\"\"Calls with flattened tensor inputs and returns the structured output.\"\"\"\u001b[39;00m\n\u001b[1;32m--> 216\u001b[0m   flat_outputs \u001b[39m=\u001b[39m \u001b[39mself\u001b[39;49m\u001b[39m.\u001b[39;49mcall_flat(\u001b[39m*\u001b[39;49margs)\n\u001b[0;32m    217\u001b[0m   \u001b[39mreturn\u001b[39;00m \u001b[39mself\u001b[39m\u001b[39m.\u001b[39mfunction_type\u001b[39m.\u001b[39mpack_output(flat_outputs)\n",
      "File \u001b[1;32mc:\\Users\\USER\\AppData\\Local\\Programs\\Python\\Python311\\Lib\\site-packages\\tensorflow\\python\\eager\\polymorphic_function\\atomic_function.py:251\u001b[0m, in \u001b[0;36mAtomicFunction.call_flat\u001b[1;34m(self, *args)\u001b[0m\n\u001b[0;32m    249\u001b[0m \u001b[39mwith\u001b[39;00m record\u001b[39m.\u001b[39mstop_recording():\n\u001b[0;32m    250\u001b[0m   \u001b[39mif\u001b[39;00m \u001b[39mself\u001b[39m\u001b[39m.\u001b[39m_bound_context\u001b[39m.\u001b[39mexecuting_eagerly():\n\u001b[1;32m--> 251\u001b[0m     outputs \u001b[39m=\u001b[39m \u001b[39mself\u001b[39;49m\u001b[39m.\u001b[39;49m_bound_context\u001b[39m.\u001b[39;49mcall_function(\n\u001b[0;32m    252\u001b[0m         \u001b[39mself\u001b[39;49m\u001b[39m.\u001b[39;49mname,\n\u001b[0;32m    253\u001b[0m         \u001b[39mlist\u001b[39;49m(args),\n\u001b[0;32m    254\u001b[0m         \u001b[39mlen\u001b[39;49m(\u001b[39mself\u001b[39;49m\u001b[39m.\u001b[39;49mfunction_type\u001b[39m.\u001b[39;49mflat_outputs),\n\u001b[0;32m    255\u001b[0m     )\n\u001b[0;32m    256\u001b[0m   \u001b[39melse\u001b[39;00m:\n\u001b[0;32m    257\u001b[0m     outputs \u001b[39m=\u001b[39m make_call_op_in_graph(\n\u001b[0;32m    258\u001b[0m         \u001b[39mself\u001b[39m,\n\u001b[0;32m    259\u001b[0m         \u001b[39mlist\u001b[39m(args),\n\u001b[0;32m    260\u001b[0m         \u001b[39mself\u001b[39m\u001b[39m.\u001b[39m_bound_context\u001b[39m.\u001b[39mfunction_call_options\u001b[39m.\u001b[39mas_attrs(),\n\u001b[0;32m    261\u001b[0m     )\n",
      "File \u001b[1;32mc:\\Users\\USER\\AppData\\Local\\Programs\\Python\\Python311\\Lib\\site-packages\\tensorflow\\python\\eager\\context.py:1486\u001b[0m, in \u001b[0;36mContext.call_function\u001b[1;34m(self, name, tensor_inputs, num_outputs)\u001b[0m\n\u001b[0;32m   1484\u001b[0m cancellation_context \u001b[39m=\u001b[39m cancellation\u001b[39m.\u001b[39mcontext()\n\u001b[0;32m   1485\u001b[0m \u001b[39mif\u001b[39;00m cancellation_context \u001b[39mis\u001b[39;00m \u001b[39mNone\u001b[39;00m:\n\u001b[1;32m-> 1486\u001b[0m   outputs \u001b[39m=\u001b[39m execute\u001b[39m.\u001b[39;49mexecute(\n\u001b[0;32m   1487\u001b[0m       name\u001b[39m.\u001b[39;49mdecode(\u001b[39m\"\u001b[39;49m\u001b[39mutf-8\u001b[39;49m\u001b[39m\"\u001b[39;49m),\n\u001b[0;32m   1488\u001b[0m       num_outputs\u001b[39m=\u001b[39;49mnum_outputs,\n\u001b[0;32m   1489\u001b[0m       inputs\u001b[39m=\u001b[39;49mtensor_inputs,\n\u001b[0;32m   1490\u001b[0m       attrs\u001b[39m=\u001b[39;49mattrs,\n\u001b[0;32m   1491\u001b[0m       ctx\u001b[39m=\u001b[39;49m\u001b[39mself\u001b[39;49m,\n\u001b[0;32m   1492\u001b[0m   )\n\u001b[0;32m   1493\u001b[0m \u001b[39melse\u001b[39;00m:\n\u001b[0;32m   1494\u001b[0m   outputs \u001b[39m=\u001b[39m execute\u001b[39m.\u001b[39mexecute_with_cancellation(\n\u001b[0;32m   1495\u001b[0m       name\u001b[39m.\u001b[39mdecode(\u001b[39m\"\u001b[39m\u001b[39mutf-8\u001b[39m\u001b[39m\"\u001b[39m),\n\u001b[0;32m   1496\u001b[0m       num_outputs\u001b[39m=\u001b[39mnum_outputs,\n\u001b[1;32m   (...)\u001b[0m\n\u001b[0;32m   1500\u001b[0m       cancellation_manager\u001b[39m=\u001b[39mcancellation_context,\n\u001b[0;32m   1501\u001b[0m   )\n",
      "File \u001b[1;32mc:\\Users\\USER\\AppData\\Local\\Programs\\Python\\Python311\\Lib\\site-packages\\tensorflow\\python\\eager\\execute.py:53\u001b[0m, in \u001b[0;36mquick_execute\u001b[1;34m(op_name, num_outputs, inputs, attrs, ctx, name)\u001b[0m\n\u001b[0;32m     51\u001b[0m \u001b[39mtry\u001b[39;00m:\n\u001b[0;32m     52\u001b[0m   ctx\u001b[39m.\u001b[39mensure_initialized()\n\u001b[1;32m---> 53\u001b[0m   tensors \u001b[39m=\u001b[39m pywrap_tfe\u001b[39m.\u001b[39;49mTFE_Py_Execute(ctx\u001b[39m.\u001b[39;49m_handle, device_name, op_name,\n\u001b[0;32m     54\u001b[0m                                       inputs, attrs, num_outputs)\n\u001b[0;32m     55\u001b[0m \u001b[39mexcept\u001b[39;00m core\u001b[39m.\u001b[39m_NotOkStatusException \u001b[39mas\u001b[39;00m e:\n\u001b[0;32m     56\u001b[0m   \u001b[39mif\u001b[39;00m name \u001b[39mis\u001b[39;00m \u001b[39mnot\u001b[39;00m \u001b[39mNone\u001b[39;00m:\n",
      "\u001b[1;31mKeyboardInterrupt\u001b[0m: "
     ]
    }
   ],
   "source": [
    "model.compile(\n",
    "    optimizer=opt,\n",
    "    loss='binary_crossentropy', \n",
    "    metrics=[acc_metric])\n",
    "\n",
    "try:\n",
    "    flow = datagen.flow(\n",
    "        x=x_train, \n",
    "        y=y_train[:,[0]], \n",
    "        batch_size=batch_size)\n",
    "    training_time = time()\n",
    "    history = model.fit(\n",
    "        flow, \n",
    "        batch_size=batch_size, \n",
    "        epochs=epochs, \n",
    "        validation_data=(x_val, y_val[:,[0]]),\n",
    "        callbacks=[early_stopping, model_checkpoint, reduce_lr])\n",
    "    training_time = time() - training_time\n",
    "except MemoryError:\n",
    "    print(\"Memory Error occurred during training.\")\n",
    "    del history\n",
    "    del model\n",
    "    gc.collect()"
   ]
  },
  {
   "cell_type": "code",
   "execution_count": null,
   "metadata": {},
   "outputs": [
    {
     "name": "stdout",
     "output_type": "stream",
     "text": [
      "157/157 [==============================] - 243s 2s/step\n",
      "(5000, 4)\n",
      "(5000, 4)\n"
     ]
    },
    {
     "data": {
      "image/png": "[encoded data removed]",
      "text/plain": [
       "<Figure size 1000x600 with 1 Axes>"
      ]
     },
     "metadata": {},
     "output_type": "display_data"
    }
   ],
   "source": [
    "y_pred = model.predict(x_val).astype('float32')\n",
    "plot_multiclass_roc(y_val[:,[0,1,5,8]],y_pred,4)"
   ]
  },
  {
   "cell_type": "code",
   "execution_count": null,
   "metadata": {},
   "outputs": [
    {
     "data": {
      "image/png": "[encoded data removed]",
      "text/plain": [
       "<Figure size 1200x600 with 2 Axes>"
      ]
     },
     "metadata": {},
     "output_type": "display_data"
    }
   ],
   "source": [
    "plot_loss_accuracy(history,acc_metric)"
   ]
  },
  {
   "cell_type": "code",
   "execution_count": null,
   "metadata": {},
   "outputs": [
    {
     "name": "stdout",
     "output_type": "stream",
     "text": [
      "{'0': {'precision': 0.0, 'recall': 0.0, 'f1-score': 0.0, 'support': 3557.0}, '1': {'precision': 0.2222222222222222, 'recall': 0.004, 'f1-score': 0.007858546168958742, 'support': 500.0}, '2': {'precision': 0.11531938948558508, 'recall': 0.49038461538461536, 'f1-score': 0.18672768878718535, 'support': 416.0}, '3': {'precision': 0.09528243327126008, 'recall': 0.5825426944971537, 'f1-score': 0.1637770072019205, 'support': 527.0}, 'accuracy': 0.1026, 'macro avg': {'precision': 0.10820601124476684, 'recall': 0.2692318274704423, 'f1-score': 0.08959081053951615, 'support': 5000.0}, 'weighted avg': {'precision': 0.04185956389421371, 'recall': 0.1026, 'f1-score': 0.03358369488307212, 'support': 5000.0}}\n"
     ]
    },
    {
     "name": "stderr",
     "output_type": "stream",
     "text": [
      "c:\\Users\\USER\\AppData\\Local\\Programs\\Python\\Python311\\Lib\\site-packages\\sklearn\\metrics\\_classification.py:1469: UndefinedMetricWarning: Precision and F-score are ill-defined and being set to 0.0 in labels with no predicted samples. Use `zero_division` parameter to control this behavior.\n",
      "  _warn_prf(average, modifier, msg_start, len(result))\n",
      "c:\\Users\\USER\\AppData\\Local\\Programs\\Python\\Python311\\Lib\\site-packages\\sklearn\\metrics\\_classification.py:1469: UndefinedMetricWarning: Precision and F-score are ill-defined and being set to 0.0 in labels with no predicted samples. Use `zero_division` parameter to control this behavior.\n",
      "  _warn_prf(average, modifier, msg_start, len(result))\n",
      "c:\\Users\\USER\\AppData\\Local\\Programs\\Python\\Python311\\Lib\\site-packages\\sklearn\\metrics\\_classification.py:1469: UndefinedMetricWarning: Precision and F-score are ill-defined and being set to 0.0 in labels with no predicted samples. Use `zero_division` parameter to control this behavior.\n",
      "  _warn_prf(average, modifier, msg_start, len(result))\n"
     ]
    }
   ],
   "source": [
    "y_pred_classes = y_pred.argmax(axis=-1)\n",
    "y_true_classes = y_val[:, [0, 1, 5, 8]].argmax(axis=-1)\n",
    "class_report = classification_report(y_true_classes, y_pred_classes,output_dict=True)\n",
    "print(class_report)"
   ]
  },
  {
   "cell_type": "code",
   "execution_count": null,
   "metadata": {},
   "outputs": [
    {
     "data": {
      "image/png": "[encoded data removed]",
      "text/plain": [
       "<Figure size 1000x500 with 2 Axes>"
      ]
     },
     "metadata": {},
     "output_type": "display_data"
    }
   ],
   "source": [
    "cr_df = pd.DataFrame(class_report).transpose()\n",
    "plt.figure(figsize=(10, 5))\n",
    "sns.heatmap(cr_df.iloc[:-1, :-1], annot=True, fmt=\".2f\", cmap=\"coolwarm\")\n",
    "plt.title('Classification Report of Top 4 Labels')\n",
    "plt.xlabel('Metrics')\n",
    "plt.ylabel('Classes')\n",
    "plt.show()"
   ]
  },
  {
   "cell_type": "code",
   "execution_count": null,
   "metadata": {},
   "outputs": [
    {
     "data": {
      "image/png": "[encoded data removed]",
      "text/plain": [
       "<Figure size 500x400 with 2 Axes>"
      ]
     },
     "metadata": {},
     "output_type": "display_data"
    }
   ],
   "source": [
    "conf_matrix = confusion_matrix(y_true_classes, y_pred_classes)\n",
    "plt.figure(figsize=(5, 4))\n",
    "sns.heatmap(conf_matrix, annot=True, fmt='d', cmap=\"Blues\")\n",
    "plt.title('Confusion Matrix of Top 4 Labels')\n",
    "plt.xlabel('Predicted labels')\n",
    "plt.ylabel('True labels')\n",
    "plt.show()"
   ]
  },
  {
   "cell_type": "code",
   "execution_count": null,
   "metadata": {},
   "outputs": [
    {
     "data": {
      "text/plain": [
       "\"from keras.applications import resnet50\\n\\nresnet50_model = resnet50.ResNet50(weights='imagenet')\""
      ]
     },
     "execution_count": 33,
     "metadata": {},
     "output_type": "execute_result"
    }
   ],
   "source": [
    "'''from keras.applications import resnet50\n",
    "\n",
    "resnet50_model = resnet50.ResNet50(weights='imagenet')'''"
   ]
  }
 ],
 "metadata": {
  "kernelspec": {
   "display_name": "Python 3",
   "language": "python",
   "name": "python3"
  },
  "language_info": {
   "codemirror_mode": {
    "name": "ipython",
    "version": 3
   },
   "file_extension": ".py",
   "mimetype": "text/x-python",
   "name": "python",
   "nbconvert_exporter": "python",
   "pygments_lexer": "ipython3",
   "version": "3.11.4"
  },
  "orig_nbformat": 4
 },
 "nbformat": 4,
 "nbformat_minor": 2
}
