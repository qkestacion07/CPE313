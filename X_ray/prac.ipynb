{
 "cells": [
  {
   "cell_type": "code",
   "execution_count": 1,
   "metadata": {},
   "outputs": [
    {
     "name": "stdout",
     "output_type": "stream",
     "text": [
      "WARNING:tensorflow:From c:\\Users\\USER\\AppData\\Local\\Programs\\Python\\Python311\\Lib\\site-packages\\keras\\src\\losses.py:2976: The name tf.losses.sparse_softmax_cross_entropy is deprecated. Please use tf.compat.v1.losses.sparse_softmax_cross_entropy instead.\n",
      "\n"
     ]
    }
   ],
   "source": [
    "# Standard Library Imports\n",
    "from __future__ import print_function\n",
    "from time import time\n",
    "import os\n",
    "import gc\n",
    "\n",
    "# Third-Party Library Imports\n",
    "import numpy as np\n",
    "import pandas as pd\n",
    "import warnings\n",
    "import matplotlib.pyplot as plt\n",
    "from sklearn.model_selection import train_test_split\n",
    "from sklearn.metrics import auc, roc_curve\n",
    "\n",
    "# Keras and TensorFlow Imports\n",
    "from keras.preprocessing.image import img_to_array, load_img\n",
    "from keras.models import Sequential, load_model\n",
    "from keras.layers import Dense, Dropout, Activation, Flatten, Input, Conv2D, MaxPooling2D, BatchNormalization\n",
    "from keras.regularizers import l1_l2\n",
    "from keras.optimizers import Adam\n",
    "from keras.callbacks import EarlyStopping, ModelCheckpoint, ReduceLROnPlateau\n",
    "from keras.preprocessing.image import ImageDataGenerator\n",
    "from keras import backend as K"
   ]
  },
  {
   "cell_type": "code",
   "execution_count": 2,
   "metadata": {},
   "outputs": [],
   "source": [
    "img_rows = 224\n",
    "img_cols = 224\n",
    "if K.image_data_format() == 'channels_first':\n",
    "    input_shape = (1, img_rows, img_cols)\n",
    "else:\n",
    "    input_shape = (img_rows, img_cols, 1)"
   ]
  },
  {
   "cell_type": "code",
   "execution_count": 3,
   "metadata": {},
   "outputs": [
    {
     "data": {
      "text/html": [
       "<div>\n",
       "<style scoped>\n",
       "    .dataframe tbody tr th:only-of-type {\n",
       "        vertical-align: middle;\n",
       "    }\n",
       "\n",
       "    .dataframe tbody tr th {\n",
       "        vertical-align: top;\n",
       "    }\n",
       "\n",
       "    .dataframe thead th {\n",
       "        text-align: right;\n",
       "    }\n",
       "</style>\n",
       "<table border=\"1\" class=\"dataframe\">\n",
       "  <thead>\n",
       "    <tr style=\"text-align: right;\">\n",
       "      <th></th>\n",
       "      <th>Image Index</th>\n",
       "      <th>Patient Age</th>\n",
       "      <th>Patient Gender</th>\n",
       "      <th>No_Finding</th>\n",
       "      <th>Atelectasis</th>\n",
       "      <th>Cardiomegaly</th>\n",
       "      <th>Consolidation</th>\n",
       "      <th>Edema</th>\n",
       "      <th>Effusion</th>\n",
       "      <th>Emphysema</th>\n",
       "      <th>Fibrosis</th>\n",
       "      <th>Infiltration</th>\n",
       "      <th>Mass</th>\n",
       "      <th>Nodule</th>\n",
       "      <th>Pleural_Thickening</th>\n",
       "      <th>Pneumonia</th>\n",
       "      <th>Pneumothorax</th>\n",
       "    </tr>\n",
       "  </thead>\n",
       "  <tbody>\n",
       "    <tr>\n",
       "      <th>0</th>\n",
       "      <td>00000001_000.png</td>\n",
       "      <td>58</td>\n",
       "      <td>1</td>\n",
       "      <td>0</td>\n",
       "      <td>0</td>\n",
       "      <td>1</td>\n",
       "      <td>0</td>\n",
       "      <td>0</td>\n",
       "      <td>0</td>\n",
       "      <td>0</td>\n",
       "      <td>0</td>\n",
       "      <td>0</td>\n",
       "      <td>0</td>\n",
       "      <td>0</td>\n",
       "      <td>0</td>\n",
       "      <td>0</td>\n",
       "      <td>0</td>\n",
       "    </tr>\n",
       "    <tr>\n",
       "      <th>1</th>\n",
       "      <td>00000001_001.png</td>\n",
       "      <td>58</td>\n",
       "      <td>1</td>\n",
       "      <td>0</td>\n",
       "      <td>0</td>\n",
       "      <td>1</td>\n",
       "      <td>0</td>\n",
       "      <td>0</td>\n",
       "      <td>0</td>\n",
       "      <td>1</td>\n",
       "      <td>0</td>\n",
       "      <td>0</td>\n",
       "      <td>0</td>\n",
       "      <td>0</td>\n",
       "      <td>0</td>\n",
       "      <td>0</td>\n",
       "      <td>0</td>\n",
       "    </tr>\n",
       "    <tr>\n",
       "      <th>2</th>\n",
       "      <td>00000001_002.png</td>\n",
       "      <td>58</td>\n",
       "      <td>1</td>\n",
       "      <td>0</td>\n",
       "      <td>0</td>\n",
       "      <td>1</td>\n",
       "      <td>0</td>\n",
       "      <td>0</td>\n",
       "      <td>1</td>\n",
       "      <td>0</td>\n",
       "      <td>0</td>\n",
       "      <td>0</td>\n",
       "      <td>0</td>\n",
       "      <td>0</td>\n",
       "      <td>0</td>\n",
       "      <td>0</td>\n",
       "      <td>0</td>\n",
       "    </tr>\n",
       "    <tr>\n",
       "      <th>3</th>\n",
       "      <td>00000002_000.png</td>\n",
       "      <td>81</td>\n",
       "      <td>1</td>\n",
       "      <td>1</td>\n",
       "      <td>0</td>\n",
       "      <td>0</td>\n",
       "      <td>0</td>\n",
       "      <td>0</td>\n",
       "      <td>0</td>\n",
       "      <td>0</td>\n",
       "      <td>0</td>\n",
       "      <td>0</td>\n",
       "      <td>0</td>\n",
       "      <td>0</td>\n",
       "      <td>0</td>\n",
       "      <td>0</td>\n",
       "      <td>0</td>\n",
       "    </tr>\n",
       "    <tr>\n",
       "      <th>4</th>\n",
       "      <td>00000003_000.png</td>\n",
       "      <td>81</td>\n",
       "      <td>0</td>\n",
       "      <td>0</td>\n",
       "      <td>0</td>\n",
       "      <td>0</td>\n",
       "      <td>0</td>\n",
       "      <td>0</td>\n",
       "      <td>0</td>\n",
       "      <td>0</td>\n",
       "      <td>0</td>\n",
       "      <td>0</td>\n",
       "      <td>0</td>\n",
       "      <td>0</td>\n",
       "      <td>0</td>\n",
       "      <td>0</td>\n",
       "      <td>0</td>\n",
       "    </tr>\n",
       "  </tbody>\n",
       "</table>\n",
       "</div>"
      ],
      "text/plain": [
       "        Image Index  Patient Age  Patient Gender  No_Finding  Atelectasis  \\\n",
       "0  00000001_000.png           58               1           0            0   \n",
       "1  00000001_001.png           58               1           0            0   \n",
       "2  00000001_002.png           58               1           0            0   \n",
       "3  00000002_000.png           81               1           1            0   \n",
       "4  00000003_000.png           81               0           0            0   \n",
       "\n",
       "   Cardiomegaly  Consolidation  Edema  Effusion  Emphysema  Fibrosis  \\\n",
       "0             1              0      0         0          0         0   \n",
       "1             1              0      0         0          1         0   \n",
       "2             1              0      0         1          0         0   \n",
       "3             0              0      0         0          0         0   \n",
       "4             0              0      0         0          0         0   \n",
       "\n",
       "   Infiltration  Mass  Nodule  Pleural_Thickening  Pneumonia  Pneumothorax  \n",
       "0             0     0       0                   0          0             0  \n",
       "1             0     0       0                   0          0             0  \n",
       "2             0     0       0                   0          0             0  \n",
       "3             0     0       0                   0          0             0  \n",
       "4             0     0       0                   0          0             0  "
      ]
     },
     "execution_count": 3,
     "metadata": {},
     "output_type": "execute_result"
    }
   ],
   "source": [
    "df = pd.read_csv('xrays1_6.csv')\n",
    "df.head()"
   ]
  },
  {
   "cell_type": "code",
   "execution_count": 4,
   "metadata": {},
   "outputs": [
    {
     "data": {
      "text/plain": [
       "No_Finding\n",
       "1    31160\n",
       "0    23836\n",
       "Name: count, dtype: int64"
      ]
     },
     "execution_count": 4,
     "metadata": {},
     "output_type": "execute_result"
    }
   ],
   "source": [
    "df['No_Finding'].value_counts()"
   ]
  },
  {
   "cell_type": "code",
   "execution_count": 5,
   "metadata": {},
   "outputs": [
    {
     "data": {
      "text/html": [
       "<div>\n",
       "<style scoped>\n",
       "    .dataframe tbody tr th:only-of-type {\n",
       "        vertical-align: middle;\n",
       "    }\n",
       "\n",
       "    .dataframe tbody tr th {\n",
       "        vertical-align: top;\n",
       "    }\n",
       "\n",
       "    .dataframe thead th {\n",
       "        text-align: right;\n",
       "    }\n",
       "</style>\n",
       "<table border=\"1\" class=\"dataframe\">\n",
       "  <thead>\n",
       "    <tr style=\"text-align: right;\">\n",
       "      <th></th>\n",
       "      <th>Image Index</th>\n",
       "      <th>Patient Age</th>\n",
       "      <th>Patient Gender</th>\n",
       "      <th>No_Finding</th>\n",
       "      <th>Atelectasis</th>\n",
       "      <th>Cardiomegaly</th>\n",
       "      <th>Consolidation</th>\n",
       "      <th>Edema</th>\n",
       "      <th>Effusion</th>\n",
       "      <th>Emphysema</th>\n",
       "      <th>Fibrosis</th>\n",
       "      <th>Infiltration</th>\n",
       "      <th>Mass</th>\n",
       "      <th>Nodule</th>\n",
       "      <th>Pleural_Thickening</th>\n",
       "      <th>Pneumonia</th>\n",
       "      <th>Pneumothorax</th>\n",
       "    </tr>\n",
       "  </thead>\n",
       "  <tbody>\n",
       "    <tr>\n",
       "      <th>0</th>\n",
       "      <td>00000001_000.png</td>\n",
       "      <td>58</td>\n",
       "      <td>1</td>\n",
       "      <td>0</td>\n",
       "      <td>0</td>\n",
       "      <td>1</td>\n",
       "      <td>0</td>\n",
       "      <td>0</td>\n",
       "      <td>0</td>\n",
       "      <td>0</td>\n",
       "      <td>0</td>\n",
       "      <td>0</td>\n",
       "      <td>0</td>\n",
       "      <td>0</td>\n",
       "      <td>0</td>\n",
       "      <td>0</td>\n",
       "      <td>0</td>\n",
       "    </tr>\n",
       "    <tr>\n",
       "      <th>1</th>\n",
       "      <td>00000001_001.png</td>\n",
       "      <td>58</td>\n",
       "      <td>1</td>\n",
       "      <td>0</td>\n",
       "      <td>0</td>\n",
       "      <td>1</td>\n",
       "      <td>0</td>\n",
       "      <td>0</td>\n",
       "      <td>0</td>\n",
       "      <td>1</td>\n",
       "      <td>0</td>\n",
       "      <td>0</td>\n",
       "      <td>0</td>\n",
       "      <td>0</td>\n",
       "      <td>0</td>\n",
       "      <td>0</td>\n",
       "      <td>0</td>\n",
       "    </tr>\n",
       "    <tr>\n",
       "      <th>2</th>\n",
       "      <td>00000001_002.png</td>\n",
       "      <td>58</td>\n",
       "      <td>1</td>\n",
       "      <td>0</td>\n",
       "      <td>0</td>\n",
       "      <td>1</td>\n",
       "      <td>0</td>\n",
       "      <td>0</td>\n",
       "      <td>1</td>\n",
       "      <td>0</td>\n",
       "      <td>0</td>\n",
       "      <td>0</td>\n",
       "      <td>0</td>\n",
       "      <td>0</td>\n",
       "      <td>0</td>\n",
       "      <td>0</td>\n",
       "      <td>0</td>\n",
       "    </tr>\n",
       "    <tr>\n",
       "      <th>3</th>\n",
       "      <td>00000002_000.png</td>\n",
       "      <td>81</td>\n",
       "      <td>1</td>\n",
       "      <td>1</td>\n",
       "      <td>0</td>\n",
       "      <td>0</td>\n",
       "      <td>0</td>\n",
       "      <td>0</td>\n",
       "      <td>0</td>\n",
       "      <td>0</td>\n",
       "      <td>0</td>\n",
       "      <td>0</td>\n",
       "      <td>0</td>\n",
       "      <td>0</td>\n",
       "      <td>0</td>\n",
       "      <td>0</td>\n",
       "      <td>0</td>\n",
       "    </tr>\n",
       "    <tr>\n",
       "      <th>4</th>\n",
       "      <td>00000003_000.png</td>\n",
       "      <td>81</td>\n",
       "      <td>0</td>\n",
       "      <td>0</td>\n",
       "      <td>0</td>\n",
       "      <td>0</td>\n",
       "      <td>0</td>\n",
       "      <td>0</td>\n",
       "      <td>0</td>\n",
       "      <td>0</td>\n",
       "      <td>0</td>\n",
       "      <td>0</td>\n",
       "      <td>0</td>\n",
       "      <td>0</td>\n",
       "      <td>0</td>\n",
       "      <td>0</td>\n",
       "      <td>0</td>\n",
       "    </tr>\n",
       "  </tbody>\n",
       "</table>\n",
       "</div>"
      ],
      "text/plain": [
       "        Image Index  Patient Age  Patient Gender  No_Finding  Atelectasis  \\\n",
       "0  00000001_000.png           58               1           0            0   \n",
       "1  00000001_001.png           58               1           0            0   \n",
       "2  00000001_002.png           58               1           0            0   \n",
       "3  00000002_000.png           81               1           1            0   \n",
       "4  00000003_000.png           81               0           0            0   \n",
       "\n",
       "   Cardiomegaly  Consolidation  Edema  Effusion  Emphysema  Fibrosis  \\\n",
       "0             1              0      0         0          0         0   \n",
       "1             1              0      0         0          1         0   \n",
       "2             1              0      0         1          0         0   \n",
       "3             0              0      0         0          0         0   \n",
       "4             0              0      0         0          0         0   \n",
       "\n",
       "   Infiltration  Mass  Nodule  Pleural_Thickening  Pneumonia  Pneumothorax  \n",
       "0             0     0       0                   0          0             0  \n",
       "1             0     0       0                   0          0             0  \n",
       "2             0     0       0                   0          0             0  \n",
       "3             0     0       0                   0          0             0  \n",
       "4             0     0       0                   0          0             0  "
      ]
     },
     "execution_count": 5,
     "metadata": {},
     "output_type": "execute_result"
    }
   ],
   "source": [
    "use_nofind = True\n",
    "'''if use_nofind:\n",
    "    no_find_idx = df.index[df['No_Finding']==1].to_list()\n",
    "    num = int(0.8 * len(no_find_idx))\n",
    "    np.random.seed(42)\n",
    "    no_find_drops = np.random.choice(no_find_idx, size=num, replace=False)\n",
    "    df.drop(index=no_find_idx,inplace=True)\n",
    "else:\n",
    "    df = df[df['No_Finding']!=1]\n",
    "    df.drop('No_Finding',axis=1,inplace=True)'''\n",
    "df.head()"
   ]
  },
  {
   "cell_type": "code",
   "execution_count": 6,
   "metadata": {},
   "outputs": [
    {
     "name": "stdout",
     "output_type": "stream",
     "text": [
      "Index(['Image Index', 'Patient Age', 'Patient Gender', 'No_Finding',\n",
      "       'Atelectasis', 'Cardiomegaly', 'Consolidation', 'Edema', 'Effusion',\n",
      "       'Emphysema', 'Fibrosis', 'Infiltration', 'Mass', 'Nodule',\n",
      "       'Pleural_Thickening', 'Pneumonia', 'Pneumothorax'],\n",
      "      dtype='object')\n",
      "(54996, 17)\n"
     ]
    }
   ],
   "source": [
    "print(df.columns)\n",
    "print(df.shape)"
   ]
  },
  {
   "cell_type": "code",
   "execution_count": 7,
   "metadata": {},
   "outputs": [],
   "source": [
    "labels = ['No_Finding', 'Atelectasis', 'Cardiomegaly', 'Consolidation', 'Edema',\n",
    "       'Effusion', 'Emphysema', 'Fibrosis', 'Infiltration', 'Mass', 'Nodule',\n",
    "       'Pleural_Thickening', 'Pneumonia', 'Pneumothorax']\n",
    "labels = ['No_Finding']"
   ]
  },
  {
   "cell_type": "code",
   "execution_count": 8,
   "metadata": {},
   "outputs": [
    {
     "data": {
      "text/plain": [
       "\"if not os.path.exists(norm_img_path):\\n    X = []\\n    for image_filename in df['Image Index']:\\n        img_path = os.path.join(image_folder, image_filename)\\n        img = load_img(img_path, color_mode='grayscale')\\n        img = img_to_array(img)\\n        X.append(img / 255)\\n    X = np.array(X)\\n    np.save(norm_img_path,X)\\n\\n    del X\\n    gc.collect()\""
      ]
     },
     "execution_count": 8,
     "metadata": {},
     "output_type": "execute_result"
    }
   ],
   "source": [
    "image_folder = 'D:\\\\Downloads\\\\xrays\\\\images' # Folder containing the images\n",
    "image_size = (224, 224, 1)  # Assuming images are resized to (224, 224)\n",
    "norm_img_path = 'img_1_6.npy'\n",
    "y = df[labels].values\n",
    "\n",
    "'''if not os.path.exists(norm_img_path):\n",
    "    X = []\n",
    "    for image_filename in df['Image Index']:\n",
    "        img_path = os.path.join(image_folder, image_filename)\n",
    "        img = load_img(img_path, color_mode='grayscale')\n",
    "        img = img_to_array(img)\n",
    "        X.append(img / 255)\n",
    "    X = np.array(X)\n",
    "    np.save(norm_img_path,X)\n",
    "\n",
    "    del X\n",
    "    gc.collect()'''"
   ]
  },
  {
   "cell_type": "code",
   "execution_count": 9,
   "metadata": {},
   "outputs": [],
   "source": [
    "def load_and_process_images(df, image_folder, y):\n",
    "    batch_size = 32  # Adjust the batch size as needed\n",
    "\n",
    "    num_images = len(df)\n",
    "    num_batches = num_images // batch_size\n",
    "    if num_images % batch_size != 0:\n",
    "        num_batches += 1\n",
    "\n",
    "    X = []\n",
    "    for batch_index in range(num_batches):\n",
    "        start_index = batch_index * batch_size\n",
    "        end_index = min((batch_index + 1) * batch_size, num_images)\n",
    "        batch_X = []\n",
    "\n",
    "        for image_filename in df['Image Index'].iloc[start_index:end_index]:\n",
    "            img_path = os.path.join(image_folder, image_filename)\n",
    "            img = load_img(img_path, color_mode='grayscale')\n",
    "            img = img_to_array(img)\n",
    "            batch_X.append(img / 255)\n",
    "\n",
    "        batch_X = np.array(batch_X)\n",
    "        X.append(batch_X)\n",
    "    try:\n",
    "        X = np.concatenate(X, axis=0)\n",
    "    except MemoryError:\n",
    "        print('Memory Error occured during training')\n",
    "        del X\n",
    "        gc.collect()\n",
    "        \n",
    "    x_train, x_val, y_train, y_val = train_test_split(\n",
    "        X, y,\n",
    "        test_size=0.3,\n",
    "        random_state=42\n",
    "    )\n",
    "\n",
    "    return x_train, x_val, y_train, y_val"
   ]
  },
  {
   "cell_type": "code",
   "execution_count": 10,
   "metadata": {},
   "outputs": [
    {
     "name": "stdout",
     "output_type": "stream",
     "text": [
      "Memory Error occured during training\n"
     ]
    },
    {
     "ename": "UnboundLocalError",
     "evalue": "cannot access local variable 'X' where it is not associated with a value",
     "output_type": "error",
     "traceback": [
      "\u001b[1;31m---------------------------------------------------------------------------\u001b[0m",
      "\u001b[1;31mUnboundLocalError\u001b[0m                         Traceback (most recent call last)",
      "Cell \u001b[1;32mIn[10], line 2\u001b[0m\n\u001b[0;32m      1\u001b[0m \u001b[39mif\u001b[39;00m \u001b[39mnot\u001b[39;00m os\u001b[39m.\u001b[39mpath\u001b[39m.\u001b[39mexists(norm_img_path):\n\u001b[1;32m----> 2\u001b[0m     x_train, x_val, y_train, y_val \u001b[39m=\u001b[39m load_and_process_images(\n\u001b[0;32m      3\u001b[0m         df, \n\u001b[0;32m      4\u001b[0m         image_folder,\n\u001b[0;32m      5\u001b[0m         y)\n\u001b[0;32m      6\u001b[0m \u001b[39melse\u001b[39;00m:\n\u001b[0;32m      7\u001b[0m     x_train, x_val, y_train, y_val \u001b[39m=\u001b[39m train_test_split(\n\u001b[0;32m      8\u001b[0m         np\u001b[39m.\u001b[39mload(norm_img_path), \n\u001b[0;32m      9\u001b[0m         y, \n\u001b[0;32m     10\u001b[0m         test_size\u001b[39m=\u001b[39m\u001b[39m0.3\u001b[39m, \n\u001b[0;32m     11\u001b[0m         random_state\u001b[39m=\u001b[39m\u001b[39m42\u001b[39m)\n",
      "Cell \u001b[1;32mIn[9], line 31\u001b[0m, in \u001b[0;36mload_and_process_images\u001b[1;34m(df, image_folder, y)\u001b[0m\n\u001b[0;32m     27\u001b[0m     \u001b[39mdel\u001b[39;00m X\n\u001b[0;32m     28\u001b[0m     gc\u001b[39m.\u001b[39mcollect()\n\u001b[0;32m     30\u001b[0m x_train, x_val, y_train, y_val \u001b[39m=\u001b[39m train_test_split(\n\u001b[1;32m---> 31\u001b[0m     X, y,\n\u001b[0;32m     32\u001b[0m     test_size\u001b[39m=\u001b[39m\u001b[39m0.3\u001b[39m,\n\u001b[0;32m     33\u001b[0m     random_state\u001b[39m=\u001b[39m\u001b[39m42\u001b[39m\n\u001b[0;32m     34\u001b[0m )\n\u001b[0;32m     36\u001b[0m \u001b[39mreturn\u001b[39;00m x_train, x_val, y_train, y_val\n",
      "\u001b[1;31mUnboundLocalError\u001b[0m: cannot access local variable 'X' where it is not associated with a value"
     ]
    }
   ],
   "source": [
    "if not os.path.exists(norm_img_path):\n",
    "    x_train, x_val, y_train, y_val = load_and_process_images(\n",
    "        df, \n",
    "        image_folder,\n",
    "        y)\n",
    "else:\n",
    "    x_train, x_val, y_train, y_val = train_test_split(\n",
    "        np.load(norm_img_path), \n",
    "        y, \n",
    "        test_size=0.3, \n",
    "        random_state=42)"
   ]
  },
  {
   "cell_type": "code",
   "execution_count": null,
   "metadata": {},
   "outputs": [],
   "source": [
    "\n",
    "x_val, x_test, y_val, y_test = train_test_split(\n",
    "    x_val,\n",
    "    y_val,\n",
    "    test_size=0.5,\n",
    "    stratify=y_val,\n",
    "    random_state=42\n",
    ")"
   ]
  },
  {
   "cell_type": "code",
   "execution_count": null,
   "metadata": {},
   "outputs": [],
   "source": [
    "datagen = ImageDataGenerator(\n",
    "    rotation_range=20,\n",
    "    width_shift_range=0.2,\n",
    "    height_shift_range=0.2,\n",
    "    zoom_range=0.2,\n",
    "    fill_mode='nearest'\n",
    ")"
   ]
  },
  {
   "cell_type": "code",
   "execution_count": null,
   "metadata": {},
   "outputs": [
    {
     "data": {
      "text/plain": [
       "\"opt = Adam(learning_rate=0.0005)\\nepochs = 20\\nbatch_size = 16\\n\\nmodel.compile(\\n    optimizer=opt,\\n    loss='binary_crossentropy', \\n    metrics=['binary_accuracy'])\\n\\ntraining_time = time()\\nhistory = model.fit(\\n    datagen.flow(x_train, y_train, batch_size=batch_size), \\n    epochs=epochs, \\n    validation_data=(x_val, y_val), \\n    callbacks=[early_stopping, model_checkpoint, reduce_lr])\\ntraining_time = training_time - time()\\n\""
      ]
     },
     "execution_count": 11,
     "metadata": {},
     "output_type": "execute_result"
    }
   ],
   "source": [
    "'''opt = Adam(learning_rate=0.0005)\n",
    "epochs = 20\n",
    "batch_size = 16\n",
    "\n",
    "model.compile(\n",
    "    optimizer=opt,\n",
    "    loss='binary_crossentropy', \n",
    "    metrics=['binary_accuracy'])\n",
    "\n",
    "training_time = time()\n",
    "history = model.fit(\n",
    "    datagen.flow(x_train, y_train, batch_size=batch_size), \n",
    "    epochs=epochs, \n",
    "    validation_data=(x_val, y_val), \n",
    "    callbacks=[early_stopping, model_checkpoint, reduce_lr])\n",
    "training_time = training_time - time()\n",
    "'''"
   ]
  },
  {
   "cell_type": "code",
   "execution_count": null,
   "metadata": {},
   "outputs": [],
   "source": [
    "class ImageDataLoader:\n",
    "    def __init__(self, image_folder, datagen, image_size=(224, 224, 3), batch_size=32):\n",
    "        self.image_folder = image_folder\n",
    "        self.image_size = image_size\n",
    "        self.batch_size = batch_size\n",
    "        self.datagen = datagen\n",
    "\n",
    "    def load_and_augment_images(self, df):\n",
    "        X = []\n",
    "        num_images = len(df)\n",
    "        for i in range(0, num_images, self.batch_size):\n",
    "            print(f'{i}/{num_images}')\n",
    "            batch_images = []\n",
    "            for image_filename in df['Image Index'].iloc[i:i+self.batch_size]:\n",
    "                img_path = self.image_folder + image_filename\n",
    "                img = load_img(img_path, target_size=image_size)\n",
    "                img = img_to_array(img)\n",
    "                batch_images.append(img / 255.0)\n",
    "            batch_images = np.array(batch_images)\n",
    "\n",
    "            augmented_images = []\n",
    "            for batch_img in batch_images:\n",
    "                augmented_img = self.datagen.random_transform(batch_img)\n",
    "                augmented_images.append(augmented_img)\n",
    "            augmented_images = np.array(augmented_images)\n",
    "\n",
    "            if len(X) == 0:\n",
    "                X = augmented_images\n",
    "            else:\n",
    "                X = np.vstack((X, augmented_images))\n",
    "        \n",
    "        return X"
   ]
  },
  {
   "cell_type": "code",
   "execution_count": null,
   "metadata": {},
   "outputs": [
    {
     "data": {
      "text/plain": [
       "'opt = Adam(learning_rate=0.0005)\\nepochs = 20\\nbatch_size = 32\\n\\ndata_loader = ImageDataLoader(\\n    image_folder=image_folder, \\n    datagen=datagen, \\n    image_size=input_shape, \\n    batch_size=batch_size)\\nX = data_loader.load_and_augment_images(df)\\ny = df[labels].values\\nx_train, x_val, y_train, y_val = train_test_split(X, y, test_size=0.3, random_state=42)'"
      ]
     },
     "execution_count": 13,
     "metadata": {},
     "output_type": "execute_result"
    }
   ],
   "source": [
    "'''opt = Adam(learning_rate=0.0005)\n",
    "epochs = 20\n",
    "batch_size = 32\n",
    "\n",
    "data_loader = ImageDataLoader(\n",
    "    image_folder=image_folder, \n",
    "    datagen=datagen, \n",
    "    image_size=input_shape, \n",
    "    batch_size=batch_size)\n",
    "X = data_loader.load_and_augment_images(df)\n",
    "y = df[labels].values\n",
    "x_train, x_val, y_train, y_val = train_test_split(X, y, test_size=0.3, random_state=42)'''"
   ]
  },
  {
   "cell_type": "code",
   "execution_count": null,
   "metadata": {},
   "outputs": [],
   "source": [
    "def plot_loss_acc(values,model_name='Model'):\n",
    "    labels = ['loss','accuracy']\n",
    "    colors = ['#1f77b4', '#2ca02c']\n",
    "    plt.figure(figsize=(5,1.2))\n",
    "    plt.table(cellText=[[labels[0],\"{:.4f}\".format(values[0])], [labels[1], \"{:.2%}\".format(values[1])]],\n",
    "            colWidths=[0.8, 0.8],\n",
    "            cellLoc='center',\n",
    "            loc='center',\n",
    "            cellColours=[['lightgrey', colors[0]], ['lightgrey', colors[1]]])\n",
    "    plt.title(model_name+' Loss and Accuracy',y=0.7)\n",
    "    plt.axis('off')\n",
    "    plt.tight_layout() \n",
    "\n",
    "def plot_loss_accuracy(history,  metric_acc='accuracy'):\n",
    "    fig = plt.figure(figsize=(12, 6))\n",
    "    ax = fig.add_subplot(1, 2, 1)\n",
    "    ax.plot(history.history[\"loss\"],'r-x', label=\"Train Loss\")\n",
    "    ax.plot(history.history[\"val_loss\"],'b-x', label=\"Validation Loss\")\n",
    "    ax.legend()\n",
    "    ax.set_title('Cross Entropy Loss')\n",
    "    ax.grid(True)\n",
    "\n",
    "\n",
    "    ax = fig.add_subplot(1, 2, 2)\n",
    "    ax.plot(history.history[metric_acc],'r-x', label=\"Train Accuracy\")\n",
    "    ax.plot(history.history['val_'+metric_acc],'b-x', label=\"Validation Accuracy\")\n",
    "    ax.legend()\n",
    "    ax.set_title('Accuracy')\n",
    "    ax.grid(True)\n",
    "\n",
    "def display_roc(roc_auc , fpr, tpr, class_num, model_name=''):\n",
    "    plt.figure(figsize=(10, 6))\n",
    "    for i in range(class_num):\n",
    "        plt.plot(fpr[i], tpr[i], lw=2, label='ROC curve (class {}) (AUC = {:.2f})'.format(i, roc_auc[i]))\n",
    "\n",
    "    plt.plot([0, 1], [0, 1], color='navy', lw=2, linestyle='--')                                                                                                                   \n",
    "    plt.xlim([0.0, 1.0])\n",
    "    plt.ylim([0.0, 1.05])\n",
    "    plt.xlabel('False Positive Rate')\n",
    "    plt.ylabel('True Positive Rate')\n",
    "    plt.title('ROC Curve of {}'.format(model_name))\n",
    "    plt.legend(loc=\"lower right\")\n",
    "    plt.show()\n",
    "\n",
    "def plot_multiclass_roc(model, x, y, class_num, model_name='', show=True):\n",
    "    fpr = dict()\n",
    "    tpr = dict()\n",
    "    roc_auc = dict()\n",
    "\n",
    "    y_pred = model.predict(x).astype('float32')\n",
    "    print(y.shape)\n",
    "    print(y_pred.shape)\n",
    "    for i in range(class_num):\n",
    "        fpr[i], tpr[i], _ = roc_curve(y[:,i], y_pred[:,i])\n",
    "        roc_auc[i] = auc(fpr[i], tpr[i])\n",
    "    if show:    display_roc(roc_auc,fpr,tpr,class_num,model_name)\n",
    "    else: return roc_auc"
   ]
  },
  {
   "cell_type": "code",
   "execution_count": null,
   "metadata": {},
   "outputs": [
    {
     "name": "stdout",
     "output_type": "stream",
     "text": [
      "WARNING:tensorflow:From c:\\Users\\USER\\AppData\\Local\\Programs\\Python\\Python311\\Lib\\site-packages\\keras\\src\\backend.py:1398: The name tf.executing_eagerly_outside_functions is deprecated. Please use tf.compat.v1.executing_eagerly_outside_functions instead.\n",
      "\n",
      "WARNING:tensorflow:From c:\\Users\\USER\\AppData\\Local\\Programs\\Python\\Python311\\Lib\\site-packages\\keras\\src\\layers\\normalization\\batch_normalization.py:979: The name tf.nn.fused_batch_norm is deprecated. Please use tf.compat.v1.nn.fused_batch_norm instead.\n",
      "\n",
      "Model: \"xray_model1\"\n",
      "_________________________________________________________________\n",
      " Layer (type)                Output Shape              Param #   \n",
      "=================================================================\n",
      " conv2d (Conv2D)             (None, 224, 224, 32)      832       \n",
      "                                                                 \n",
      " batch_normalization (Batch  (None, 224, 224, 32)      128       \n",
      " Normalization)                                                  \n",
      "                                                                 \n",
      " max_pooling2d (MaxPooling2  (None, 112, 112, 32)      0         \n",
      " D)                                                              \n",
      "                                                                 \n",
      " dropout (Dropout)           (None, 112, 112, 32)      0         \n",
      "                                                                 \n",
      " conv2d_1 (Conv2D)           (None, 112, 112, 64)      51264     \n",
      "                                                                 \n",
      " batch_normalization_1 (Bat  (None, 112, 112, 64)      256       \n",
      " chNormalization)                                                \n",
      "                                                                 \n",
      " max_pooling2d_1 (MaxPoolin  (None, 56, 56, 64)        0         \n",
      " g2D)                                                            \n",
      "                                                                 \n",
      " dropout_1 (Dropout)         (None, 56, 56, 64)        0         \n",
      "                                                                 \n",
      " conv2d_2 (Conv2D)           (None, 56, 56, 128)       204928    \n",
      "                                                                 \n",
      " batch_normalization_2 (Bat  (None, 56, 56, 128)       512       \n",
      " chNormalization)                                                \n",
      "                                                                 \n",
      " max_pooling2d_2 (MaxPoolin  (None, 28, 28, 128)       0         \n",
      " g2D)                                                            \n",
      "                                                                 \n",
      " dropout_2 (Dropout)         (None, 28, 28, 128)       0         \n",
      "                                                                 \n",
      " conv2d_3 (Conv2D)           (None, 28, 28, 256)       819456    \n",
      "                                                                 \n",
      " batch_normalization_3 (Bat  (None, 28, 28, 256)       1024      \n",
      " chNormalization)                                                \n",
      "                                                                 \n",
      " max_pooling2d_3 (MaxPoolin  (None, 14, 14, 256)       0         \n",
      " g2D)                                                            \n",
      "                                                                 \n",
      " dropout_3 (Dropout)         (None, 14, 14, 256)       0         \n",
      "                                                                 \n",
      " flatten (Flatten)           (None, 50176)             0         \n",
      "                                                                 \n",
      " dropout_4 (Dropout)         (None, 50176)             0         \n",
      "                                                                 \n",
      " dense (Dense)               (None, 1)                 50177     \n",
      "                                                                 \n",
      " activation (Activation)     (None, 1)                 0         \n",
      "                                                                 \n",
      "=================================================================\n",
      "Total params: 1128577 (4.31 MB)\n",
      "Trainable params: 1127617 (4.30 MB)\n",
      "Non-trainable params: 960 (3.75 KB)\n",
      "_________________________________________________________________\n"
     ]
    }
   ],
   "source": [
    "l1_penalty = 0.0001\n",
    "l2_penalty = 0.0001\n",
    "model_name = 'xray_model1_6'\n",
    "model = Sequential(name=model_name)\n",
    "\n",
    "#Input\n",
    "model.add(Input(shape=input_shape))\n",
    "\n",
    "#Conv1\n",
    "model.add(Conv2D(32, (5, 5), strides=(1,1), activation='relu', padding='same', kernel_regularizer=l1_l2(l1=l1_penalty,l2=l2_penalty)))\n",
    "model.add(BatchNormalization())\n",
    "\n",
    "#MaxPool1\n",
    "model.add(MaxPooling2D(pool_size=(2,2), strides=(2,2)))\n",
    "model.add(Dropout(0.3))\n",
    "\n",
    "#Conv2\n",
    "model.add(Conv2D(64, (5, 5), strides=(1,1), activation='relu', padding='same', kernel_regularizer=l1_l2(l1=l1_penalty,l2=l2_penalty)))\n",
    "model.add(BatchNormalization())\n",
    "#MaxPool2\n",
    "model.add(MaxPooling2D(pool_size=(2,2), strides=(2,2)))\n",
    "model.add(Dropout(0.3))\n",
    "\n",
    "#Conv3\n",
    "model.add(Conv2D(128, (5, 5), strides=(1,1), activation='relu', padding='same', kernel_regularizer=l1_l2(l1=l1_penalty,l2=l2_penalty)))\n",
    "model.add(BatchNormalization())\n",
    "\n",
    "#MaxPool3\n",
    "model.add(MaxPooling2D(pool_size=(2,2)))\n",
    "model.add(Dropout(0.3))\n",
    "\n",
    "#Conv4\n",
    "model.add(Conv2D(256, (5, 5), strides=(1,1), activation='relu', padding='same', kernel_regularizer=l1_l2(l1=l1_penalty,l2=l2_penalty)))\n",
    "model.add(BatchNormalization())\n",
    "\n",
    "#MaxPool4\n",
    "model.add(MaxPooling2D(pool_size=(2,2)))\n",
    "model.add(Dropout(0.3))\n",
    "\n",
    "#Flatten\n",
    "model.add(Flatten())\n",
    "\n",
    "#Final Classification\n",
    "model.add(Dropout(0.5))\n",
    "model.add(Dense(len(labels)))\n",
    "model.add(Activation('sigmoid'))\n",
    "\n",
    "model.summary()"
   ]
  },
  {
   "cell_type": "code",
   "execution_count": null,
   "metadata": {},
   "outputs": [],
   "source": [
    "opt = Adam(learning_rate=0.0001)\n",
    "epochs = 50\n",
    "batch_size = 32\n",
    "acc_metric = 'binary_accuracy'\n",
    "\n",
    "early_stopping = EarlyStopping(\n",
    "    monitor='val_loss', \n",
    "    patience=3, \n",
    "    verbose=1, \n",
    "    restore_best_weights=True)\n",
    "reduce_lr = ReduceLROnPlateau(\n",
    "    monitor='val_loss', \n",
    "    factor=0.5, \n",
    "    patience=1, \n",
    "    min_lr=0.000001)\n",
    "model_checkpoint = ModelCheckpoint(\n",
    "    filepath=model_name+'.keras', \n",
    "    monitor='val_'+acc_metric, \n",
    "    save_best_only=True, \n",
    "    verbose=1)\n",
    "\n"
   ]
  },
  {
   "cell_type": "code",
   "execution_count": null,
   "metadata": {},
   "outputs": [
    {
     "name": "stdout",
     "output_type": "stream",
     "text": [
      "Epoch 1/50\n",
      "WARNING:tensorflow:From c:\\Users\\USER\\AppData\\Local\\Programs\\Python\\Python311\\Lib\\site-packages\\keras\\src\\utils\\tf_utils.py:492: The name tf.ragged.RaggedTensorValue is deprecated. Please use tf.compat.v1.ragged.RaggedTensorValue instead.\n",
      "\n",
      "WARNING:tensorflow:From c:\\Users\\USER\\AppData\\Local\\Programs\\Python\\Python311\\Lib\\site-packages\\keras\\src\\engine\\base_layer_utils.py:384: The name tf.executing_eagerly_outside_functions is deprecated. Please use tf.compat.v1.executing_eagerly_outside_functions instead.\n",
      "\n",
      " 34/123 [=======>......................] - ETA: 10:17 - loss: 3.0805 - accuracy: 0.5237"
     ]
    },
    {
     "ename": "",
     "evalue": "",
     "output_type": "error",
     "traceback": [
      "\u001b[1;31mCannot execute code, session has been disposed. Please try restarting the Kernel."
     ]
    },
    {
     "ename": "",
     "evalue": "",
     "output_type": "error",
     "traceback": [
      "\u001b[1;31mThe Kernel crashed while executing code in the the current cell or a previous cell. Please review the code in the cell(s) to identify a possible cause of the failure. Click <a href='https://aka.ms/vscodeJupyterKernelCrash'>here</a> for more info. View Jupyter <a href='command:jupyter.viewOutput'>log</a> for further details."
     ]
    }
   ],
   "source": [
    "model.compile(\n",
    "    optimizer=opt,\n",
    "    loss='binary_crossentropy', \n",
    "    metrics=[acc_metric])\n",
    "\n",
    "try:\n",
    "    flow = datagen.flow(x_train, y_train, batch_size=batch_size)\n",
    "    training_time = time()\n",
    "    history = model.fit(\n",
    "        flow, \n",
    "        epochs=epochs, \n",
    "        validation_data=(x_val, y_val),\n",
    "        callbacks=[early_stopping, model_checkpoint, reduce_lr])\n",
    "    training_time = time() - training_time\n",
    "except MemoryError:\n",
    "    print(\"Memory Error occurred during training.\")\n",
    "    del history\n",
    "    del model\n",
    "    gc.collect()"
   ]
  },
  {
   "cell_type": "code",
   "execution_count": null,
   "metadata": {},
   "outputs": [
    {
     "name": "stdout",
     "output_type": "stream",
     "text": [
      "13/13 [==============================] - 58s 4s/step\n",
      "(385, 3)\n",
      "(385, 3)\n"
     ]
    },
    {
     "data": {
      "image/png": "[encoded data removed]",
      "text/plain": [
       "<Figure size 1000x600 with 1 Axes>"
      ]
     },
     "metadata": {},
     "output_type": "display_data"
    }
   ],
   "source": [
    "plot_multiclass_roc(model,x_test,y_test,len(labels))"
   ]
  },
  {
   "cell_type": "code",
   "execution_count": null,
   "metadata": {},
   "outputs": [
    {
     "data": {
      "image/png": "[encoded data removed]",
      "text/plain": [
       "<Figure size 1200x600 with 2 Axes>"
      ]
     },
     "metadata": {},
     "output_type": "display_data"
    }
   ],
   "source": [
    "plot_loss_accuracy(history,acc_metric)"
   ]
  },
  {
   "cell_type": "code",
   "execution_count": null,
   "metadata": {},
   "outputs": [
    {
     "data": {
      "text/plain": [
       "\"from keras.applications import resnet50\\n\\nresnet50_model = resnet50.ResNet50(weights='imagenet')\""
      ]
     },
     "execution_count": 23,
     "metadata": {},
     "output_type": "execute_result"
    }
   ],
   "source": [
    "'''from keras.applications import resnet50\n",
    "\n",
    "resnet50_model = resnet50.ResNet50(weights='imagenet')'''"
   ]
  }
 ],
 "metadata": {
  "kernelspec": {
   "display_name": "Python 3",
   "language": "python",
   "name": "python3"
  },
  "language_info": {
   "codemirror_mode": {
    "name": "ipython",
    "version": 3
   },
   "file_extension": ".py",
   "mimetype": "text/x-python",
   "name": "python",
   "nbconvert_exporter": "python",
   "pygments_lexer": "ipython3",
   "version": "3.11.4"
  },
  "orig_nbformat": 4
 },
 "nbformat": 4,
 "nbformat_minor": 2
}
